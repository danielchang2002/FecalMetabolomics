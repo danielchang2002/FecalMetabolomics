{
 "cells": [
  {
   "cell_type": "markdown",
   "id": "9ae979a7",
   "metadata": {},
   "source": [
    "## Setup"
   ]
  },
  {
   "cell_type": "code",
   "execution_count": 1,
   "id": "8168e90f",
   "metadata": {},
   "outputs": [
    {
     "data": {
      "text/html": [
       "<table>\n",
       "<thead><tr><th scope=col>AfterProbiotic</th><th scope=col>(12 or 13)-methylmyristate (a15:0 or i15:0)</th><th scope=col>(14 or 15)-methylpalmitate (a17:0 or i17:0)</th><th scope=col>(16 or 17)-methylstearate (a19:0 or i19:0)</th><th scope=col>(3'-5')-adenylyladenosine*</th><th scope=col>(3'-5')-adenylylcytidine</th><th scope=col>(3'-5')-adenylyluridine</th><th scope=col>(3'-5')-cytidylylcytidine*</th><th scope=col>(3'-5')-cytidylylguanosine</th><th scope=col>(3'-5')-cytidylyluridine*</th><th scope=col>...</th><th scope=col>sedoheptulose</th><th scope=col>suberate (C8-DC)</th><th scope=col>succinate</th><th scope=col>succinimide</th><th scope=col>threonate</th><th scope=col>tricarballylate</th><th scope=col>urate</th><th scope=col>xylose</th><th scope=col>mouseID</th><th scope=col>isMale</th></tr></thead>\n",
       "<tbody>\n",
       "\t<tr><td>0           </td><td>0.09769943  </td><td>0.03126430  </td><td>0.01175118  </td><td>0.0025300513</td><td>0.0015953406</td><td>0.0025319685</td><td>0.0026998886</td><td>0.0015221590</td><td>0.0026410562</td><td>...         </td><td>0.04072892  </td><td>0.02473527  </td><td>0.3473332   </td><td>0.02198092  </td><td>0.15567713  </td><td>0.24143204  </td><td>0.04836660  </td><td>0.14906799  </td><td>1           </td><td>1           </td></tr>\n",
       "\t<tr><td>1           </td><td>0.15894081  </td><td>0.03345032  </td><td>0.01087362  </td><td>0.0006593277</td><td>0.0006593277</td><td>0.0006593277</td><td>0.0006593277</td><td>0.0006593277</td><td>0.0012362812</td><td>...         </td><td>0.03418842  </td><td>0.04274254  </td><td>0.3746433   </td><td>0.03385185  </td><td>0.08829207  </td><td>0.07861127  </td><td>0.04443141  </td><td>0.18018382  </td><td>1           </td><td>1           </td></tr>\n",
       "\t<tr><td>0           </td><td>0.11959562  </td><td>0.03428829  </td><td>0.01158458  </td><td>0.0014854743</td><td>0.0007846236</td><td>0.0016378315</td><td>0.0018177270</td><td>0.0007846236</td><td>0.0019728938</td><td>...         </td><td>0.06084485  </td><td>0.03310305  </td><td>0.2866504   </td><td>0.03065286  </td><td>0.11693983  </td><td>0.19700936  </td><td>0.04518001  </td><td>0.16832822  </td><td>2           </td><td>1           </td></tr>\n",
       "\t<tr><td>1           </td><td>0.13091614  </td><td>0.03704059  </td><td>0.01544693  </td><td>0.0009213574</td><td>0.0009213574</td><td>0.0009213574</td><td>0.0009213574</td><td>0.0009213574</td><td>0.0009213574</td><td>...         </td><td>0.09177728  </td><td>0.03599431  </td><td>0.4429625   </td><td>0.02220815  </td><td>0.07813900  </td><td>0.10542181  </td><td>0.03251015  </td><td>0.14004571  </td><td>2           </td><td>1           </td></tr>\n",
       "\t<tr><td>0           </td><td>0.10378773  </td><td>0.03746011  </td><td>0.01454331  </td><td>0.0025258186</td><td>0.0024364777</td><td>0.0027643357</td><td>0.0035661809</td><td>0.0007091002</td><td>0.0033885674</td><td>...         </td><td>0.03437333  </td><td>0.03238493  </td><td>0.2864540   </td><td>0.02873003  </td><td>0.19599581  </td><td>0.32846756  </td><td>0.05767700  </td><td>0.07274028  </td><td>3           </td><td>1           </td></tr>\n",
       "\t<tr><td>1           </td><td>0.15449811  </td><td>0.03694344  </td><td>0.01405253  </td><td>0.0033453494</td><td>0.0022560673</td><td>0.0035784999</td><td>0.0034529102</td><td>0.0023853646</td><td>0.0035252966</td><td>...         </td><td>0.05892596  </td><td>0.04487653  </td><td>0.3616701   </td><td>0.03120959  </td><td>0.12471296  </td><td>0.13902043  </td><td>0.06309067  </td><td>0.09322475  </td><td>3           </td><td>1           </td></tr>\n",
       "\t<tr><td>0           </td><td>0.17824911  </td><td>0.04016364  </td><td>0.01589867  </td><td>0.0030008185</td><td>0.0022350649</td><td>0.0031025425</td><td>0.0030461414</td><td>0.0009414246</td><td>0.0031171519</td><td>...         </td><td>0.02181575  </td><td>0.03059914  </td><td>0.3447633   </td><td>0.02945386  </td><td>0.15395690  </td><td>0.25346776  </td><td>0.06358654  </td><td>0.11890044  </td><td>4           </td><td>0           </td></tr>\n",
       "\t<tr><td>1           </td><td>0.11162569  </td><td>0.03075153  </td><td>0.01109551  </td><td>0.0008319971</td><td>0.0008319971</td><td>0.0008319971</td><td>0.0008319971</td><td>0.0008319971</td><td>0.0008319971</td><td>...         </td><td>0.02158385  </td><td>0.03351839  </td><td>0.2456366   </td><td>0.02058728  </td><td>0.18538022  </td><td>0.15985092  </td><td>0.08296148  </td><td>0.10155370  </td><td>4           </td><td>0           </td></tr>\n",
       "\t<tr><td>0           </td><td>0.16020749  </td><td>0.03896578  </td><td>0.01305617  </td><td>0.0028324050</td><td>0.0018931417</td><td>0.0032457082</td><td>0.0009337653</td><td>0.0009337653</td><td>0.0023826135</td><td>...         </td><td>0.02633124  </td><td>0.02768154  </td><td>0.2404378   </td><td>0.02345896  </td><td>0.12133600  </td><td>0.19704572  </td><td>0.05242202  </td><td>0.28736344  </td><td>5           </td><td>0           </td></tr>\n",
       "\t<tr><td>1           </td><td>0.12925316  </td><td>0.03119683  </td><td>0.01179281  </td><td>0.0010613359</td><td>0.0010613359</td><td>0.0010613359</td><td>0.0034758482</td><td>0.0010613359</td><td>0.0035674905</td><td>...         </td><td>0.02390423  </td><td>0.03044215  </td><td>0.2163461   </td><td>0.02434295  </td><td>0.19916877  </td><td>0.17463974  </td><td>0.08163638  </td><td>0.05505979  </td><td>5           </td><td>0           </td></tr>\n",
       "</tbody>\n",
       "</table>\n"
      ],
      "text/latex": [
       "\\begin{tabular}{r|llllllllllllllllllllllllllllllllllllllllllllllllllllllllllllllllllllllllllllllllllllllllllllllllllllllllllllllllllllllllllllllllllllllllllllllllllllllllllllllllllllllllllllllllllllllllllllllllllllllllllllllllllllllllllllllllllllllllllllllllllllllllllllllllllllllllllllllllllllllllllllllllllllllllllllllllllllllllllllllllllllllllllllllllllllllllllllllllllllllllllllllllllllllllllllllllllllllllllllllllllllllllllllllllllllllllllllllllllllllllllllllllllllllllllllllllllllllllllllllllllllllllllllllllllllllllllllllllllllllllllllllllllllllllllllllllllllllllllllllllllllllllllllllllllllllllllllllllllllllllllllllllllllllllllllllllllllllllllllllllllllllllllllllllllllllllllllllllllllllllllllllllllllllllllllllllllllllllllllllllllllllllllllllllllllllllllllllllllllllllllllllllllllllllllllllllllllllllllllllllllllllllllllllllllllllllll}\n",
       " AfterProbiotic & (12 or 13)-methylmyristate (a15:0 or i15:0) & (14 or 15)-methylpalmitate (a17:0 or i17:0) & (16 or 17)-methylstearate (a19:0 or i19:0) & (3'-5')-adenylyladenosine* & (3'-5')-adenylylcytidine & (3'-5')-adenylyluridine & (3'-5')-cytidylylcytidine* & (3'-5')-cytidylylguanosine & (3'-5')-cytidylyluridine* & ... & sedoheptulose & suberate (C8-DC) & succinate & succinimide & threonate & tricarballylate & urate & xylose & mouseID & isMale\\\\\n",
       "\\hline\n",
       "\t 0            & 0.09769943   & 0.03126430   & 0.01175118   & 0.0025300513 & 0.0015953406 & 0.0025319685 & 0.0026998886 & 0.0015221590 & 0.0026410562 & ...          & 0.04072892   & 0.02473527   & 0.3473332    & 0.02198092   & 0.15567713   & 0.24143204   & 0.04836660   & 0.14906799   & 1            & 1           \\\\\n",
       "\t 1            & 0.15894081   & 0.03345032   & 0.01087362   & 0.0006593277 & 0.0006593277 & 0.0006593277 & 0.0006593277 & 0.0006593277 & 0.0012362812 & ...          & 0.03418842   & 0.04274254   & 0.3746433    & 0.03385185   & 0.08829207   & 0.07861127   & 0.04443141   & 0.18018382   & 1            & 1           \\\\\n",
       "\t 0            & 0.11959562   & 0.03428829   & 0.01158458   & 0.0014854743 & 0.0007846236 & 0.0016378315 & 0.0018177270 & 0.0007846236 & 0.0019728938 & ...          & 0.06084485   & 0.03310305   & 0.2866504    & 0.03065286   & 0.11693983   & 0.19700936   & 0.04518001   & 0.16832822   & 2            & 1           \\\\\n",
       "\t 1            & 0.13091614   & 0.03704059   & 0.01544693   & 0.0009213574 & 0.0009213574 & 0.0009213574 & 0.0009213574 & 0.0009213574 & 0.0009213574 & ...          & 0.09177728   & 0.03599431   & 0.4429625    & 0.02220815   & 0.07813900   & 0.10542181   & 0.03251015   & 0.14004571   & 2            & 1           \\\\\n",
       "\t 0            & 0.10378773   & 0.03746011   & 0.01454331   & 0.0025258186 & 0.0024364777 & 0.0027643357 & 0.0035661809 & 0.0007091002 & 0.0033885674 & ...          & 0.03437333   & 0.03238493   & 0.2864540    & 0.02873003   & 0.19599581   & 0.32846756   & 0.05767700   & 0.07274028   & 3            & 1           \\\\\n",
       "\t 1            & 0.15449811   & 0.03694344   & 0.01405253   & 0.0033453494 & 0.0022560673 & 0.0035784999 & 0.0034529102 & 0.0023853646 & 0.0035252966 & ...          & 0.05892596   & 0.04487653   & 0.3616701    & 0.03120959   & 0.12471296   & 0.13902043   & 0.06309067   & 0.09322475   & 3            & 1           \\\\\n",
       "\t 0            & 0.17824911   & 0.04016364   & 0.01589867   & 0.0030008185 & 0.0022350649 & 0.0031025425 & 0.0030461414 & 0.0009414246 & 0.0031171519 & ...          & 0.02181575   & 0.03059914   & 0.3447633    & 0.02945386   & 0.15395690   & 0.25346776   & 0.06358654   & 0.11890044   & 4            & 0           \\\\\n",
       "\t 1            & 0.11162569   & 0.03075153   & 0.01109551   & 0.0008319971 & 0.0008319971 & 0.0008319971 & 0.0008319971 & 0.0008319971 & 0.0008319971 & ...          & 0.02158385   & 0.03351839   & 0.2456366    & 0.02058728   & 0.18538022   & 0.15985092   & 0.08296148   & 0.10155370   & 4            & 0           \\\\\n",
       "\t 0            & 0.16020749   & 0.03896578   & 0.01305617   & 0.0028324050 & 0.0018931417 & 0.0032457082 & 0.0009337653 & 0.0009337653 & 0.0023826135 & ...          & 0.02633124   & 0.02768154   & 0.2404378    & 0.02345896   & 0.12133600   & 0.19704572   & 0.05242202   & 0.28736344   & 5            & 0           \\\\\n",
       "\t 1            & 0.12925316   & 0.03119683   & 0.01179281   & 0.0010613359 & 0.0010613359 & 0.0010613359 & 0.0034758482 & 0.0010613359 & 0.0035674905 & ...          & 0.02390423   & 0.03044215   & 0.2163461    & 0.02434295   & 0.19916877   & 0.17463974   & 0.08163638   & 0.05505979   & 5            & 0           \\\\\n",
       "\\end{tabular}\n"
      ],
      "text/markdown": [
       "\n",
       "| AfterProbiotic | (12 or 13)-methylmyristate (a15:0 or i15:0) | (14 or 15)-methylpalmitate (a17:0 or i17:0) | (16 or 17)-methylstearate (a19:0 or i19:0) | (3'-5')-adenylyladenosine* | (3'-5')-adenylylcytidine | (3'-5')-adenylyluridine | (3'-5')-cytidylylcytidine* | (3'-5')-cytidylylguanosine | (3'-5')-cytidylyluridine* | ... | sedoheptulose | suberate (C8-DC) | succinate | succinimide | threonate | tricarballylate | urate | xylose | mouseID | isMale |\n",
       "|---|---|---|---|---|---|---|---|---|---|---|---|---|---|---|---|---|---|---|---|---|\n",
       "| 0            | 0.09769943   | 0.03126430   | 0.01175118   | 0.0025300513 | 0.0015953406 | 0.0025319685 | 0.0026998886 | 0.0015221590 | 0.0026410562 | ...          | 0.04072892   | 0.02473527   | 0.3473332    | 0.02198092   | 0.15567713   | 0.24143204   | 0.04836660   | 0.14906799   | 1            | 1            |\n",
       "| 1            | 0.15894081   | 0.03345032   | 0.01087362   | 0.0006593277 | 0.0006593277 | 0.0006593277 | 0.0006593277 | 0.0006593277 | 0.0012362812 | ...          | 0.03418842   | 0.04274254   | 0.3746433    | 0.03385185   | 0.08829207   | 0.07861127   | 0.04443141   | 0.18018382   | 1            | 1            |\n",
       "| 0            | 0.11959562   | 0.03428829   | 0.01158458   | 0.0014854743 | 0.0007846236 | 0.0016378315 | 0.0018177270 | 0.0007846236 | 0.0019728938 | ...          | 0.06084485   | 0.03310305   | 0.2866504    | 0.03065286   | 0.11693983   | 0.19700936   | 0.04518001   | 0.16832822   | 2            | 1            |\n",
       "| 1            | 0.13091614   | 0.03704059   | 0.01544693   | 0.0009213574 | 0.0009213574 | 0.0009213574 | 0.0009213574 | 0.0009213574 | 0.0009213574 | ...          | 0.09177728   | 0.03599431   | 0.4429625    | 0.02220815   | 0.07813900   | 0.10542181   | 0.03251015   | 0.14004571   | 2            | 1            |\n",
       "| 0            | 0.10378773   | 0.03746011   | 0.01454331   | 0.0025258186 | 0.0024364777 | 0.0027643357 | 0.0035661809 | 0.0007091002 | 0.0033885674 | ...          | 0.03437333   | 0.03238493   | 0.2864540    | 0.02873003   | 0.19599581   | 0.32846756   | 0.05767700   | 0.07274028   | 3            | 1            |\n",
       "| 1            | 0.15449811   | 0.03694344   | 0.01405253   | 0.0033453494 | 0.0022560673 | 0.0035784999 | 0.0034529102 | 0.0023853646 | 0.0035252966 | ...          | 0.05892596   | 0.04487653   | 0.3616701    | 0.03120959   | 0.12471296   | 0.13902043   | 0.06309067   | 0.09322475   | 3            | 1            |\n",
       "| 0            | 0.17824911   | 0.04016364   | 0.01589867   | 0.0030008185 | 0.0022350649 | 0.0031025425 | 0.0030461414 | 0.0009414246 | 0.0031171519 | ...          | 0.02181575   | 0.03059914   | 0.3447633    | 0.02945386   | 0.15395690   | 0.25346776   | 0.06358654   | 0.11890044   | 4            | 0            |\n",
       "| 1            | 0.11162569   | 0.03075153   | 0.01109551   | 0.0008319971 | 0.0008319971 | 0.0008319971 | 0.0008319971 | 0.0008319971 | 0.0008319971 | ...          | 0.02158385   | 0.03351839   | 0.2456366    | 0.02058728   | 0.18538022   | 0.15985092   | 0.08296148   | 0.10155370   | 4            | 0            |\n",
       "| 0            | 0.16020749   | 0.03896578   | 0.01305617   | 0.0028324050 | 0.0018931417 | 0.0032457082 | 0.0009337653 | 0.0009337653 | 0.0023826135 | ...          | 0.02633124   | 0.02768154   | 0.2404378    | 0.02345896   | 0.12133600   | 0.19704572   | 0.05242202   | 0.28736344   | 5            | 0            |\n",
       "| 1            | 0.12925316   | 0.03119683   | 0.01179281   | 0.0010613359 | 0.0010613359 | 0.0010613359 | 0.0034758482 | 0.0010613359 | 0.0035674905 | ...          | 0.02390423   | 0.03044215   | 0.2163461    | 0.02434295   | 0.19916877   | 0.17463974   | 0.08163638   | 0.05505979   | 5            | 0            |\n",
       "\n"
      ],
      "text/plain": [
       "   AfterProbiotic (12 or 13)-methylmyristate (a15:0 or i15:0)\n",
       "1  0              0.09769943                                 \n",
       "2  1              0.15894081                                 \n",
       "3  0              0.11959562                                 \n",
       "4  1              0.13091614                                 \n",
       "5  0              0.10378773                                 \n",
       "6  1              0.15449811                                 \n",
       "7  0              0.17824911                                 \n",
       "8  1              0.11162569                                 \n",
       "9  0              0.16020749                                 \n",
       "10 1              0.12925316                                 \n",
       "   (14 or 15)-methylpalmitate (a17:0 or i17:0)\n",
       "1  0.03126430                                 \n",
       "2  0.03345032                                 \n",
       "3  0.03428829                                 \n",
       "4  0.03704059                                 \n",
       "5  0.03746011                                 \n",
       "6  0.03694344                                 \n",
       "7  0.04016364                                 \n",
       "8  0.03075153                                 \n",
       "9  0.03896578                                 \n",
       "10 0.03119683                                 \n",
       "   (16 or 17)-methylstearate (a19:0 or i19:0) (3'-5')-adenylyladenosine*\n",
       "1  0.01175118                                 0.0025300513              \n",
       "2  0.01087362                                 0.0006593277              \n",
       "3  0.01158458                                 0.0014854743              \n",
       "4  0.01544693                                 0.0009213574              \n",
       "5  0.01454331                                 0.0025258186              \n",
       "6  0.01405253                                 0.0033453494              \n",
       "7  0.01589867                                 0.0030008185              \n",
       "8  0.01109551                                 0.0008319971              \n",
       "9  0.01305617                                 0.0028324050              \n",
       "10 0.01179281                                 0.0010613359              \n",
       "   (3'-5')-adenylylcytidine (3'-5')-adenylyluridine (3'-5')-cytidylylcytidine*\n",
       "1  0.0015953406             0.0025319685            0.0026998886              \n",
       "2  0.0006593277             0.0006593277            0.0006593277              \n",
       "3  0.0007846236             0.0016378315            0.0018177270              \n",
       "4  0.0009213574             0.0009213574            0.0009213574              \n",
       "5  0.0024364777             0.0027643357            0.0035661809              \n",
       "6  0.0022560673             0.0035784999            0.0034529102              \n",
       "7  0.0022350649             0.0031025425            0.0030461414              \n",
       "8  0.0008319971             0.0008319971            0.0008319971              \n",
       "9  0.0018931417             0.0032457082            0.0009337653              \n",
       "10 0.0010613359             0.0010613359            0.0034758482              \n",
       "   (3'-5')-cytidylylguanosine (3'-5')-cytidylyluridine* ... sedoheptulose\n",
       "1  0.0015221590               0.0026410562              ... 0.04072892   \n",
       "2  0.0006593277               0.0012362812              ... 0.03418842   \n",
       "3  0.0007846236               0.0019728938              ... 0.06084485   \n",
       "4  0.0009213574               0.0009213574              ... 0.09177728   \n",
       "5  0.0007091002               0.0033885674              ... 0.03437333   \n",
       "6  0.0023853646               0.0035252966              ... 0.05892596   \n",
       "7  0.0009414246               0.0031171519              ... 0.02181575   \n",
       "8  0.0008319971               0.0008319971              ... 0.02158385   \n",
       "9  0.0009337653               0.0023826135              ... 0.02633124   \n",
       "10 0.0010613359               0.0035674905              ... 0.02390423   \n",
       "   suberate (C8-DC) succinate succinimide threonate  tricarballylate urate     \n",
       "1  0.02473527       0.3473332 0.02198092  0.15567713 0.24143204      0.04836660\n",
       "2  0.04274254       0.3746433 0.03385185  0.08829207 0.07861127      0.04443141\n",
       "3  0.03310305       0.2866504 0.03065286  0.11693983 0.19700936      0.04518001\n",
       "4  0.03599431       0.4429625 0.02220815  0.07813900 0.10542181      0.03251015\n",
       "5  0.03238493       0.2864540 0.02873003  0.19599581 0.32846756      0.05767700\n",
       "6  0.04487653       0.3616701 0.03120959  0.12471296 0.13902043      0.06309067\n",
       "7  0.03059914       0.3447633 0.02945386  0.15395690 0.25346776      0.06358654\n",
       "8  0.03351839       0.2456366 0.02058728  0.18538022 0.15985092      0.08296148\n",
       "9  0.02768154       0.2404378 0.02345896  0.12133600 0.19704572      0.05242202\n",
       "10 0.03044215       0.2163461 0.02434295  0.19916877 0.17463974      0.08163638\n",
       "   xylose     mouseID isMale\n",
       "1  0.14906799 1       1     \n",
       "2  0.18018382 1       1     \n",
       "3  0.16832822 2       1     \n",
       "4  0.14004571 2       1     \n",
       "5  0.07274028 3       1     \n",
       "6  0.09322475 3       1     \n",
       "7  0.11890044 4       0     \n",
       "8  0.10155370 4       0     \n",
       "9  0.28736344 5       0     \n",
       "10 0.05505979 5       0     "
      ]
     },
     "metadata": {},
     "output_type": "display_data"
    }
   ],
   "source": [
    "df = read.csv('../data/cleaned.csv', check.names=FALSE)\n",
    "df"
   ]
  },
  {
   "cell_type": "code",
   "execution_count": 2,
   "id": "23194ebc",
   "metadata": {},
   "outputs": [
    {
     "data": {
      "text/html": [
       "<ol class=list-inline>\n",
       "\t<li>'(12 or 13)-methylmyristate (a15:0 or i15:0)'</li>\n",
       "\t<li>'(14 or 15)-methylpalmitate (a17:0 or i17:0)'</li>\n",
       "\t<li>'(16 or 17)-methylstearate (a19:0 or i19:0)'</li>\n",
       "\t<li>'(3\\'-5\\')-adenylyladenosine*'</li>\n",
       "\t<li>'(3\\'-5\\')-adenylylcytidine'</li>\n",
       "\t<li>'(3\\'-5\\')-adenylyluridine'</li>\n",
       "</ol>\n"
      ],
      "text/latex": [
       "\\begin{enumerate*}\n",
       "\\item '(12 or 13)-methylmyristate (a15:0 or i15:0)'\n",
       "\\item '(14 or 15)-methylpalmitate (a17:0 or i17:0)'\n",
       "\\item '(16 or 17)-methylstearate (a19:0 or i19:0)'\n",
       "\\item '(3\\textbackslash{}'-5\\textbackslash{}')-adenylyladenosine*'\n",
       "\\item '(3\\textbackslash{}'-5\\textbackslash{}')-adenylylcytidine'\n",
       "\\item '(3\\textbackslash{}'-5\\textbackslash{}')-adenylyluridine'\n",
       "\\end{enumerate*}\n"
      ],
      "text/markdown": [
       "1. '(12 or 13)-methylmyristate (a15:0 or i15:0)'\n",
       "2. '(14 or 15)-methylpalmitate (a17:0 or i17:0)'\n",
       "3. '(16 or 17)-methylstearate (a19:0 or i19:0)'\n",
       "4. '(3\\'-5\\')-adenylyladenosine*'\n",
       "5. '(3\\'-5\\')-adenylylcytidine'\n",
       "6. '(3\\'-5\\')-adenylyluridine'\n",
       "\n",
       "\n"
      ],
      "text/plain": [
       "[1] \"(12 or 13)-methylmyristate (a15:0 or i15:0)\"\n",
       "[2] \"(14 or 15)-methylpalmitate (a17:0 or i17:0)\"\n",
       "[3] \"(16 or 17)-methylstearate (a19:0 or i19:0)\" \n",
       "[4] \"(3'-5')-adenylyladenosine*\"                 \n",
       "[5] \"(3'-5')-adenylylcytidine\"                   \n",
       "[6] \"(3'-5')-adenylyluridine\"                    "
      ]
     },
     "metadata": {},
     "output_type": "display_data"
    }
   ],
   "source": [
    "biochemicals = colnames(df)[2:824]\n",
    "head(biochemicals)"
   ]
  },
  {
   "cell_type": "markdown",
   "id": "d5a97ef0",
   "metadata": {},
   "source": [
    "## Setup helper functions for each model"
   ]
  },
  {
   "cell_type": "markdown",
   "id": "a9539e5e",
   "metadata": {
    "id": "dJgH2L5M_r3x"
   },
   "source": [
    "#### Model 1: dependent variable is metabolite; independent variable is time-point.\n"
   ]
  },
  {
   "cell_type": "code",
   "execution_count": 3,
   "id": "b34bb607",
   "metadata": {},
   "outputs": [],
   "source": [
    "get_p_val_m1 = function(dataframe, biochemIDX) {\n",
    "    # dataframe is the dataframe with all the data.\n",
    "    # biochemIDX is the column number of the metabolite used as the dependent var\n",
    "    # returns the p-value associated with the coefficient for the time point variable\n",
    "    data = dataframe[, c(1, biochemIDX)]\n",
    "    colnames(data)[2] = 'abundance'\n",
    "    model = lm(abundance ~ AfterProbiotic, data=data, family=binomial)\n",
    "    coef = coef(summary(model))[,4]\n",
    "    p_val = coef[2]\n",
    "    return (p_val)\n",
    "}"
   ]
  },
  {
   "cell_type": "code",
   "execution_count": 4,
   "id": "bc2b7ffa",
   "metadata": {},
   "outputs": [
    {
     "name": "stderr",
     "output_type": "stream",
     "text": [
      "Warning message:\n",
      "“In lm.fit(x, y, offset = offset, singular.ok = singular.ok, ...) :\n",
      " extra argument ‘family’ will be disregarded”"
     ]
    },
    {
     "data": {
      "text/html": [
       "<strong>AfterProbiotic:</strong> 0.784276389947262"
      ],
      "text/latex": [
       "\\textbf{AfterProbiotic:} 0.784276389947262"
      ],
      "text/markdown": [
       "**AfterProbiotic:** 0.784276389947262"
      ],
      "text/plain": [
       "AfterProbiotic \n",
       "     0.7842764 "
      ]
     },
     "metadata": {},
     "output_type": "display_data"
    }
   ],
   "source": [
    "# Test function on first biochemical\n",
    "get_p_val_m1(df, 2)"
   ]
  },
  {
   "cell_type": "markdown",
   "id": "51cb3454",
   "metadata": {
    "id": "od4YbCXG_v1U"
   },
   "source": [
    "#### Model 2: dependent variable is metabolite; independent variables are time-point and mouse sex."
   ]
  },
  {
   "cell_type": "code",
   "execution_count": 5,
   "id": "50d63014",
   "metadata": {},
   "outputs": [],
   "source": [
    "get_p_val_m2 = function(dataframe, biochemIDX) {\n",
    "    # dataframe is the dataframe with all the data.\n",
    "    # biochemIDX is the column number of the metabolite used as the dependent var\n",
    "    # returns the p-value associated with the coefficient for the time point variable\n",
    "    data = dataframe[, c(1, biochemIDX, 826)]\n",
    "    colnames(data)[2] = 'abundance'\n",
    "    model = lm(abundance ~ AfterProbiotic + isMale, data=data, family=binomial)\n",
    "    coef = coef(summary(model))[,4]\n",
    "    p_val_time = coef[2]\n",
    "    return (p_val_time)\n",
    "}"
   ]
  },
  {
   "cell_type": "code",
   "execution_count": 6,
   "id": "f2a2a218",
   "metadata": {},
   "outputs": [
    {
     "name": "stderr",
     "output_type": "stream",
     "text": [
      "Warning message:\n",
      "“In lm.fit(x, y, offset = offset, singular.ok = singular.ok, ...) :\n",
      " extra argument ‘family’ will be disregarded”"
     ]
    },
    {
     "data": {
      "text/html": [
       "<strong>AfterProbiotic:</strong> 0.787213578137091"
      ],
      "text/latex": [
       "\\textbf{AfterProbiotic:} 0.787213578137091"
      ],
      "text/markdown": [
       "**AfterProbiotic:** 0.787213578137091"
      ],
      "text/plain": [
       "AfterProbiotic \n",
       "     0.7872136 "
      ]
     },
     "metadata": {},
     "output_type": "display_data"
    }
   ],
   "source": [
    "# Test function on first biochemical\n",
    "get_p_val_m2(df, 2)"
   ]
  },
  {
   "cell_type": "markdown",
   "id": "05616547",
   "metadata": {},
   "source": [
    "#### Model 3: dependent variable is metabolite; independent variables are time-point and mouse sex, and also control for mouseID as a random-effect (use 'lmer' function with (1|mouseID)."
   ]
  },
  {
   "cell_type": "code",
   "execution_count": null,
   "id": "5e2ebdb6",
   "metadata": {},
   "outputs": [],
   "source": [
    "library(lmerTest)\n",
    "get_p_val_m3 = function(dataframe, biochemIDX) {\n",
    "    # dataframe is the dataframe with all the data.\n",
    "    # biochemIDX is the column number of the metabolite used as the dependent var\n",
    "    # returns the p-value associated with the coefficient for the time point variable\n",
    "    data = dataframe[, c(1, biochemIDX, 825, 826)]\n",
    "    colnames(data)[2] = 'abundance'\n",
    "    model = lmer(abundance ~ AfterProbiotic + isMale + (1|mouseID), data=data)\n",
    "    coef = coef(summary(model))[,5]\n",
    "    p_val_time = coef[2]\n",
    "    return (p_val_time)\n",
    "}"
   ]
  },
  {
   "cell_type": "code",
   "execution_count": 9,
   "id": "bafd6cb7",
   "metadata": {},
   "outputs": [
    {
     "name": "stderr",
     "output_type": "stream",
     "text": [
      "boundary (singular) fit: see ?isSingular\n"
     ]
    },
    {
     "data": {
      "text/html": [
       "<strong>AfterProbiotic:</strong> 0.787213578137202"
      ],
      "text/latex": [
       "\\textbf{AfterProbiotic:} 0.787213578137202"
      ],
      "text/markdown": [
       "**AfterProbiotic:** 0.787213578137202"
      ],
      "text/plain": [
       "AfterProbiotic \n",
       "     0.7872136 "
      ]
     },
     "metadata": {},
     "output_type": "display_data"
    }
   ],
   "source": [
    "# Test function on first biochemical\n",
    "get_p_val_m3(df, 2)"
   ]
  },
  {
   "cell_type": "code",
   "execution_count": 10,
   "id": "e128a2fb",
   "metadata": {},
   "outputs": [],
   "source": [
    "get_p_vals = function(dataframe, model_func) {\n",
    "    # dataframe is the dataframe with all the data.\n",
    "    # model_func is the function that returns the p-values for the model of interest\n",
    "    # returns the p-values associated with the time variable for each metabolite\n",
    "    p_vals = data.frame(\n",
    "        biochemical = biochemicals,\n",
    "        p_val = -1\n",
    "    )\n",
    "    print(head(p_vals))\n",
    "    for (biochemIDX in 2:824) {\n",
    "        p_val = tryCatch(\n",
    "          model_func(dataframe, biochemIDX),\n",
    "          error=function(e) {return (1)}\n",
    "        )\n",
    "        p_vals[biochemIDX - 1, 2] = p_val\n",
    "    }\n",
    "    return (p_vals)\n",
    "}"
   ]
  },
  {
   "cell_type": "markdown",
   "id": "69afddce",
   "metadata": {},
   "source": [
    "## Run the three models on the 823 metabolites"
   ]
  },
  {
   "cell_type": "code",
   "execution_count": null,
   "id": "aa40dbae",
   "metadata": {},
   "outputs": [],
   "source": [
    "p_vals_m1 = get_p_vals(df, get_p_val_m1)\n",
    "p_vals_m2 = get_p_vals(df, get_p_val_m2)\n",
    "p_vals_m3 = get_p_vals(df, get_p_val_m3)"
   ]
  },
  {
   "cell_type": "code",
   "execution_count": 12,
   "id": "f93d9075",
   "metadata": {},
   "outputs": [
    {
     "data": {
      "text/html": [
       "<table>\n",
       "<thead><tr><th scope=col>biochemical</th><th scope=col>p_val</th></tr></thead>\n",
       "<tbody>\n",
       "\t<tr><td>(12 or 13)-methylmyristate (a15:0 or i15:0)</td><td>0.7872136                                  </td></tr>\n",
       "\t<tr><td>(14 or 15)-methylpalmitate (a17:0 or i17:0)</td><td>0.2954750                                  </td></tr>\n",
       "\t<tr><td>(16 or 17)-methylstearate (a19:0 or i19:0) </td><td>0.6007737                                  </td></tr>\n",
       "\t<tr><td>(3'-5')-adenylyladenosine*                 </td><td>0.1158123                                  </td></tr>\n",
       "\t<tr><td>(3'-5')-adenylylcytidine                   </td><td>0.0801481                                  </td></tr>\n",
       "\t<tr><td>(3'-5')-adenylyluridine                    </td><td>0.1002768                                  </td></tr>\n",
       "</tbody>\n",
       "</table>\n"
      ],
      "text/latex": [
       "\\begin{tabular}{r|ll}\n",
       " biochemical & p\\_val\\\\\n",
       "\\hline\n",
       "\t (12 or 13)-methylmyristate (a15:0 or i15:0) & 0.7872136                                  \\\\\n",
       "\t (14 or 15)-methylpalmitate (a17:0 or i17:0) & 0.2954750                                  \\\\\n",
       "\t (16 or 17)-methylstearate (a19:0 or i19:0)  & 0.6007737                                  \\\\\n",
       "\t (3'-5')-adenylyladenosine*                  & 0.1158123                                  \\\\\n",
       "\t (3'-5')-adenylylcytidine                    & 0.0801481                                  \\\\\n",
       "\t (3'-5')-adenylyluridine                     & 0.1002768                                  \\\\\n",
       "\\end{tabular}\n"
      ],
      "text/markdown": [
       "\n",
       "| biochemical | p_val |\n",
       "|---|---|\n",
       "| (12 or 13)-methylmyristate (a15:0 or i15:0) | 0.7872136                                   |\n",
       "| (14 or 15)-methylpalmitate (a17:0 or i17:0) | 0.2954750                                   |\n",
       "| (16 or 17)-methylstearate (a19:0 or i19:0)  | 0.6007737                                   |\n",
       "| (3'-5')-adenylyladenosine*                  | 0.1158123                                   |\n",
       "| (3'-5')-adenylylcytidine                    | 0.0801481                                   |\n",
       "| (3'-5')-adenylyluridine                     | 0.1002768                                   |\n",
       "\n"
      ],
      "text/plain": [
       "  biochemical                                 p_val    \n",
       "1 (12 or 13)-methylmyristate (a15:0 or i15:0) 0.7872136\n",
       "2 (14 or 15)-methylpalmitate (a17:0 or i17:0) 0.2954750\n",
       "3 (16 or 17)-methylstearate (a19:0 or i19:0)  0.6007737\n",
       "4 (3'-5')-adenylyladenosine*                  0.1158123\n",
       "5 (3'-5')-adenylylcytidine                    0.0801481\n",
       "6 (3'-5')-adenylyluridine                     0.1002768"
      ]
     },
     "metadata": {},
     "output_type": "display_data"
    }
   ],
   "source": [
    "head(p_vals_m3)"
   ]
  },
  {
   "cell_type": "markdown",
   "id": "70670f8f",
   "metadata": {},
   "source": [
    "## Analysis"
   ]
  },
  {
   "cell_type": "code",
   "execution_count": 13,
   "id": "e79c65d9",
   "metadata": {},
   "outputs": [
    {
     "data": {
      "text/html": [
       "<table>\n",
       "<thead><tr><th scope=col>biochemical</th><th scope=col>p_val</th></tr></thead>\n",
       "<tbody>\n",
       "\t<tr><td>(12 or 13)-methylmyristate (a15:0 or i15:0)</td><td>0.9357310                                  </td></tr>\n",
       "\t<tr><td>(14 or 15)-methylpalmitate (a17:0 or i17:0)</td><td>0.6064238                                  </td></tr>\n",
       "\t<tr><td>(16 or 17)-methylstearate (a19:0 or i19:0) </td><td>0.8539495                                  </td></tr>\n",
       "\t<tr><td>(3'-5')-adenylyladenosine*                 </td><td>0.3841295                                  </td></tr>\n",
       "\t<tr><td>(3'-5')-adenylylcytidine                   </td><td>0.3381292                                  </td></tr>\n",
       "\t<tr><td>(3'-5')-adenylyluridine                    </td><td>0.3635794                                  </td></tr>\n",
       "</tbody>\n",
       "</table>\n"
      ],
      "text/latex": [
       "\\begin{tabular}{r|ll}\n",
       " biochemical & p\\_val\\\\\n",
       "\\hline\n",
       "\t (12 or 13)-methylmyristate (a15:0 or i15:0) & 0.9357310                                  \\\\\n",
       "\t (14 or 15)-methylpalmitate (a17:0 or i17:0) & 0.6064238                                  \\\\\n",
       "\t (16 or 17)-methylstearate (a19:0 or i19:0)  & 0.8539495                                  \\\\\n",
       "\t (3'-5')-adenylyladenosine*                  & 0.3841295                                  \\\\\n",
       "\t (3'-5')-adenylylcytidine                    & 0.3381292                                  \\\\\n",
       "\t (3'-5')-adenylyluridine                     & 0.3635794                                  \\\\\n",
       "\\end{tabular}\n"
      ],
      "text/markdown": [
       "\n",
       "| biochemical | p_val |\n",
       "|---|---|\n",
       "| (12 or 13)-methylmyristate (a15:0 or i15:0) | 0.9357310                                   |\n",
       "| (14 or 15)-methylpalmitate (a17:0 or i17:0) | 0.6064238                                   |\n",
       "| (16 or 17)-methylstearate (a19:0 or i19:0)  | 0.8539495                                   |\n",
       "| (3'-5')-adenylyladenosine*                  | 0.3841295                                   |\n",
       "| (3'-5')-adenylylcytidine                    | 0.3381292                                   |\n",
       "| (3'-5')-adenylyluridine                     | 0.3635794                                   |\n",
       "\n"
      ],
      "text/plain": [
       "  biochemical                                 p_val    \n",
       "1 (12 or 13)-methylmyristate (a15:0 or i15:0) 0.9357310\n",
       "2 (14 or 15)-methylpalmitate (a17:0 or i17:0) 0.6064238\n",
       "3 (16 or 17)-methylstearate (a19:0 or i19:0)  0.8539495\n",
       "4 (3'-5')-adenylyladenosine*                  0.3841295\n",
       "5 (3'-5')-adenylylcytidine                    0.3381292\n",
       "6 (3'-5')-adenylyluridine                     0.3635794"
      ]
     },
     "metadata": {},
     "output_type": "display_data"
    }
   ],
   "source": [
    "p_vals_m3_adjusted = data.frame(p_vals_m3)\n",
    "p_vals_m3_adjusted[, 2] = p.adjust(p_vals_m3_adjusted[,2], method='BH')\n",
    "head(p_vals_m3_adjusted)"
   ]
  },
  {
   "cell_type": "code",
   "execution_count": 14,
   "id": "092ef8f6",
   "metadata": {},
   "outputs": [
    {
     "name": "stdout",
     "output_type": "stream",
     "text": [
      "[1] 118\n"
     ]
    },
    {
     "data": {
      "text/html": [
       "<table>\n",
       "<thead><tr><th></th><th scope=col>biochemical</th><th scope=col>p_val</th></tr></thead>\n",
       "<tbody>\n",
       "\t<tr><th scope=row>344</th><td>5-methyl-2'-deoxycytidine      </td><td>0.02028685                     </td></tr>\n",
       "\t<tr><th scope=row>184</th><td>glycocholate sulfate           </td><td>0.12446353                     </td></tr>\n",
       "\t<tr><th scope=row>222</th><td>myristoleate (14:1n5)          </td><td>0.12446353                     </td></tr>\n",
       "\t<tr><th scope=row>473</th><td>N-acetyl-3-methylhistidine*    </td><td>0.12446353                     </td></tr>\n",
       "\t<tr><th scope=row>696</th><td>palmitoleoyl ethanolamide*     </td><td>0.12446353                     </td></tr>\n",
       "\t<tr><th scope=row>710</th><td>pheophytin A                   </td><td>0.12446353                     </td></tr>\n",
       "\t<tr><th scope=row>23</th><td>1-carboxyethylisoleucine       </td><td>0.13974845                     </td></tr>\n",
       "\t<tr><th scope=row>143</th><td>citrate                        </td><td>0.13974845                     </td></tr>\n",
       "\t<tr><th scope=row>149</th><td>deoxycholate                   </td><td>0.13974845                     </td></tr>\n",
       "\t<tr><th scope=row>217</th><td>lithocholate                   </td><td>0.13974845                     </td></tr>\n",
       "\t<tr><th scope=row>528</th><td>serotonin                      </td><td>0.13974845                     </td></tr>\n",
       "\t<tr><th scope=row>532</th><td>succinylcarnitine (C4-DC)      </td><td>0.13974845                     </td></tr>\n",
       "\t<tr><th scope=row>111</th><td>5-hydroxyhexanoate             </td><td>0.14593580                     </td></tr>\n",
       "\t<tr><th scope=row>112</th><td>5-methyluridine (ribothymidine)</td><td>0.14593580                     </td></tr>\n",
       "\t<tr><th scope=row>126</th><td>alpha-muricholate              </td><td>0.14593580                     </td></tr>\n",
       "</tbody>\n",
       "</table>\n"
      ],
      "text/latex": [
       "\\begin{tabular}{r|ll}\n",
       "  & biochemical & p\\_val\\\\\n",
       "\\hline\n",
       "\t344 & 5-methyl-2'-deoxycytidine       & 0.02028685                     \\\\\n",
       "\t184 & glycocholate sulfate            & 0.12446353                     \\\\\n",
       "\t222 & myristoleate (14:1n5)           & 0.12446353                     \\\\\n",
       "\t473 & N-acetyl-3-methylhistidine*     & 0.12446353                     \\\\\n",
       "\t696 & palmitoleoyl ethanolamide*      & 0.12446353                     \\\\\n",
       "\t710 & pheophytin A                    & 0.12446353                     \\\\\n",
       "\t23 & 1-carboxyethylisoleucine        & 0.13974845                     \\\\\n",
       "\t143 & citrate                         & 0.13974845                     \\\\\n",
       "\t149 & deoxycholate                    & 0.13974845                     \\\\\n",
       "\t217 & lithocholate                    & 0.13974845                     \\\\\n",
       "\t528 & serotonin                       & 0.13974845                     \\\\\n",
       "\t532 & succinylcarnitine (C4-DC)       & 0.13974845                     \\\\\n",
       "\t111 & 5-hydroxyhexanoate              & 0.14593580                     \\\\\n",
       "\t112 & 5-methyluridine (ribothymidine) & 0.14593580                     \\\\\n",
       "\t126 & alpha-muricholate               & 0.14593580                     \\\\\n",
       "\\end{tabular}\n"
      ],
      "text/markdown": [
       "\n",
       "| <!--/--> | biochemical | p_val |\n",
       "|---|---|---|\n",
       "| 344 | 5-methyl-2'-deoxycytidine       | 0.02028685                      |\n",
       "| 184 | glycocholate sulfate            | 0.12446353                      |\n",
       "| 222 | myristoleate (14:1n5)           | 0.12446353                      |\n",
       "| 473 | N-acetyl-3-methylhistidine*     | 0.12446353                      |\n",
       "| 696 | palmitoleoyl ethanolamide*      | 0.12446353                      |\n",
       "| 710 | pheophytin A                    | 0.12446353                      |\n",
       "| 23 | 1-carboxyethylisoleucine        | 0.13974845                      |\n",
       "| 143 | citrate                         | 0.13974845                      |\n",
       "| 149 | deoxycholate                    | 0.13974845                      |\n",
       "| 217 | lithocholate                    | 0.13974845                      |\n",
       "| 528 | serotonin                       | 0.13974845                      |\n",
       "| 532 | succinylcarnitine (C4-DC)       | 0.13974845                      |\n",
       "| 111 | 5-hydroxyhexanoate              | 0.14593580                      |\n",
       "| 112 | 5-methyluridine (ribothymidine) | 0.14593580                      |\n",
       "| 126 | alpha-muricholate               | 0.14593580                      |\n",
       "\n"
      ],
      "text/plain": [
       "    biochemical                     p_val     \n",
       "344 5-methyl-2'-deoxycytidine       0.02028685\n",
       "184 glycocholate sulfate            0.12446353\n",
       "222 myristoleate (14:1n5)           0.12446353\n",
       "473 N-acetyl-3-methylhistidine*     0.12446353\n",
       "696 palmitoleoyl ethanolamide*      0.12446353\n",
       "710 pheophytin A                    0.12446353\n",
       "23  1-carboxyethylisoleucine        0.13974845\n",
       "143 citrate                         0.13974845\n",
       "149 deoxycholate                    0.13974845\n",
       "217 lithocholate                    0.13974845\n",
       "528 serotonin                       0.13974845\n",
       "532 succinylcarnitine (C4-DC)       0.13974845\n",
       "111 5-hydroxyhexanoate              0.14593580\n",
       "112 5-methyluridine (ribothymidine) 0.14593580\n",
       "126 alpha-muricholate               0.14593580"
      ]
     },
     "metadata": {},
     "output_type": "display_data"
    }
   ],
   "source": [
    "p_vals_m3_sig = p_vals_m3_adjusted[p_vals_m3_adjusted[, 'p_val'] <= 0.20,]\n",
    "ordered = p_vals_m3_sig[order(p_vals_m3_sig$p_val),]\n",
    "print(nrow(ordered))\n",
    "head(ordered, 15)"
   ]
  },
  {
   "cell_type": "code",
   "execution_count": 14,
   "id": "ed02316b",
   "metadata": {},
   "outputs": [],
   "source": [
    "write.csv(ordered, '../output/p_vals_m3.csv', row.names=FALSE)"
   ]
  },
  {
   "cell_type": "markdown",
   "id": "1dbf5220",
   "metadata": {},
   "source": [
    "## Calculate pre/post means for significant metabolites"
   ]
  },
  {
   "cell_type": "code",
   "execution_count": 20,
   "id": "146ab985",
   "metadata": {},
   "outputs": [
    {
     "name": "stdout",
     "output_type": "stream",
     "text": [
      "[1] 823\n"
     ]
    },
    {
     "data": {
      "text/html": [
       "<ol class=list-inline>\n",
       "\t<li>0.00608805312597972</li>\n",
       "\t<li>0.00314036860556407</li>\n",
       "\t<li>0.0341120722943963</li>\n",
       "\t<li>0.0136133489856406</li>\n",
       "\t<li>0.0319389880807366</li>\n",
       "</ol>\n"
      ],
      "text/latex": [
       "\\begin{enumerate*}\n",
       "\\item 0.00608805312597972\n",
       "\\item 0.00314036860556407\n",
       "\\item 0.0341120722943963\n",
       "\\item 0.0136133489856406\n",
       "\\item 0.0319389880807366\n",
       "\\end{enumerate*}\n"
      ],
      "text/markdown": [
       "1. 0.00608805312597972\n",
       "2. 0.00314036860556407\n",
       "3. 0.0341120722943963\n",
       "4. 0.0136133489856406\n",
       "5. 0.0319389880807366\n",
       "\n",
       "\n"
      ],
      "text/plain": [
       "[1] 0.006088053 0.003140369 0.034112072 0.013613349 0.031938988"
      ]
     },
     "metadata": {},
     "output_type": "display_data"
    }
   ],
   "source": [
    "pre = subset(df, AfterProbiotic == 0)[, 2:824]\n",
    "pre = subset(pre, select=biochemicals_order)\n",
    "print(ncol(pre))\n",
    "pre_means = as.vector(colMeans(pre))\n",
    "pre_means[1:5]"
   ]
  },
  {
   "cell_type": "code",
   "execution_count": 21,
   "id": "0e625655",
   "metadata": {},
   "outputs": [
    {
     "name": "stdout",
     "output_type": "stream",
     "text": [
      "[1] 823\n"
     ]
    },
    {
     "data": {
      "text/html": [
       "<ol class=list-inline>\n",
       "\t<li>0.00838449824293156</li>\n",
       "\t<li>0.00120225431798613</li>\n",
       "\t<li>0.027995220737088</li>\n",
       "\t<li>0.018672667423365</li>\n",
       "\t<li>0.0205930153680816</li>\n",
       "</ol>\n"
      ],
      "text/latex": [
       "\\begin{enumerate*}\n",
       "\\item 0.00838449824293156\n",
       "\\item 0.00120225431798613\n",
       "\\item 0.027995220737088\n",
       "\\item 0.018672667423365\n",
       "\\item 0.0205930153680816\n",
       "\\end{enumerate*}\n"
      ],
      "text/markdown": [
       "1. 0.00838449824293156\n",
       "2. 0.00120225431798613\n",
       "3. 0.027995220737088\n",
       "4. 0.018672667423365\n",
       "5. 0.0205930153680816\n",
       "\n",
       "\n"
      ],
      "text/plain": [
       "[1] 0.008384498 0.001202254 0.027995221 0.018672667 0.020593015"
      ]
     },
     "metadata": {},
     "output_type": "display_data"
    }
   ],
   "source": [
    "post = subset(df, AfterProbiotic == 1)[, 2:824]\n",
    "post = subset(post, select=biochemicals_order)\n",
    "print(ncol(post))\n",
    "post_means = as.vector(colMeans(post))\n",
    "post_means[1:5]"
   ]
  },
  {
   "cell_type": "code",
   "execution_count": 22,
   "id": "c6e2a37b",
   "metadata": {},
   "outputs": [
    {
     "data": {
      "text/html": [
       "<table>\n",
       "<thead><tr><th></th><th scope=col>Biochemical Name</th><th scope=col>adj-P-value (BH)</th><th scope=col>mean (Pre)</th><th scope=col>mean (Post)</th></tr></thead>\n",
       "<tbody>\n",
       "\t<tr><th scope=row>344</th><td>5-methyl-2'-deoxycytidine  </td><td>0.02028685                 </td><td>0.006088053                </td><td>0.008384498                </td></tr>\n",
       "\t<tr><th scope=row>184</th><td>glycocholate sulfate       </td><td>0.12446353                 </td><td>0.003140369                </td><td>0.001202254                </td></tr>\n",
       "\t<tr><th scope=row>222</th><td>myristoleate (14:1n5)      </td><td>0.12446353                 </td><td>0.034112072                </td><td>0.027995221                </td></tr>\n",
       "\t<tr><th scope=row>473</th><td>N-acetyl-3-methylhistidine*</td><td>0.12446353                 </td><td>0.013613349                </td><td>0.018672667                </td></tr>\n",
       "\t<tr><th scope=row>696</th><td>palmitoleoyl ethanolamide* </td><td>0.12446353                 </td><td>0.031938988                </td><td>0.020593015                </td></tr>\n",
       "\t<tr><th scope=row>710</th><td>pheophytin A               </td><td>0.12446353                 </td><td>0.055106928                </td><td>0.033595361                </td></tr>\n",
       "</tbody>\n",
       "</table>\n"
      ],
      "text/latex": [
       "\\begin{tabular}{r|llll}\n",
       "  & Biochemical Name & adj-P-value (BH) & mean (Pre) & mean (Post)\\\\\n",
       "\\hline\n",
       "\t344 & 5-methyl-2'-deoxycytidine   & 0.02028685                  & 0.006088053                 & 0.008384498                \\\\\n",
       "\t184 & glycocholate sulfate        & 0.12446353                  & 0.003140369                 & 0.001202254                \\\\\n",
       "\t222 & myristoleate (14:1n5)       & 0.12446353                  & 0.034112072                 & 0.027995221                \\\\\n",
       "\t473 & N-acetyl-3-methylhistidine* & 0.12446353                  & 0.013613349                 & 0.018672667                \\\\\n",
       "\t696 & palmitoleoyl ethanolamide*  & 0.12446353                  & 0.031938988                 & 0.020593015                \\\\\n",
       "\t710 & pheophytin A                & 0.12446353                  & 0.055106928                 & 0.033595361                \\\\\n",
       "\\end{tabular}\n"
      ],
      "text/markdown": [
       "\n",
       "| <!--/--> | Biochemical Name | adj-P-value (BH) | mean (Pre) | mean (Post) |\n",
       "|---|---|---|---|---|\n",
       "| 344 | 5-methyl-2'-deoxycytidine   | 0.02028685                  | 0.006088053                 | 0.008384498                 |\n",
       "| 184 | glycocholate sulfate        | 0.12446353                  | 0.003140369                 | 0.001202254                 |\n",
       "| 222 | myristoleate (14:1n5)       | 0.12446353                  | 0.034112072                 | 0.027995221                 |\n",
       "| 473 | N-acetyl-3-methylhistidine* | 0.12446353                  | 0.013613349                 | 0.018672667                 |\n",
       "| 696 | palmitoleoyl ethanolamide*  | 0.12446353                  | 0.031938988                 | 0.020593015                 |\n",
       "| 710 | pheophytin A                | 0.12446353                  | 0.055106928                 | 0.033595361                 |\n",
       "\n"
      ],
      "text/plain": [
       "    Biochemical Name            adj-P-value (BH) mean (Pre)  mean (Post)\n",
       "344 5-methyl-2'-deoxycytidine   0.02028685       0.006088053 0.008384498\n",
       "184 glycocholate sulfate        0.12446353       0.003140369 0.001202254\n",
       "222 myristoleate (14:1n5)       0.12446353       0.034112072 0.027995221\n",
       "473 N-acetyl-3-methylhistidine* 0.12446353       0.013613349 0.018672667\n",
       "696 palmitoleoyl ethanolamide*  0.12446353       0.031938988 0.020593015\n",
       "710 pheophytin A                0.12446353       0.055106928 0.033595361"
      ]
     },
     "metadata": {},
     "output_type": "display_data"
    }
   ],
   "source": [
    "means = data.frame(\n",
    "    means_pre = pre_means,\n",
    "    means_post = post_means\n",
    ")\n",
    "output = cbind(ordered_all, means)\n",
    "colnames(output) = c(\"Biochemical Name\", \"adj-P-value (BH)\", \"mean (Pre)\", \"mean (Post)\")\n",
    "head(output)"
   ]
  },
  {
   "cell_type": "code",
   "execution_count": 23,
   "id": "43256ab5",
   "metadata": {},
   "outputs": [],
   "source": [
    "write.csv(output, '../output/p_vals_all_means.csv', row.names=FALSE)"
   ]
  },
  {
   "cell_type": "code",
   "execution_count": null,
   "id": "65f538a9",
   "metadata": {},
   "outputs": [],
   "source": []
  }
 ],
 "metadata": {
  "kernelspec": {
   "display_name": "R",
   "language": "R",
   "name": "ir"
  },
  "language_info": {
   "codemirror_mode": "r",
   "file_extension": ".r",
   "mimetype": "text/x-r-source",
   "name": "R",
   "pygments_lexer": "r",
   "version": "3.6.1"
  }
 },
 "nbformat": 4,
 "nbformat_minor": 5
}
