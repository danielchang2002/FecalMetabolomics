{
 "cells": [
  {
   "cell_type": "markdown",
   "metadata": {
    "id": "g8yBOaM0lesZ"
   },
   "source": [
    "## Load and clean data"
   ]
  },
  {
   "cell_type": "code",
   "execution_count": 2,
   "metadata": {},
   "outputs": [],
   "source": [
    "# run only if jupyterthemes installed\n",
    "from jupyterthemes import jtplot\n",
    "jtplot.style(theme='gruvboxd')\n",
    "jtplot.style(context='talk', fscale=1.4, spines=False, gridlines='--')\n",
    "jtplot.style(ticks=True, grid=False, figsize=(6, 4.5))\n",
    "jtplot.reset()"
   ]
  },
  {
   "cell_type": "code",
   "execution_count": 3,
   "metadata": {
    "colab": {
     "base_uri": "https://localhost:8080/",
     "height": 204
    },
    "id": "1j0WGZ-uiv6D",
    "outputId": "507786f1-ff70-4ceb-8069-ef52f983f45e"
   },
   "outputs": [
    {
     "data": {
      "text/html": [
       "<div>\n",
       "<style scoped>\n",
       "    .dataframe tbody tr th:only-of-type {\n",
       "        vertical-align: middle;\n",
       "    }\n",
       "\n",
       "    .dataframe tbody tr th {\n",
       "        vertical-align: top;\n",
       "    }\n",
       "\n",
       "    .dataframe thead th {\n",
       "        text-align: right;\n",
       "    }\n",
       "</style>\n",
       "<table border=\"1\" class=\"dataframe\">\n",
       "  <thead>\n",
       "    <tr style=\"text-align: right;\">\n",
       "      <th></th>\n",
       "      <th>1</th>\n",
       "      <th>5</th>\n",
       "      <th>13</th>\n",
       "      <th>14</th>\n",
       "      <th>15</th>\n",
       "      <th>16</th>\n",
       "      <th>17</th>\n",
       "      <th>18</th>\n",
       "      <th>19</th>\n",
       "      <th>20</th>\n",
       "      <th>21</th>\n",
       "      <th>22</th>\n",
       "    </tr>\n",
       "  </thead>\n",
       "  <tbody>\n",
       "    <tr>\n",
       "      <th>0</th>\n",
       "      <td>NaN</td>\n",
       "      <td>NaN</td>\n",
       "      <td>Day 7</td>\n",
       "      <td>Week 12</td>\n",
       "      <td>Day 7</td>\n",
       "      <td>Week 12</td>\n",
       "      <td>Day 7</td>\n",
       "      <td>Week 12</td>\n",
       "      <td>Day 7</td>\n",
       "      <td>Week 12</td>\n",
       "      <td>Day 7</td>\n",
       "      <td>Week 12</td>\n",
       "    </tr>\n",
       "    <tr>\n",
       "      <th>1</th>\n",
       "      <td>(12 or 13)-methylmyristate (a15:0 or i15:0)</td>\n",
       "      <td>LC/MS Neg</td>\n",
       "      <td>127452336</td>\n",
       "      <td>398733600</td>\n",
       "      <td>194414640</td>\n",
       "      <td>205534192</td>\n",
       "      <td>190075648</td>\n",
       "      <td>368667328</td>\n",
       "      <td>363972864</td>\n",
       "      <td>177412320</td>\n",
       "      <td>261315008</td>\n",
       "      <td>267093568</td>\n",
       "    </tr>\n",
       "    <tr>\n",
       "      <th>2</th>\n",
       "      <td>(14 or 15)-methylpalmitate (a17:0 or i17:0)</td>\n",
       "      <td>LC/MS Neg</td>\n",
       "      <td>13088862</td>\n",
       "      <td>17803722</td>\n",
       "      <td>16050609</td>\n",
       "      <td>16540071</td>\n",
       "      <td>24838720</td>\n",
       "      <td>21238488</td>\n",
       "      <td>18666004</td>\n",
       "      <td>13516261</td>\n",
       "      <td>15583477</td>\n",
       "      <td>15641594</td>\n",
       "    </tr>\n",
       "    <tr>\n",
       "      <th>3</th>\n",
       "      <td>(16 or 17)-methylstearate (a19:0 or i19:0)</td>\n",
       "      <td>LC/MS Neg</td>\n",
       "      <td>1849648</td>\n",
       "      <td>1881931</td>\n",
       "      <td>1832783</td>\n",
       "      <td>2877598</td>\n",
       "      <td>3745333</td>\n",
       "      <td>3074163</td>\n",
       "      <td>2926198</td>\n",
       "      <td>1760097</td>\n",
       "      <td>1750348</td>\n",
       "      <td>2235711</td>\n",
       "    </tr>\n",
       "    <tr>\n",
       "      <th>4</th>\n",
       "      <td>(3'-5')-adenylyladenosine*</td>\n",
       "      <td>LC/MS Neg</td>\n",
       "      <td>85744</td>\n",
       "      <td>NaN</td>\n",
       "      <td>30137</td>\n",
       "      <td>NaN</td>\n",
       "      <td>112979</td>\n",
       "      <td>174232</td>\n",
       "      <td>104255</td>\n",
       "      <td>NaN</td>\n",
       "      <td>82381</td>\n",
       "      <td>NaN</td>\n",
       "    </tr>\n",
       "  </tbody>\n",
       "</table>\n",
       "</div>"
      ],
      "text/plain": [
       "                                            1          5          13  \\\n",
       "0                                          NaN        NaN      Day 7   \n",
       "1  (12 or 13)-methylmyristate (a15:0 or i15:0)  LC/MS Neg  127452336   \n",
       "2  (14 or 15)-methylpalmitate (a17:0 or i17:0)  LC/MS Neg   13088862   \n",
       "3   (16 or 17)-methylstearate (a19:0 or i19:0)  LC/MS Neg    1849648   \n",
       "4                   (3'-5')-adenylyladenosine*  LC/MS Neg      85744   \n",
       "\n",
       "          14         15         16         17         18         19  \\\n",
       "0    Week 12      Day 7    Week 12      Day 7    Week 12      Day 7   \n",
       "1  398733600  194414640  205534192  190075648  368667328  363972864   \n",
       "2   17803722   16050609   16540071   24838720   21238488   18666004   \n",
       "3    1881931    1832783    2877598    3745333    3074163    2926198   \n",
       "4        NaN      30137        NaN     112979     174232     104255   \n",
       "\n",
       "          20         21         22  \n",
       "0    Week 12      Day 7    Week 12  \n",
       "1  177412320  261315008  267093568  \n",
       "2   13516261   15583477   15641594  \n",
       "3    1760097    1750348    2235711  \n",
       "4        NaN      82381        NaN  "
      ]
     },
     "execution_count": 3,
     "metadata": {},
     "output_type": "execute_result"
    }
   ],
   "source": [
    "import os\n",
    "cwd = os.getcwd()\n",
    "\n",
    "import pandas as pd\n",
    "\n",
    "# read excel spreadsheet into a dataframe\n",
    "raw = pd.read_excel(cwd + '/MAYO-01-17VW Client Data Tables and Stats Mouse Feces.xlsx', \n",
    "                    header=None, sheet_name=1, usecols=\"B, F, N:W\", \n",
    "                    skiprows=lambda x: x in [0, 1, 2, 3, 4, 6],\n",
    "                   engine = 'openpyxl')\n",
    "raw.head()"
   ]
  },
  {
   "cell_type": "code",
   "execution_count": 4,
   "metadata": {
    "id": "3baPg2FJb11a"
   },
   "outputs": [],
   "source": [
    "platforms = ['LC/MS Neg', 'LC/MS Pos Early', 'LC/MS Pos Late', 'LC/MS Polar']\n",
    "\n",
    "def clean(df):\n",
    "  \"\"\"\n",
    "  Processes the raw excel spreadsheet dataframe with pandas. Returns a dict\n",
    "  that has keys that correspond to mass spec platforms and values that correspond\n",
    "  to the matrix with the columns representing the metabolite measurements \n",
    "  that were obtained with that platform\n",
    "  \"\"\"\n",
    "  sampleDict = {}\n",
    "  firstRow = df.iloc[[0], :]\n",
    "\n",
    "  for platform in platforms:\n",
    "    platformSample = pd.concat((firstRow, df[df[5] == platform]))\n",
    "    platformSample = platformSample.drop(labels=[5], axis=1)\n",
    "  \n",
    "    transposed = platformSample.transpose()\n",
    "    transposed.reset_index(drop=True, inplace=True)\n",
    "  \n",
    "    # use first row as header\n",
    "    # https://stackoverflow.com/a/31328974/14772896\n",
    "    new_header = transposed.iloc[0] #grab the first row for the header\n",
    "    transposed = transposed[1:] #take the data less the header row\n",
    "    transposed.columns = new_header #set the header row as the df header\n",
    "    transposed.reset_index(drop=True, inplace=True)\n",
    "  \n",
    "    # Make a target column based on whether or not the sample was taken in Week 12\n",
    "    transposed.insert(0, 'AfterProbiotic', transposed.iloc[:, 0] == 'Week 12', allow_duplicates=False)\n",
    "    transposed = transposed.loc[:, transposed.columns.notnull()]\n",
    "    transposed.index.name = None\n",
    "\n",
    "    transposed.iloc[:, 0] = transposed.iloc[:, 0].astype(int)\n",
    "    sampleDict[platform] = transposed.apply(pd.to_numeric)\n",
    "  return sampleDict"
   ]
  },
  {
   "cell_type": "code",
   "execution_count": 5,
   "metadata": {
    "colab": {
     "base_uri": "https://localhost:8080/",
     "height": 338
    },
    "id": "XpA7UNkCjLYU",
    "outputId": "a98d7021-95b8-4dd6-ad7f-4790de8a54a3"
   },
   "outputs": [
    {
     "data": {
      "text/html": [
       "<div>\n",
       "<style scoped>\n",
       "    .dataframe tbody tr th:only-of-type {\n",
       "        vertical-align: middle;\n",
       "    }\n",
       "\n",
       "    .dataframe tbody tr th {\n",
       "        vertical-align: top;\n",
       "    }\n",
       "\n",
       "    .dataframe thead th {\n",
       "        text-align: right;\n",
       "    }\n",
       "</style>\n",
       "<table border=\"1\" class=\"dataframe\">\n",
       "  <thead>\n",
       "    <tr style=\"text-align: right;\">\n",
       "      <th></th>\n",
       "      <th>AfterProbiotic</th>\n",
       "      <th>(12 or 13)-methylmyristate (a15:0 or i15:0)</th>\n",
       "      <th>(14 or 15)-methylpalmitate (a17:0 or i17:0)</th>\n",
       "      <th>(16 or 17)-methylstearate (a19:0 or i19:0)</th>\n",
       "      <th>(3'-5')-adenylyladenosine*</th>\n",
       "      <th>(3'-5')-adenylylcytidine</th>\n",
       "      <th>(3'-5')-adenylyluridine</th>\n",
       "      <th>(3'-5')-cytidylylcytidine*</th>\n",
       "      <th>(3'-5')-cytidylylguanosine</th>\n",
       "      <th>(3'-5')-cytidylyluridine*</th>\n",
       "      <th>...</th>\n",
       "      <th>undecanedioate (C11-DC)</th>\n",
       "      <th>uridine</th>\n",
       "      <th>uridine-2',3'-cyclic monophosphate</th>\n",
       "      <th>ursocholate</th>\n",
       "      <th>valerate (5:0)</th>\n",
       "      <th>valerylglycine</th>\n",
       "      <th>vanillactate</th>\n",
       "      <th>vanillate</th>\n",
       "      <th>xanthosine</th>\n",
       "      <th>xanthurenate</th>\n",
       "    </tr>\n",
       "  </thead>\n",
       "  <tbody>\n",
       "    <tr>\n",
       "      <th>0</th>\n",
       "      <td>0</td>\n",
       "      <td>127452336</td>\n",
       "      <td>13088862</td>\n",
       "      <td>1849648</td>\n",
       "      <td>85744.0000</td>\n",
       "      <td>34092.0</td>\n",
       "      <td>85874.0</td>\n",
       "      <td>97642.0000</td>\n",
       "      <td>31036.0</td>\n",
       "      <td>93433.0000</td>\n",
       "      <td>...</td>\n",
       "      <td>660328.000</td>\n",
       "      <td>33665008.0</td>\n",
       "      <td>69467.0000</td>\n",
       "      <td>17629108</td>\n",
       "      <td>3713509</td>\n",
       "      <td>5598799.0</td>\n",
       "      <td>141336.0000</td>\n",
       "      <td>1.937091e+06</td>\n",
       "      <td>168667.0000</td>\n",
       "      <td>4.616876e+06</td>\n",
       "    </tr>\n",
       "    <tr>\n",
       "      <th>1</th>\n",
       "      <td>1</td>\n",
       "      <td>398733600</td>\n",
       "      <td>17803722</td>\n",
       "      <td>1881931</td>\n",
       "      <td>NaN</td>\n",
       "      <td>NaN</td>\n",
       "      <td>NaN</td>\n",
       "      <td>NaN</td>\n",
       "      <td>NaN</td>\n",
       "      <td>24328.0000</td>\n",
       "      <td>...</td>\n",
       "      <td>997748.000</td>\n",
       "      <td>6564965.5</td>\n",
       "      <td>NaN</td>\n",
       "      <td>45081784</td>\n",
       "      <td>3678150</td>\n",
       "      <td>691263.0</td>\n",
       "      <td>NaN</td>\n",
       "      <td>4.572610e+05</td>\n",
       "      <td>23525.0000</td>\n",
       "      <td>1.409255e+06</td>\n",
       "    </tr>\n",
       "    <tr>\n",
       "      <th>2</th>\n",
       "      <td>0</td>\n",
       "      <td>194414640</td>\n",
       "      <td>16050609</td>\n",
       "      <td>1832783</td>\n",
       "      <td>30136.9980</td>\n",
       "      <td>NaN</td>\n",
       "      <td>36636.0</td>\n",
       "      <td>45126.0000</td>\n",
       "      <td>NaN</td>\n",
       "      <td>53159.0039</td>\n",
       "      <td>...</td>\n",
       "      <td>806952.000</td>\n",
       "      <td>23000954.0</td>\n",
       "      <td>54292.9961</td>\n",
       "      <td>20868878</td>\n",
       "      <td>12475891</td>\n",
       "      <td>2339856.0</td>\n",
       "      <td>60392.0039</td>\n",
       "      <td>1.033449e+06</td>\n",
       "      <td>114592.0000</td>\n",
       "      <td>1.971338e+06</td>\n",
       "    </tr>\n",
       "    <tr>\n",
       "      <th>3</th>\n",
       "      <td>1</td>\n",
       "      <td>205534192</td>\n",
       "      <td>16540071</td>\n",
       "      <td>2877598</td>\n",
       "      <td>NaN</td>\n",
       "      <td>NaN</td>\n",
       "      <td>NaN</td>\n",
       "      <td>NaN</td>\n",
       "      <td>NaN</td>\n",
       "      <td>NaN</td>\n",
       "      <td>...</td>\n",
       "      <td>1826000.125</td>\n",
       "      <td>11619855.0</td>\n",
       "      <td>NaN</td>\n",
       "      <td>43900560</td>\n",
       "      <td>7151141</td>\n",
       "      <td>420003.0</td>\n",
       "      <td>38306.0000</td>\n",
       "      <td>2.474280e+05</td>\n",
       "      <td>323089.0000</td>\n",
       "      <td>1.017439e+06</td>\n",
       "    </tr>\n",
       "    <tr>\n",
       "      <th>4</th>\n",
       "      <td>0</td>\n",
       "      <td>190075648</td>\n",
       "      <td>24838720</td>\n",
       "      <td>3745333</td>\n",
       "      <td>112979.0078</td>\n",
       "      <td>105128.0</td>\n",
       "      <td>135324.0</td>\n",
       "      <td>225216.0156</td>\n",
       "      <td>NaN</td>\n",
       "      <td>203341.0000</td>\n",
       "      <td>...</td>\n",
       "      <td>815633.000</td>\n",
       "      <td>38883532.0</td>\n",
       "      <td>280257.0000</td>\n",
       "      <td>20869146</td>\n",
       "      <td>11350769</td>\n",
       "      <td>9800247.0</td>\n",
       "      <td>142499.0000</td>\n",
       "      <td>1.750452e+06</td>\n",
       "      <td>174361.9844</td>\n",
       "      <td>6.399171e+06</td>\n",
       "    </tr>\n",
       "  </tbody>\n",
       "</table>\n",
       "<p>5 rows × 307 columns</p>\n",
       "</div>"
      ],
      "text/plain": [
       "0  AfterProbiotic  (12 or 13)-methylmyristate (a15:0 or i15:0)  \\\n",
       "0               0                                    127452336   \n",
       "1               1                                    398733600   \n",
       "2               0                                    194414640   \n",
       "3               1                                    205534192   \n",
       "4               0                                    190075648   \n",
       "\n",
       "0  (14 or 15)-methylpalmitate (a17:0 or i17:0)  \\\n",
       "0                                     13088862   \n",
       "1                                     17803722   \n",
       "2                                     16050609   \n",
       "3                                     16540071   \n",
       "4                                     24838720   \n",
       "\n",
       "0  (16 or 17)-methylstearate (a19:0 or i19:0)  (3'-5')-adenylyladenosine*  \\\n",
       "0                                     1849648                  85744.0000   \n",
       "1                                     1881931                         NaN   \n",
       "2                                     1832783                  30136.9980   \n",
       "3                                     2877598                         NaN   \n",
       "4                                     3745333                 112979.0078   \n",
       "\n",
       "0  (3'-5')-adenylylcytidine  (3'-5')-adenylyluridine  \\\n",
       "0                   34092.0                  85874.0   \n",
       "1                       NaN                      NaN   \n",
       "2                       NaN                  36636.0   \n",
       "3                       NaN                      NaN   \n",
       "4                  105128.0                 135324.0   \n",
       "\n",
       "0  (3'-5')-cytidylylcytidine*  (3'-5')-cytidylylguanosine  \\\n",
       "0                  97642.0000                     31036.0   \n",
       "1                         NaN                         NaN   \n",
       "2                  45126.0000                         NaN   \n",
       "3                         NaN                         NaN   \n",
       "4                 225216.0156                         NaN   \n",
       "\n",
       "0  (3'-5')-cytidylyluridine*  ...  undecanedioate (C11-DC)     uridine  \\\n",
       "0                 93433.0000  ...               660328.000  33665008.0   \n",
       "1                 24328.0000  ...               997748.000   6564965.5   \n",
       "2                 53159.0039  ...               806952.000  23000954.0   \n",
       "3                        NaN  ...              1826000.125  11619855.0   \n",
       "4                203341.0000  ...               815633.000  38883532.0   \n",
       "\n",
       "0  uridine-2',3'-cyclic monophosphate  ursocholate  valerate (5:0)  \\\n",
       "0                          69467.0000     17629108         3713509   \n",
       "1                                 NaN     45081784         3678150   \n",
       "2                          54292.9961     20868878        12475891   \n",
       "3                                 NaN     43900560         7151141   \n",
       "4                         280257.0000     20869146        11350769   \n",
       "\n",
       "0  valerylglycine  vanillactate     vanillate   xanthosine  xanthurenate  \n",
       "0       5598799.0   141336.0000  1.937091e+06  168667.0000  4.616876e+06  \n",
       "1        691263.0           NaN  4.572610e+05   23525.0000  1.409255e+06  \n",
       "2       2339856.0    60392.0039  1.033449e+06  114592.0000  1.971338e+06  \n",
       "3        420003.0    38306.0000  2.474280e+05  323089.0000  1.017439e+06  \n",
       "4       9800247.0   142499.0000  1.750452e+06  174361.9844  6.399171e+06  \n",
       "\n",
       "[5 rows x 307 columns]"
      ]
     },
     "execution_count": 5,
     "metadata": {},
     "output_type": "execute_result"
    }
   ],
   "source": [
    "cleanedDict = clean(raw)\n",
    "cleanedDict['LC/MS Neg'].head()"
   ]
  },
  {
   "cell_type": "code",
   "execution_count": 6,
   "metadata": {
    "colab": {
     "base_uri": "https://localhost:8080/"
    },
    "id": "hG2fygGulH7q",
    "outputId": "2b6e6e95-9b6f-4446-8398-9ec0ee124eaa"
   },
   "outputs": [
    {
     "name": "stdout",
     "output_type": "stream",
     "text": [
      "214\n",
      "63\n",
      "148\n",
      "13\n"
     ]
    }
   ],
   "source": [
    "for d in cleanedDict.values():\n",
    "  print(d.isnull().sum().sum())"
   ]
  },
  {
   "cell_type": "code",
   "execution_count": 7,
   "metadata": {
    "id": "Rt7N8SN5juHJ"
   },
   "outputs": [],
   "source": [
    "def impute(df):\n",
    "  \"\"\"\n",
    "  Replaces each NAN element in each row with x, where x is the minimum value of sample / 2\n",
    "  \"\"\"\n",
    "  return df.apply(lambda row: row.fillna(row.min() / 2), axis=1)\n"
   ]
  },
  {
   "cell_type": "code",
   "execution_count": 8,
   "metadata": {
    "colab": {
     "base_uri": "https://localhost:8080/",
     "height": 338
    },
    "id": "3KLEeacgjNMa",
    "outputId": "c5d5f555-afdd-4d3e-8ebd-7fe9aabee147"
   },
   "outputs": [
    {
     "data": {
      "text/html": [
       "<div>\n",
       "<style scoped>\n",
       "    .dataframe tbody tr th:only-of-type {\n",
       "        vertical-align: middle;\n",
       "    }\n",
       "\n",
       "    .dataframe tbody tr th {\n",
       "        vertical-align: top;\n",
       "    }\n",
       "\n",
       "    .dataframe thead th {\n",
       "        text-align: right;\n",
       "    }\n",
       "</style>\n",
       "<table border=\"1\" class=\"dataframe\">\n",
       "  <thead>\n",
       "    <tr style=\"text-align: right;\">\n",
       "      <th></th>\n",
       "      <th>AfterProbiotic</th>\n",
       "      <th>(12 or 13)-methylmyristate (a15:0 or i15:0)</th>\n",
       "      <th>(14 or 15)-methylpalmitate (a17:0 or i17:0)</th>\n",
       "      <th>(16 or 17)-methylstearate (a19:0 or i19:0)</th>\n",
       "      <th>(3'-5')-adenylyladenosine*</th>\n",
       "      <th>(3'-5')-adenylylcytidine</th>\n",
       "      <th>(3'-5')-adenylyluridine</th>\n",
       "      <th>(3'-5')-cytidylylcytidine*</th>\n",
       "      <th>(3'-5')-cytidylylguanosine</th>\n",
       "      <th>(3'-5')-cytidylyluridine*</th>\n",
       "      <th>...</th>\n",
       "      <th>undecanedioate (C11-DC)</th>\n",
       "      <th>uridine</th>\n",
       "      <th>uridine-2',3'-cyclic monophosphate</th>\n",
       "      <th>ursocholate</th>\n",
       "      <th>valerate (5:0)</th>\n",
       "      <th>valerylglycine</th>\n",
       "      <th>vanillactate</th>\n",
       "      <th>vanillate</th>\n",
       "      <th>xanthosine</th>\n",
       "      <th>xanthurenate</th>\n",
       "    </tr>\n",
       "  </thead>\n",
       "  <tbody>\n",
       "    <tr>\n",
       "      <th>0</th>\n",
       "      <td>0</td>\n",
       "      <td>127452336.0</td>\n",
       "      <td>13088862.0</td>\n",
       "      <td>1849648.0</td>\n",
       "      <td>85744.0000</td>\n",
       "      <td>34092.0</td>\n",
       "      <td>85874.0</td>\n",
       "      <td>97642.0000</td>\n",
       "      <td>31036.0</td>\n",
       "      <td>93433.0000</td>\n",
       "      <td>...</td>\n",
       "      <td>660328.000</td>\n",
       "      <td>33665008.0</td>\n",
       "      <td>69467.0000</td>\n",
       "      <td>17629108.0</td>\n",
       "      <td>3713509.0</td>\n",
       "      <td>5598799.0</td>\n",
       "      <td>141336.0000</td>\n",
       "      <td>1.937091e+06</td>\n",
       "      <td>168667.0000</td>\n",
       "      <td>4.616876e+06</td>\n",
       "    </tr>\n",
       "    <tr>\n",
       "      <th>1</th>\n",
       "      <td>1</td>\n",
       "      <td>398733600.0</td>\n",
       "      <td>17803722.0</td>\n",
       "      <td>1881931.0</td>\n",
       "      <td>6919.5000</td>\n",
       "      <td>6919.5</td>\n",
       "      <td>6919.5</td>\n",
       "      <td>6919.5000</td>\n",
       "      <td>6919.5</td>\n",
       "      <td>24328.0000</td>\n",
       "      <td>...</td>\n",
       "      <td>997748.000</td>\n",
       "      <td>6564965.5</td>\n",
       "      <td>6919.5000</td>\n",
       "      <td>45081784.0</td>\n",
       "      <td>3678150.0</td>\n",
       "      <td>691263.0</td>\n",
       "      <td>6919.5000</td>\n",
       "      <td>4.572610e+05</td>\n",
       "      <td>23525.0000</td>\n",
       "      <td>1.409255e+06</td>\n",
       "    </tr>\n",
       "    <tr>\n",
       "      <th>2</th>\n",
       "      <td>0</td>\n",
       "      <td>194414640.0</td>\n",
       "      <td>16050609.0</td>\n",
       "      <td>1832783.0</td>\n",
       "      <td>30136.9980</td>\n",
       "      <td>8408.0</td>\n",
       "      <td>36636.0</td>\n",
       "      <td>45126.0000</td>\n",
       "      <td>8408.0</td>\n",
       "      <td>53159.0039</td>\n",
       "      <td>...</td>\n",
       "      <td>806952.000</td>\n",
       "      <td>23000954.0</td>\n",
       "      <td>54292.9961</td>\n",
       "      <td>20868878.0</td>\n",
       "      <td>12475891.0</td>\n",
       "      <td>2339856.0</td>\n",
       "      <td>60392.0039</td>\n",
       "      <td>1.033449e+06</td>\n",
       "      <td>114592.0000</td>\n",
       "      <td>1.971338e+06</td>\n",
       "    </tr>\n",
       "    <tr>\n",
       "      <th>3</th>\n",
       "      <td>1</td>\n",
       "      <td>205534192.0</td>\n",
       "      <td>16540071.0</td>\n",
       "      <td>2877598.0</td>\n",
       "      <td>10238.5000</td>\n",
       "      <td>10238.5</td>\n",
       "      <td>10238.5</td>\n",
       "      <td>10238.5000</td>\n",
       "      <td>10238.5</td>\n",
       "      <td>10238.5000</td>\n",
       "      <td>...</td>\n",
       "      <td>1826000.125</td>\n",
       "      <td>11619855.0</td>\n",
       "      <td>10238.5000</td>\n",
       "      <td>43900560.0</td>\n",
       "      <td>7151141.0</td>\n",
       "      <td>420003.0</td>\n",
       "      <td>38306.0000</td>\n",
       "      <td>2.474280e+05</td>\n",
       "      <td>323089.0000</td>\n",
       "      <td>1.017439e+06</td>\n",
       "    </tr>\n",
       "    <tr>\n",
       "      <th>4</th>\n",
       "      <td>0</td>\n",
       "      <td>190075648.0</td>\n",
       "      <td>24838720.0</td>\n",
       "      <td>3745333.0</td>\n",
       "      <td>112979.0078</td>\n",
       "      <td>105128.0</td>\n",
       "      <td>135324.0</td>\n",
       "      <td>225216.0156</td>\n",
       "      <td>8904.5</td>\n",
       "      <td>203341.0000</td>\n",
       "      <td>...</td>\n",
       "      <td>815633.000</td>\n",
       "      <td>38883532.0</td>\n",
       "      <td>280257.0000</td>\n",
       "      <td>20869146.0</td>\n",
       "      <td>11350769.0</td>\n",
       "      <td>9800247.0</td>\n",
       "      <td>142499.0000</td>\n",
       "      <td>1.750452e+06</td>\n",
       "      <td>174361.9844</td>\n",
       "      <td>6.399171e+06</td>\n",
       "    </tr>\n",
       "  </tbody>\n",
       "</table>\n",
       "<p>5 rows × 307 columns</p>\n",
       "</div>"
      ],
      "text/plain": [
       "   AfterProbiotic  (12 or 13)-methylmyristate (a15:0 or i15:0)  \\\n",
       "0               0                                  127452336.0   \n",
       "1               1                                  398733600.0   \n",
       "2               0                                  194414640.0   \n",
       "3               1                                  205534192.0   \n",
       "4               0                                  190075648.0   \n",
       "\n",
       "   (14 or 15)-methylpalmitate (a17:0 or i17:0)  \\\n",
       "0                                   13088862.0   \n",
       "1                                   17803722.0   \n",
       "2                                   16050609.0   \n",
       "3                                   16540071.0   \n",
       "4                                   24838720.0   \n",
       "\n",
       "   (16 or 17)-methylstearate (a19:0 or i19:0)  (3'-5')-adenylyladenosine*  \\\n",
       "0                                   1849648.0                  85744.0000   \n",
       "1                                   1881931.0                   6919.5000   \n",
       "2                                   1832783.0                  30136.9980   \n",
       "3                                   2877598.0                  10238.5000   \n",
       "4                                   3745333.0                 112979.0078   \n",
       "\n",
       "   (3'-5')-adenylylcytidine  (3'-5')-adenylyluridine  \\\n",
       "0                   34092.0                  85874.0   \n",
       "1                    6919.5                   6919.5   \n",
       "2                    8408.0                  36636.0   \n",
       "3                   10238.5                  10238.5   \n",
       "4                  105128.0                 135324.0   \n",
       "\n",
       "   (3'-5')-cytidylylcytidine*  (3'-5')-cytidylylguanosine  \\\n",
       "0                  97642.0000                     31036.0   \n",
       "1                   6919.5000                      6919.5   \n",
       "2                  45126.0000                      8408.0   \n",
       "3                  10238.5000                     10238.5   \n",
       "4                 225216.0156                      8904.5   \n",
       "\n",
       "   (3'-5')-cytidylyluridine*  ...  undecanedioate (C11-DC)     uridine  \\\n",
       "0                 93433.0000  ...               660328.000  33665008.0   \n",
       "1                 24328.0000  ...               997748.000   6564965.5   \n",
       "2                 53159.0039  ...               806952.000  23000954.0   \n",
       "3                 10238.5000  ...              1826000.125  11619855.0   \n",
       "4                203341.0000  ...               815633.000  38883532.0   \n",
       "\n",
       "   uridine-2',3'-cyclic monophosphate  ursocholate  valerate (5:0)  \\\n",
       "0                          69467.0000   17629108.0       3713509.0   \n",
       "1                           6919.5000   45081784.0       3678150.0   \n",
       "2                          54292.9961   20868878.0      12475891.0   \n",
       "3                          10238.5000   43900560.0       7151141.0   \n",
       "4                         280257.0000   20869146.0      11350769.0   \n",
       "\n",
       "   valerylglycine  vanillactate     vanillate   xanthosine  xanthurenate  \n",
       "0       5598799.0   141336.0000  1.937091e+06  168667.0000  4.616876e+06  \n",
       "1        691263.0     6919.5000  4.572610e+05   23525.0000  1.409255e+06  \n",
       "2       2339856.0    60392.0039  1.033449e+06  114592.0000  1.971338e+06  \n",
       "3        420003.0    38306.0000  2.474280e+05  323089.0000  1.017439e+06  \n",
       "4       9800247.0   142499.0000  1.750452e+06  174361.9844  6.399171e+06  \n",
       "\n",
       "[5 rows x 307 columns]"
      ]
     },
     "execution_count": 8,
     "metadata": {},
     "output_type": "execute_result"
    }
   ],
   "source": [
    "imputedDict = {key : pd.concat([value.iloc[:, 0], impute(value.iloc[:, 1:])], axis=1) for key, value in cleanedDict.items()}\n",
    "imputedDict[platforms[0]].head()"
   ]
  },
  {
   "cell_type": "code",
   "execution_count": 9,
   "metadata": {
    "colab": {
     "base_uri": "https://localhost:8080/"
    },
    "id": "2G2sOugKlDz2",
    "outputId": "dd2eaee5-3aa1-48fe-af3f-0e83defb0c2d"
   },
   "outputs": [
    {
     "name": "stdout",
     "output_type": "stream",
     "text": [
      "0\n",
      "0\n",
      "0\n",
      "0\n"
     ]
    }
   ],
   "source": [
    "for d in imputedDict.values():\n",
    "  print(d.isnull().sum().sum())"
   ]
  },
  {
   "cell_type": "code",
   "execution_count": 10,
   "metadata": {
    "id": "HPfil2djldGx"
   },
   "outputs": [],
   "source": [
    "def scale(df):\n",
    "  \"\"\"\n",
    "  For each sample, divides each element by the sum of the elements in the sample\n",
    "  \"\"\"\n",
    "  return df.apply(lambda row: row / row.sum(), axis=1)"
   ]
  },
  {
   "cell_type": "code",
   "execution_count": 11,
   "metadata": {
    "colab": {
     "base_uri": "https://localhost:8080/",
     "height": 423
    },
    "id": "3RPG8HA4l7hN",
    "outputId": "845fc2e6-5933-40e3-fc0c-f294621f5ffb"
   },
   "outputs": [
    {
     "data": {
      "text/html": [
       "<div>\n",
       "<style scoped>\n",
       "    .dataframe tbody tr th:only-of-type {\n",
       "        vertical-align: middle;\n",
       "    }\n",
       "\n",
       "    .dataframe tbody tr th {\n",
       "        vertical-align: top;\n",
       "    }\n",
       "\n",
       "    .dataframe thead th {\n",
       "        text-align: right;\n",
       "    }\n",
       "</style>\n",
       "<table border=\"1\" class=\"dataframe\">\n",
       "  <thead>\n",
       "    <tr style=\"text-align: right;\">\n",
       "      <th></th>\n",
       "      <th>AfterProbiotic</th>\n",
       "      <th>(12 or 13)-methylmyristate (a15:0 or i15:0)</th>\n",
       "      <th>(14 or 15)-methylpalmitate (a17:0 or i17:0)</th>\n",
       "      <th>(16 or 17)-methylstearate (a19:0 or i19:0)</th>\n",
       "      <th>(3'-5')-adenylyladenosine*</th>\n",
       "      <th>(3'-5')-adenylylcytidine</th>\n",
       "      <th>(3'-5')-adenylyluridine</th>\n",
       "      <th>(3'-5')-cytidylylcytidine*</th>\n",
       "      <th>(3'-5')-cytidylylguanosine</th>\n",
       "      <th>(3'-5')-cytidylyluridine*</th>\n",
       "      <th>...</th>\n",
       "      <th>undecanedioate (C11-DC)</th>\n",
       "      <th>uridine</th>\n",
       "      <th>uridine-2',3'-cyclic monophosphate</th>\n",
       "      <th>ursocholate</th>\n",
       "      <th>valerate (5:0)</th>\n",
       "      <th>valerylglycine</th>\n",
       "      <th>vanillactate</th>\n",
       "      <th>vanillate</th>\n",
       "      <th>xanthosine</th>\n",
       "      <th>xanthurenate</th>\n",
       "    </tr>\n",
       "  </thead>\n",
       "  <tbody>\n",
       "    <tr>\n",
       "      <th>0</th>\n",
       "      <td>0</td>\n",
       "      <td>0.009515</td>\n",
       "      <td>0.000977</td>\n",
       "      <td>0.000138</td>\n",
       "      <td>6.401146e-06</td>\n",
       "      <td>2.545109e-06</td>\n",
       "      <td>6.410851e-06</td>\n",
       "      <td>7.289381e-06</td>\n",
       "      <td>2.316966e-06</td>\n",
       "      <td>6.975162e-06</td>\n",
       "      <td>...</td>\n",
       "      <td>0.000049</td>\n",
       "      <td>0.002513</td>\n",
       "      <td>5.186000e-06</td>\n",
       "      <td>0.001316</td>\n",
       "      <td>0.000277</td>\n",
       "      <td>0.000418</td>\n",
       "      <td>1.055132e-05</td>\n",
       "      <td>0.000145</td>\n",
       "      <td>0.000013</td>\n",
       "      <td>0.000345</td>\n",
       "    </tr>\n",
       "    <tr>\n",
       "      <th>1</th>\n",
       "      <td>1</td>\n",
       "      <td>0.025050</td>\n",
       "      <td>0.001119</td>\n",
       "      <td>0.000118</td>\n",
       "      <td>4.347130e-07</td>\n",
       "      <td>4.347130e-07</td>\n",
       "      <td>4.347130e-07</td>\n",
       "      <td>4.347130e-07</td>\n",
       "      <td>4.347130e-07</td>\n",
       "      <td>1.528390e-06</td>\n",
       "      <td>...</td>\n",
       "      <td>0.000063</td>\n",
       "      <td>0.000412</td>\n",
       "      <td>4.347130e-07</td>\n",
       "      <td>0.002832</td>\n",
       "      <td>0.000231</td>\n",
       "      <td>0.000043</td>\n",
       "      <td>4.347130e-07</td>\n",
       "      <td>0.000029</td>\n",
       "      <td>0.000001</td>\n",
       "      <td>0.000089</td>\n",
       "    </tr>\n",
       "    <tr>\n",
       "      <th>2</th>\n",
       "      <td>0</td>\n",
       "      <td>0.014235</td>\n",
       "      <td>0.001175</td>\n",
       "      <td>0.000134</td>\n",
       "      <td>2.206632e-06</td>\n",
       "      <td>6.156341e-07</td>\n",
       "      <td>2.682490e-06</td>\n",
       "      <td>3.304128e-06</td>\n",
       "      <td>6.156341e-07</td>\n",
       "      <td>3.892305e-06</td>\n",
       "      <td>...</td>\n",
       "      <td>0.000059</td>\n",
       "      <td>0.001684</td>\n",
       "      <td>3.975336e-06</td>\n",
       "      <td>0.001528</td>\n",
       "      <td>0.000913</td>\n",
       "      <td>0.000171</td>\n",
       "      <td>4.421905e-06</td>\n",
       "      <td>0.000076</td>\n",
       "      <td>0.000008</td>\n",
       "      <td>0.000144</td>\n",
       "    </tr>\n",
       "    <tr>\n",
       "      <th>3</th>\n",
       "      <td>1</td>\n",
       "      <td>0.017041</td>\n",
       "      <td>0.001371</td>\n",
       "      <td>0.000239</td>\n",
       "      <td>8.488992e-07</td>\n",
       "      <td>8.488992e-07</td>\n",
       "      <td>8.488992e-07</td>\n",
       "      <td>8.488992e-07</td>\n",
       "      <td>8.488992e-07</td>\n",
       "      <td>8.488992e-07</td>\n",
       "      <td>...</td>\n",
       "      <td>0.000151</td>\n",
       "      <td>0.000963</td>\n",
       "      <td>8.488992e-07</td>\n",
       "      <td>0.003640</td>\n",
       "      <td>0.000593</td>\n",
       "      <td>0.000035</td>\n",
       "      <td>3.176045e-06</td>\n",
       "      <td>0.000021</td>\n",
       "      <td>0.000027</td>\n",
       "      <td>0.000084</td>\n",
       "    </tr>\n",
       "    <tr>\n",
       "      <th>4</th>\n",
       "      <td>0</td>\n",
       "      <td>0.010733</td>\n",
       "      <td>0.001403</td>\n",
       "      <td>0.000211</td>\n",
       "      <td>6.379746e-06</td>\n",
       "      <td>5.936412e-06</td>\n",
       "      <td>7.641532e-06</td>\n",
       "      <td>1.271759e-05</td>\n",
       "      <td>5.028230e-07</td>\n",
       "      <td>1.148234e-05</td>\n",
       "      <td>...</td>\n",
       "      <td>0.000046</td>\n",
       "      <td>0.002196</td>\n",
       "      <td>1.582567e-05</td>\n",
       "      <td>0.001178</td>\n",
       "      <td>0.000641</td>\n",
       "      <td>0.000553</td>\n",
       "      <td>8.046693e-06</td>\n",
       "      <td>0.000099</td>\n",
       "      <td>0.000010</td>\n",
       "      <td>0.000361</td>\n",
       "    </tr>\n",
       "  </tbody>\n",
       "</table>\n",
       "<p>5 rows × 307 columns</p>\n",
       "</div>"
      ],
      "text/plain": [
       "   AfterProbiotic  (12 or 13)-methylmyristate (a15:0 or i15:0)  \\\n",
       "0               0                                     0.009515   \n",
       "1               1                                     0.025050   \n",
       "2               0                                     0.014235   \n",
       "3               1                                     0.017041   \n",
       "4               0                                     0.010733   \n",
       "\n",
       "   (14 or 15)-methylpalmitate (a17:0 or i17:0)  \\\n",
       "0                                     0.000977   \n",
       "1                                     0.001119   \n",
       "2                                     0.001175   \n",
       "3                                     0.001371   \n",
       "4                                     0.001403   \n",
       "\n",
       "   (16 or 17)-methylstearate (a19:0 or i19:0)  (3'-5')-adenylyladenosine*  \\\n",
       "0                                    0.000138                6.401146e-06   \n",
       "1                                    0.000118                4.347130e-07   \n",
       "2                                    0.000134                2.206632e-06   \n",
       "3                                    0.000239                8.488992e-07   \n",
       "4                                    0.000211                6.379746e-06   \n",
       "\n",
       "   (3'-5')-adenylylcytidine  (3'-5')-adenylyluridine  \\\n",
       "0              2.545109e-06             6.410851e-06   \n",
       "1              4.347130e-07             4.347130e-07   \n",
       "2              6.156341e-07             2.682490e-06   \n",
       "3              8.488992e-07             8.488992e-07   \n",
       "4              5.936412e-06             7.641532e-06   \n",
       "\n",
       "   (3'-5')-cytidylylcytidine*  (3'-5')-cytidylylguanosine  \\\n",
       "0                7.289381e-06                2.316966e-06   \n",
       "1                4.347130e-07                4.347130e-07   \n",
       "2                3.304128e-06                6.156341e-07   \n",
       "3                8.488992e-07                8.488992e-07   \n",
       "4                1.271759e-05                5.028230e-07   \n",
       "\n",
       "   (3'-5')-cytidylyluridine*  ...  undecanedioate (C11-DC)   uridine  \\\n",
       "0               6.975162e-06  ...                 0.000049  0.002513   \n",
       "1               1.528390e-06  ...                 0.000063  0.000412   \n",
       "2               3.892305e-06  ...                 0.000059  0.001684   \n",
       "3               8.488992e-07  ...                 0.000151  0.000963   \n",
       "4               1.148234e-05  ...                 0.000046  0.002196   \n",
       "\n",
       "   uridine-2',3'-cyclic monophosphate  ursocholate  valerate (5:0)  \\\n",
       "0                        5.186000e-06     0.001316        0.000277   \n",
       "1                        4.347130e-07     0.002832        0.000231   \n",
       "2                        3.975336e-06     0.001528        0.000913   \n",
       "3                        8.488992e-07     0.003640        0.000593   \n",
       "4                        1.582567e-05     0.001178        0.000641   \n",
       "\n",
       "   valerylglycine  vanillactate  vanillate  xanthosine  xanthurenate  \n",
       "0        0.000418  1.055132e-05   0.000145    0.000013      0.000345  \n",
       "1        0.000043  4.347130e-07   0.000029    0.000001      0.000089  \n",
       "2        0.000171  4.421905e-06   0.000076    0.000008      0.000144  \n",
       "3        0.000035  3.176045e-06   0.000021    0.000027      0.000084  \n",
       "4        0.000553  8.046693e-06   0.000099    0.000010      0.000361  \n",
       "\n",
       "[5 rows x 307 columns]"
      ]
     },
     "execution_count": 11,
     "metadata": {},
     "output_type": "execute_result"
    }
   ],
   "source": [
    "scaledDict = {key : pd.concat([value.iloc[:, 0], scale(value.iloc[:, 1:])], axis=1) for key, value in imputedDict.items()}\n",
    "scaledDict[platforms[0]].head()"
   ]
  },
  {
   "cell_type": "code",
   "execution_count": 12,
   "metadata": {
    "id": "SvnsIM9HmQ5D"
   },
   "outputs": [],
   "source": [
    "import numpy as np\n",
    "\n",
    "def transform(df):\n",
    "  \"\"\" \n",
    "  Apply arcsine transformation on all values\n",
    "  \"\"\"  \n",
    "  newdf = df.copy()\n",
    "  newdf = np.arcsin(np.sqrt(newdf))\n",
    "  return newdf"
   ]
  },
  {
   "cell_type": "code",
   "execution_count": 13,
   "metadata": {
    "colab": {
     "base_uri": "https://localhost:8080/",
     "height": 338
    },
    "id": "jNMmb8IzoCIb",
    "outputId": "e4829436-fa0d-444a-c1d2-05313736d152"
   },
   "outputs": [
    {
     "data": {
      "text/html": [
       "<div>\n",
       "<style scoped>\n",
       "    .dataframe tbody tr th:only-of-type {\n",
       "        vertical-align: middle;\n",
       "    }\n",
       "\n",
       "    .dataframe tbody tr th {\n",
       "        vertical-align: top;\n",
       "    }\n",
       "\n",
       "    .dataframe thead th {\n",
       "        text-align: right;\n",
       "    }\n",
       "</style>\n",
       "<table border=\"1\" class=\"dataframe\">\n",
       "  <thead>\n",
       "    <tr style=\"text-align: right;\">\n",
       "      <th></th>\n",
       "      <th>AfterProbiotic</th>\n",
       "      <th>(12 or 13)-methylmyristate (a15:0 or i15:0)</th>\n",
       "      <th>(14 or 15)-methylpalmitate (a17:0 or i17:0)</th>\n",
       "      <th>(16 or 17)-methylstearate (a19:0 or i19:0)</th>\n",
       "      <th>(3'-5')-adenylyladenosine*</th>\n",
       "      <th>(3'-5')-adenylylcytidine</th>\n",
       "      <th>(3'-5')-adenylyluridine</th>\n",
       "      <th>(3'-5')-cytidylylcytidine*</th>\n",
       "      <th>(3'-5')-cytidylylguanosine</th>\n",
       "      <th>(3'-5')-cytidylyluridine*</th>\n",
       "      <th>...</th>\n",
       "      <th>undecanedioate (C11-DC)</th>\n",
       "      <th>uridine</th>\n",
       "      <th>uridine-2',3'-cyclic monophosphate</th>\n",
       "      <th>ursocholate</th>\n",
       "      <th>valerate (5:0)</th>\n",
       "      <th>valerylglycine</th>\n",
       "      <th>vanillactate</th>\n",
       "      <th>vanillate</th>\n",
       "      <th>xanthosine</th>\n",
       "      <th>xanthurenate</th>\n",
       "    </tr>\n",
       "  </thead>\n",
       "  <tbody>\n",
       "    <tr>\n",
       "      <th>0</th>\n",
       "      <td>0</td>\n",
       "      <td>0.097699</td>\n",
       "      <td>0.031264</td>\n",
       "      <td>0.011751</td>\n",
       "      <td>0.002530</td>\n",
       "      <td>0.001595</td>\n",
       "      <td>0.002532</td>\n",
       "      <td>0.002700</td>\n",
       "      <td>0.001522</td>\n",
       "      <td>0.002641</td>\n",
       "      <td>...</td>\n",
       "      <td>0.007021</td>\n",
       "      <td>0.050153</td>\n",
       "      <td>0.002277</td>\n",
       "      <td>0.036286</td>\n",
       "      <td>0.016651</td>\n",
       "      <td>0.020446</td>\n",
       "      <td>0.003248</td>\n",
       "      <td>0.012026</td>\n",
       "      <td>0.003548</td>\n",
       "      <td>0.018566</td>\n",
       "    </tr>\n",
       "    <tr>\n",
       "      <th>1</th>\n",
       "      <td>1</td>\n",
       "      <td>0.158941</td>\n",
       "      <td>0.033450</td>\n",
       "      <td>0.010874</td>\n",
       "      <td>0.000659</td>\n",
       "      <td>0.000659</td>\n",
       "      <td>0.000659</td>\n",
       "      <td>0.000659</td>\n",
       "      <td>0.000659</td>\n",
       "      <td>0.001236</td>\n",
       "      <td>...</td>\n",
       "      <td>0.007917</td>\n",
       "      <td>0.020310</td>\n",
       "      <td>0.000659</td>\n",
       "      <td>0.053244</td>\n",
       "      <td>0.015202</td>\n",
       "      <td>0.006590</td>\n",
       "      <td>0.000659</td>\n",
       "      <td>0.005360</td>\n",
       "      <td>0.001216</td>\n",
       "      <td>0.009409</td>\n",
       "    </tr>\n",
       "    <tr>\n",
       "      <th>2</th>\n",
       "      <td>0</td>\n",
       "      <td>0.119596</td>\n",
       "      <td>0.034288</td>\n",
       "      <td>0.011585</td>\n",
       "      <td>0.001485</td>\n",
       "      <td>0.000785</td>\n",
       "      <td>0.001638</td>\n",
       "      <td>0.001818</td>\n",
       "      <td>0.000785</td>\n",
       "      <td>0.001973</td>\n",
       "      <td>...</td>\n",
       "      <td>0.007687</td>\n",
       "      <td>0.041050</td>\n",
       "      <td>0.001994</td>\n",
       "      <td>0.039100</td>\n",
       "      <td>0.030229</td>\n",
       "      <td>0.013089</td>\n",
       "      <td>0.002103</td>\n",
       "      <td>0.008699</td>\n",
       "      <td>0.002897</td>\n",
       "      <td>0.012015</td>\n",
       "    </tr>\n",
       "    <tr>\n",
       "      <th>3</th>\n",
       "      <td>1</td>\n",
       "      <td>0.130916</td>\n",
       "      <td>0.037041</td>\n",
       "      <td>0.015447</td>\n",
       "      <td>0.000921</td>\n",
       "      <td>0.000921</td>\n",
       "      <td>0.000921</td>\n",
       "      <td>0.000921</td>\n",
       "      <td>0.000921</td>\n",
       "      <td>0.000921</td>\n",
       "      <td>...</td>\n",
       "      <td>0.012305</td>\n",
       "      <td>0.031044</td>\n",
       "      <td>0.000921</td>\n",
       "      <td>0.060368</td>\n",
       "      <td>0.024352</td>\n",
       "      <td>0.005901</td>\n",
       "      <td>0.001782</td>\n",
       "      <td>0.004529</td>\n",
       "      <td>0.005176</td>\n",
       "      <td>0.009185</td>\n",
       "    </tr>\n",
       "    <tr>\n",
       "      <th>4</th>\n",
       "      <td>0</td>\n",
       "      <td>0.103788</td>\n",
       "      <td>0.037460</td>\n",
       "      <td>0.014543</td>\n",
       "      <td>0.002526</td>\n",
       "      <td>0.002436</td>\n",
       "      <td>0.002764</td>\n",
       "      <td>0.003566</td>\n",
       "      <td>0.000709</td>\n",
       "      <td>0.003389</td>\n",
       "      <td>...</td>\n",
       "      <td>0.006787</td>\n",
       "      <td>0.046875</td>\n",
       "      <td>0.003978</td>\n",
       "      <td>0.034335</td>\n",
       "      <td>0.025320</td>\n",
       "      <td>0.023527</td>\n",
       "      <td>0.002837</td>\n",
       "      <td>0.009942</td>\n",
       "      <td>0.003138</td>\n",
       "      <td>0.019010</td>\n",
       "    </tr>\n",
       "  </tbody>\n",
       "</table>\n",
       "<p>5 rows × 307 columns</p>\n",
       "</div>"
      ],
      "text/plain": [
       "   AfterProbiotic  (12 or 13)-methylmyristate (a15:0 or i15:0)  \\\n",
       "0               0                                     0.097699   \n",
       "1               1                                     0.158941   \n",
       "2               0                                     0.119596   \n",
       "3               1                                     0.130916   \n",
       "4               0                                     0.103788   \n",
       "\n",
       "   (14 or 15)-methylpalmitate (a17:0 or i17:0)  \\\n",
       "0                                     0.031264   \n",
       "1                                     0.033450   \n",
       "2                                     0.034288   \n",
       "3                                     0.037041   \n",
       "4                                     0.037460   \n",
       "\n",
       "   (16 or 17)-methylstearate (a19:0 or i19:0)  (3'-5')-adenylyladenosine*  \\\n",
       "0                                    0.011751                    0.002530   \n",
       "1                                    0.010874                    0.000659   \n",
       "2                                    0.011585                    0.001485   \n",
       "3                                    0.015447                    0.000921   \n",
       "4                                    0.014543                    0.002526   \n",
       "\n",
       "   (3'-5')-adenylylcytidine  (3'-5')-adenylyluridine  \\\n",
       "0                  0.001595                 0.002532   \n",
       "1                  0.000659                 0.000659   \n",
       "2                  0.000785                 0.001638   \n",
       "3                  0.000921                 0.000921   \n",
       "4                  0.002436                 0.002764   \n",
       "\n",
       "   (3'-5')-cytidylylcytidine*  (3'-5')-cytidylylguanosine  \\\n",
       "0                    0.002700                    0.001522   \n",
       "1                    0.000659                    0.000659   \n",
       "2                    0.001818                    0.000785   \n",
       "3                    0.000921                    0.000921   \n",
       "4                    0.003566                    0.000709   \n",
       "\n",
       "   (3'-5')-cytidylyluridine*  ...  undecanedioate (C11-DC)   uridine  \\\n",
       "0                   0.002641  ...                 0.007021  0.050153   \n",
       "1                   0.001236  ...                 0.007917  0.020310   \n",
       "2                   0.001973  ...                 0.007687  0.041050   \n",
       "3                   0.000921  ...                 0.012305  0.031044   \n",
       "4                   0.003389  ...                 0.006787  0.046875   \n",
       "\n",
       "   uridine-2',3'-cyclic monophosphate  ursocholate  valerate (5:0)  \\\n",
       "0                            0.002277     0.036286        0.016651   \n",
       "1                            0.000659     0.053244        0.015202   \n",
       "2                            0.001994     0.039100        0.030229   \n",
       "3                            0.000921     0.060368        0.024352   \n",
       "4                            0.003978     0.034335        0.025320   \n",
       "\n",
       "   valerylglycine  vanillactate  vanillate  xanthosine  xanthurenate  \n",
       "0        0.020446      0.003248   0.012026    0.003548      0.018566  \n",
       "1        0.006590      0.000659   0.005360    0.001216      0.009409  \n",
       "2        0.013089      0.002103   0.008699    0.002897      0.012015  \n",
       "3        0.005901      0.001782   0.004529    0.005176      0.009185  \n",
       "4        0.023527      0.002837   0.009942    0.003138      0.019010  \n",
       "\n",
       "[5 rows x 307 columns]"
      ]
     },
     "execution_count": 13,
     "metadata": {},
     "output_type": "execute_result"
    }
   ],
   "source": [
    "transformedDict = {key : pd.concat([value.iloc[:, 0], transform(value.iloc[:, 1:])], axis=1) for key, value in scaledDict.items()}\n",
    "transformedDict[platforms[0]].head()"
   ]
  },
  {
   "cell_type": "code",
   "execution_count": 14,
   "metadata": {
    "colab": {
     "base_uri": "https://localhost:8080/",
     "height": 431
    },
    "id": "di-YGDd5oEx6",
    "outputId": "0b8d088e-2af2-42c6-8a9c-a0ed1b9d063f"
   },
   "outputs": [
    {
     "data": {
      "text/html": [
       "<div>\n",
       "<style scoped>\n",
       "    .dataframe tbody tr th:only-of-type {\n",
       "        vertical-align: middle;\n",
       "    }\n",
       "\n",
       "    .dataframe tbody tr th {\n",
       "        vertical-align: top;\n",
       "    }\n",
       "\n",
       "    .dataframe thead th {\n",
       "        text-align: right;\n",
       "    }\n",
       "</style>\n",
       "<table border=\"1\" class=\"dataframe\">\n",
       "  <thead>\n",
       "    <tr style=\"text-align: right;\">\n",
       "      <th></th>\n",
       "      <th>AfterProbiotic</th>\n",
       "      <th>(12 or 13)-methylmyristate (a15:0 or i15:0)</th>\n",
       "      <th>(14 or 15)-methylpalmitate (a17:0 or i17:0)</th>\n",
       "      <th>(16 or 17)-methylstearate (a19:0 or i19:0)</th>\n",
       "      <th>(3'-5')-adenylyladenosine*</th>\n",
       "      <th>(3'-5')-adenylylcytidine</th>\n",
       "      <th>(3'-5')-adenylyluridine</th>\n",
       "      <th>(3'-5')-cytidylylcytidine*</th>\n",
       "      <th>(3'-5')-cytidylylguanosine</th>\n",
       "      <th>(3'-5')-cytidylyluridine*</th>\n",
       "      <th>...</th>\n",
       "      <th>undecanedioate (C11-DC)</th>\n",
       "      <th>uridine</th>\n",
       "      <th>uridine-2',3'-cyclic monophosphate</th>\n",
       "      <th>ursocholate</th>\n",
       "      <th>valerate (5:0)</th>\n",
       "      <th>valerylglycine</th>\n",
       "      <th>vanillactate</th>\n",
       "      <th>vanillate</th>\n",
       "      <th>xanthosine</th>\n",
       "      <th>xanthurenate</th>\n",
       "    </tr>\n",
       "  </thead>\n",
       "  <tbody>\n",
       "    <tr>\n",
       "      <th>count</th>\n",
       "      <td>10.000000</td>\n",
       "      <td>10.000000</td>\n",
       "      <td>10.000000</td>\n",
       "      <td>10.000000</td>\n",
       "      <td>10.000000</td>\n",
       "      <td>10.000000</td>\n",
       "      <td>10.000000</td>\n",
       "      <td>10.000000</td>\n",
       "      <td>10.000000</td>\n",
       "      <td>10.000000</td>\n",
       "      <td>...</td>\n",
       "      <td>10.000000</td>\n",
       "      <td>10.000000</td>\n",
       "      <td>10.000000</td>\n",
       "      <td>10.000000</td>\n",
       "      <td>10.000000</td>\n",
       "      <td>10.000000</td>\n",
       "      <td>10.000000</td>\n",
       "      <td>10.000000</td>\n",
       "      <td>10.000000</td>\n",
       "      <td>10.000000</td>\n",
       "    </tr>\n",
       "    <tr>\n",
       "      <th>mean</th>\n",
       "      <td>0.500000</td>\n",
       "      <td>0.134477</td>\n",
       "      <td>0.035152</td>\n",
       "      <td>0.013010</td>\n",
       "      <td>0.001919</td>\n",
       "      <td>0.001467</td>\n",
       "      <td>0.002033</td>\n",
       "      <td>0.002141</td>\n",
       "      <td>0.001075</td>\n",
       "      <td>0.002358</td>\n",
       "      <td>...</td>\n",
       "      <td>0.008298</td>\n",
       "      <td>0.038560</td>\n",
       "      <td>0.002481</td>\n",
       "      <td>0.041874</td>\n",
       "      <td>0.019359</td>\n",
       "      <td>0.015239</td>\n",
       "      <td>0.002210</td>\n",
       "      <td>0.008721</td>\n",
       "      <td>0.003498</td>\n",
       "      <td>0.013373</td>\n",
       "    </tr>\n",
       "    <tr>\n",
       "      <th>std</th>\n",
       "      <td>0.527046</td>\n",
       "      <td>0.027194</td>\n",
       "      <td>0.003424</td>\n",
       "      <td>0.001857</td>\n",
       "      <td>0.001026</td>\n",
       "      <td>0.000694</td>\n",
       "      <td>0.001128</td>\n",
       "      <td>0.001230</td>\n",
       "      <td>0.000519</td>\n",
       "      <td>0.001072</td>\n",
       "      <td>...</td>\n",
       "      <td>0.002159</td>\n",
       "      <td>0.008750</td>\n",
       "      <td>0.001521</td>\n",
       "      <td>0.008462</td>\n",
       "      <td>0.006796</td>\n",
       "      <td>0.006634</td>\n",
       "      <td>0.000901</td>\n",
       "      <td>0.002681</td>\n",
       "      <td>0.001261</td>\n",
       "      <td>0.003987</td>\n",
       "    </tr>\n",
       "    <tr>\n",
       "      <th>min</th>\n",
       "      <td>0.000000</td>\n",
       "      <td>0.097699</td>\n",
       "      <td>0.030752</td>\n",
       "      <td>0.010874</td>\n",
       "      <td>0.000659</td>\n",
       "      <td>0.000659</td>\n",
       "      <td>0.000659</td>\n",
       "      <td>0.000659</td>\n",
       "      <td>0.000659</td>\n",
       "      <td>0.000832</td>\n",
       "      <td>...</td>\n",
       "      <td>0.005755</td>\n",
       "      <td>0.020310</td>\n",
       "      <td>0.000659</td>\n",
       "      <td>0.034335</td>\n",
       "      <td>0.008571</td>\n",
       "      <td>0.005901</td>\n",
       "      <td>0.000659</td>\n",
       "      <td>0.004529</td>\n",
       "      <td>0.001216</td>\n",
       "      <td>0.009185</td>\n",
       "    </tr>\n",
       "    <tr>\n",
       "      <th>25%</th>\n",
       "      <td>0.000000</td>\n",
       "      <td>0.113618</td>\n",
       "      <td>0.031811</td>\n",
       "      <td>0.011626</td>\n",
       "      <td>0.000956</td>\n",
       "      <td>0.000854</td>\n",
       "      <td>0.000956</td>\n",
       "      <td>0.000924</td>\n",
       "      <td>0.000796</td>\n",
       "      <td>0.001420</td>\n",
       "      <td>...</td>\n",
       "      <td>0.006845</td>\n",
       "      <td>0.034058</td>\n",
       "      <td>0.001076</td>\n",
       "      <td>0.036590</td>\n",
       "      <td>0.015564</td>\n",
       "      <td>0.008753</td>\n",
       "      <td>0.001862</td>\n",
       "      <td>0.006195</td>\n",
       "      <td>0.002957</td>\n",
       "      <td>0.010198</td>\n",
       "    </tr>\n",
       "    <tr>\n",
       "      <th>50%</th>\n",
       "      <td>0.500000</td>\n",
       "      <td>0.130085</td>\n",
       "      <td>0.035616</td>\n",
       "      <td>0.012424</td>\n",
       "      <td>0.002006</td>\n",
       "      <td>0.001328</td>\n",
       "      <td>0.002085</td>\n",
       "      <td>0.002259</td>\n",
       "      <td>0.000928</td>\n",
       "      <td>0.002512</td>\n",
       "      <td>...</td>\n",
       "      <td>0.007802</td>\n",
       "      <td>0.039661</td>\n",
       "      <td>0.002136</td>\n",
       "      <td>0.039073</td>\n",
       "      <td>0.020776</td>\n",
       "      <td>0.016849</td>\n",
       "      <td>0.002352</td>\n",
       "      <td>0.009807</td>\n",
       "      <td>0.003470</td>\n",
       "      <td>0.011467</td>\n",
       "    </tr>\n",
       "    <tr>\n",
       "      <th>75%</th>\n",
       "      <td>1.000000</td>\n",
       "      <td>0.157830</td>\n",
       "      <td>0.037355</td>\n",
       "      <td>0.014421</td>\n",
       "      <td>0.002757</td>\n",
       "      <td>0.002150</td>\n",
       "      <td>0.003018</td>\n",
       "      <td>0.003351</td>\n",
       "      <td>0.001031</td>\n",
       "      <td>0.003321</td>\n",
       "      <td>...</td>\n",
       "      <td>0.008885</td>\n",
       "      <td>0.044539</td>\n",
       "      <td>0.003907</td>\n",
       "      <td>0.042666</td>\n",
       "      <td>0.023668</td>\n",
       "      <td>0.020509</td>\n",
       "      <td>0.002831</td>\n",
       "      <td>0.010504</td>\n",
       "      <td>0.004166</td>\n",
       "      <td>0.017079</td>\n",
       "    </tr>\n",
       "    <tr>\n",
       "      <th>max</th>\n",
       "      <td>1.000000</td>\n",
       "      <td>0.178249</td>\n",
       "      <td>0.040164</td>\n",
       "      <td>0.015899</td>\n",
       "      <td>0.003345</td>\n",
       "      <td>0.002436</td>\n",
       "      <td>0.003578</td>\n",
       "      <td>0.003566</td>\n",
       "      <td>0.002385</td>\n",
       "      <td>0.003567</td>\n",
       "      <td>...</td>\n",
       "      <td>0.012305</td>\n",
       "      <td>0.050153</td>\n",
       "      <td>0.004776</td>\n",
       "      <td>0.060368</td>\n",
       "      <td>0.030229</td>\n",
       "      <td>0.023527</td>\n",
       "      <td>0.003248</td>\n",
       "      <td>0.012026</td>\n",
       "      <td>0.005392</td>\n",
       "      <td>0.019010</td>\n",
       "    </tr>\n",
       "  </tbody>\n",
       "</table>\n",
       "<p>8 rows × 307 columns</p>\n",
       "</div>"
      ],
      "text/plain": [
       "       AfterProbiotic  (12 or 13)-methylmyristate (a15:0 or i15:0)  \\\n",
       "count       10.000000                                    10.000000   \n",
       "mean         0.500000                                     0.134477   \n",
       "std          0.527046                                     0.027194   \n",
       "min          0.000000                                     0.097699   \n",
       "25%          0.000000                                     0.113618   \n",
       "50%          0.500000                                     0.130085   \n",
       "75%          1.000000                                     0.157830   \n",
       "max          1.000000                                     0.178249   \n",
       "\n",
       "       (14 or 15)-methylpalmitate (a17:0 or i17:0)  \\\n",
       "count                                    10.000000   \n",
       "mean                                      0.035152   \n",
       "std                                       0.003424   \n",
       "min                                       0.030752   \n",
       "25%                                       0.031811   \n",
       "50%                                       0.035616   \n",
       "75%                                       0.037355   \n",
       "max                                       0.040164   \n",
       "\n",
       "       (16 or 17)-methylstearate (a19:0 or i19:0)  (3'-5')-adenylyladenosine*  \\\n",
       "count                                   10.000000                   10.000000   \n",
       "mean                                     0.013010                    0.001919   \n",
       "std                                      0.001857                    0.001026   \n",
       "min                                      0.010874                    0.000659   \n",
       "25%                                      0.011626                    0.000956   \n",
       "50%                                      0.012424                    0.002006   \n",
       "75%                                      0.014421                    0.002757   \n",
       "max                                      0.015899                    0.003345   \n",
       "\n",
       "       (3'-5')-adenylylcytidine  (3'-5')-adenylyluridine  \\\n",
       "count                 10.000000                10.000000   \n",
       "mean                   0.001467                 0.002033   \n",
       "std                    0.000694                 0.001128   \n",
       "min                    0.000659                 0.000659   \n",
       "25%                    0.000854                 0.000956   \n",
       "50%                    0.001328                 0.002085   \n",
       "75%                    0.002150                 0.003018   \n",
       "max                    0.002436                 0.003578   \n",
       "\n",
       "       (3'-5')-cytidylylcytidine*  (3'-5')-cytidylylguanosine  \\\n",
       "count                   10.000000                   10.000000   \n",
       "mean                     0.002141                    0.001075   \n",
       "std                      0.001230                    0.000519   \n",
       "min                      0.000659                    0.000659   \n",
       "25%                      0.000924                    0.000796   \n",
       "50%                      0.002259                    0.000928   \n",
       "75%                      0.003351                    0.001031   \n",
       "max                      0.003566                    0.002385   \n",
       "\n",
       "       (3'-5')-cytidylyluridine*  ...  undecanedioate (C11-DC)    uridine  \\\n",
       "count                  10.000000  ...                10.000000  10.000000   \n",
       "mean                    0.002358  ...                 0.008298   0.038560   \n",
       "std                     0.001072  ...                 0.002159   0.008750   \n",
       "min                     0.000832  ...                 0.005755   0.020310   \n",
       "25%                     0.001420  ...                 0.006845   0.034058   \n",
       "50%                     0.002512  ...                 0.007802   0.039661   \n",
       "75%                     0.003321  ...                 0.008885   0.044539   \n",
       "max                     0.003567  ...                 0.012305   0.050153   \n",
       "\n",
       "       uridine-2',3'-cyclic monophosphate  ursocholate  valerate (5:0)  \\\n",
       "count                           10.000000    10.000000       10.000000   \n",
       "mean                             0.002481     0.041874        0.019359   \n",
       "std                              0.001521     0.008462        0.006796   \n",
       "min                              0.000659     0.034335        0.008571   \n",
       "25%                              0.001076     0.036590        0.015564   \n",
       "50%                              0.002136     0.039073        0.020776   \n",
       "75%                              0.003907     0.042666        0.023668   \n",
       "max                              0.004776     0.060368        0.030229   \n",
       "\n",
       "       valerylglycine  vanillactate  vanillate  xanthosine  xanthurenate  \n",
       "count       10.000000     10.000000  10.000000   10.000000     10.000000  \n",
       "mean         0.015239      0.002210   0.008721    0.003498      0.013373  \n",
       "std          0.006634      0.000901   0.002681    0.001261      0.003987  \n",
       "min          0.005901      0.000659   0.004529    0.001216      0.009185  \n",
       "25%          0.008753      0.001862   0.006195    0.002957      0.010198  \n",
       "50%          0.016849      0.002352   0.009807    0.003470      0.011467  \n",
       "75%          0.020509      0.002831   0.010504    0.004166      0.017079  \n",
       "max          0.023527      0.003248   0.012026    0.005392      0.019010  \n",
       "\n",
       "[8 rows x 307 columns]"
      ]
     },
     "execution_count": 14,
     "metadata": {},
     "output_type": "execute_result"
    }
   ],
   "source": [
    "transformedDict[platforms[0]].describe()"
   ]
  },
  {
   "cell_type": "markdown",
   "metadata": {
    "id": "icYEoq6QjoDg"
   },
   "source": [
    "Combine the four matrices"
   ]
  },
  {
   "cell_type": "code",
   "execution_count": 15,
   "metadata": {
    "colab": {
     "base_uri": "https://localhost:8080/",
     "height": 338
    },
    "id": "5PoahyRijnhZ",
    "outputId": "a61c3f73-208e-4c74-89a9-bee774f88c2b"
   },
   "outputs": [
    {
     "data": {
      "text/html": [
       "<div>\n",
       "<style scoped>\n",
       "    .dataframe tbody tr th:only-of-type {\n",
       "        vertical-align: middle;\n",
       "    }\n",
       "\n",
       "    .dataframe tbody tr th {\n",
       "        vertical-align: top;\n",
       "    }\n",
       "\n",
       "    .dataframe thead th {\n",
       "        text-align: right;\n",
       "    }\n",
       "</style>\n",
       "<table border=\"1\" class=\"dataframe\">\n",
       "  <thead>\n",
       "    <tr style=\"text-align: right;\">\n",
       "      <th></th>\n",
       "      <th>AfterProbiotic</th>\n",
       "      <th>(12 or 13)-methylmyristate (a15:0 or i15:0)</th>\n",
       "      <th>(14 or 15)-methylpalmitate (a17:0 or i17:0)</th>\n",
       "      <th>(16 or 17)-methylstearate (a19:0 or i19:0)</th>\n",
       "      <th>(3'-5')-adenylyladenosine*</th>\n",
       "      <th>(3'-5')-adenylylcytidine</th>\n",
       "      <th>(3'-5')-adenylyluridine</th>\n",
       "      <th>(3'-5')-cytidylylcytidine*</th>\n",
       "      <th>(3'-5')-cytidylylguanosine</th>\n",
       "      <th>(3'-5')-cytidylyluridine*</th>\n",
       "      <th>...</th>\n",
       "      <th>ribulose/xylulose</th>\n",
       "      <th>salicylate</th>\n",
       "      <th>sedoheptulose</th>\n",
       "      <th>suberate (C8-DC)</th>\n",
       "      <th>succinate</th>\n",
       "      <th>succinimide</th>\n",
       "      <th>threonate</th>\n",
       "      <th>tricarballylate</th>\n",
       "      <th>urate</th>\n",
       "      <th>xylose</th>\n",
       "    </tr>\n",
       "  </thead>\n",
       "  <tbody>\n",
       "    <tr>\n",
       "      <th>0</th>\n",
       "      <td>0</td>\n",
       "      <td>0.097699</td>\n",
       "      <td>0.031264</td>\n",
       "      <td>0.011751</td>\n",
       "      <td>0.002530</td>\n",
       "      <td>0.001595</td>\n",
       "      <td>0.002532</td>\n",
       "      <td>0.002700</td>\n",
       "      <td>0.001522</td>\n",
       "      <td>0.002641</td>\n",
       "      <td>...</td>\n",
       "      <td>0.061728</td>\n",
       "      <td>0.022498</td>\n",
       "      <td>0.040729</td>\n",
       "      <td>0.024735</td>\n",
       "      <td>0.347333</td>\n",
       "      <td>0.021981</td>\n",
       "      <td>0.155677</td>\n",
       "      <td>0.241432</td>\n",
       "      <td>0.048367</td>\n",
       "      <td>0.149068</td>\n",
       "    </tr>\n",
       "    <tr>\n",
       "      <th>1</th>\n",
       "      <td>1</td>\n",
       "      <td>0.158941</td>\n",
       "      <td>0.033450</td>\n",
       "      <td>0.010874</td>\n",
       "      <td>0.000659</td>\n",
       "      <td>0.000659</td>\n",
       "      <td>0.000659</td>\n",
       "      <td>0.000659</td>\n",
       "      <td>0.000659</td>\n",
       "      <td>0.001236</td>\n",
       "      <td>...</td>\n",
       "      <td>0.065172</td>\n",
       "      <td>0.019992</td>\n",
       "      <td>0.034188</td>\n",
       "      <td>0.042743</td>\n",
       "      <td>0.374643</td>\n",
       "      <td>0.033852</td>\n",
       "      <td>0.088292</td>\n",
       "      <td>0.078611</td>\n",
       "      <td>0.044431</td>\n",
       "      <td>0.180184</td>\n",
       "    </tr>\n",
       "    <tr>\n",
       "      <th>2</th>\n",
       "      <td>0</td>\n",
       "      <td>0.119596</td>\n",
       "      <td>0.034288</td>\n",
       "      <td>0.011585</td>\n",
       "      <td>0.001485</td>\n",
       "      <td>0.000785</td>\n",
       "      <td>0.001638</td>\n",
       "      <td>0.001818</td>\n",
       "      <td>0.000785</td>\n",
       "      <td>0.001973</td>\n",
       "      <td>...</td>\n",
       "      <td>0.061133</td>\n",
       "      <td>0.021559</td>\n",
       "      <td>0.060845</td>\n",
       "      <td>0.033103</td>\n",
       "      <td>0.286650</td>\n",
       "      <td>0.030653</td>\n",
       "      <td>0.116940</td>\n",
       "      <td>0.197009</td>\n",
       "      <td>0.045180</td>\n",
       "      <td>0.168328</td>\n",
       "    </tr>\n",
       "    <tr>\n",
       "      <th>3</th>\n",
       "      <td>1</td>\n",
       "      <td>0.130916</td>\n",
       "      <td>0.037041</td>\n",
       "      <td>0.015447</td>\n",
       "      <td>0.000921</td>\n",
       "      <td>0.000921</td>\n",
       "      <td>0.000921</td>\n",
       "      <td>0.000921</td>\n",
       "      <td>0.000921</td>\n",
       "      <td>0.000921</td>\n",
       "      <td>...</td>\n",
       "      <td>0.056082</td>\n",
       "      <td>0.018504</td>\n",
       "      <td>0.091777</td>\n",
       "      <td>0.035994</td>\n",
       "      <td>0.442962</td>\n",
       "      <td>0.022208</td>\n",
       "      <td>0.078139</td>\n",
       "      <td>0.105422</td>\n",
       "      <td>0.032510</td>\n",
       "      <td>0.140046</td>\n",
       "    </tr>\n",
       "    <tr>\n",
       "      <th>4</th>\n",
       "      <td>0</td>\n",
       "      <td>0.103788</td>\n",
       "      <td>0.037460</td>\n",
       "      <td>0.014543</td>\n",
       "      <td>0.002526</td>\n",
       "      <td>0.002436</td>\n",
       "      <td>0.002764</td>\n",
       "      <td>0.003566</td>\n",
       "      <td>0.000709</td>\n",
       "      <td>0.003389</td>\n",
       "      <td>...</td>\n",
       "      <td>0.034491</td>\n",
       "      <td>0.025123</td>\n",
       "      <td>0.034373</td>\n",
       "      <td>0.032385</td>\n",
       "      <td>0.286454</td>\n",
       "      <td>0.028730</td>\n",
       "      <td>0.195996</td>\n",
       "      <td>0.328468</td>\n",
       "      <td>0.057677</td>\n",
       "      <td>0.072740</td>\n",
       "    </tr>\n",
       "  </tbody>\n",
       "</table>\n",
       "<p>5 rows × 824 columns</p>\n",
       "</div>"
      ],
      "text/plain": [
       "   AfterProbiotic  (12 or 13)-methylmyristate (a15:0 or i15:0)  \\\n",
       "0               0                                     0.097699   \n",
       "1               1                                     0.158941   \n",
       "2               0                                     0.119596   \n",
       "3               1                                     0.130916   \n",
       "4               0                                     0.103788   \n",
       "\n",
       "   (14 or 15)-methylpalmitate (a17:0 or i17:0)  \\\n",
       "0                                     0.031264   \n",
       "1                                     0.033450   \n",
       "2                                     0.034288   \n",
       "3                                     0.037041   \n",
       "4                                     0.037460   \n",
       "\n",
       "   (16 or 17)-methylstearate (a19:0 or i19:0)  (3'-5')-adenylyladenosine*  \\\n",
       "0                                    0.011751                    0.002530   \n",
       "1                                    0.010874                    0.000659   \n",
       "2                                    0.011585                    0.001485   \n",
       "3                                    0.015447                    0.000921   \n",
       "4                                    0.014543                    0.002526   \n",
       "\n",
       "   (3'-5')-adenylylcytidine  (3'-5')-adenylyluridine  \\\n",
       "0                  0.001595                 0.002532   \n",
       "1                  0.000659                 0.000659   \n",
       "2                  0.000785                 0.001638   \n",
       "3                  0.000921                 0.000921   \n",
       "4                  0.002436                 0.002764   \n",
       "\n",
       "   (3'-5')-cytidylylcytidine*  (3'-5')-cytidylylguanosine  \\\n",
       "0                    0.002700                    0.001522   \n",
       "1                    0.000659                    0.000659   \n",
       "2                    0.001818                    0.000785   \n",
       "3                    0.000921                    0.000921   \n",
       "4                    0.003566                    0.000709   \n",
       "\n",
       "   (3'-5')-cytidylyluridine*  ...  ribulose/xylulose  salicylate  \\\n",
       "0                   0.002641  ...           0.061728    0.022498   \n",
       "1                   0.001236  ...           0.065172    0.019992   \n",
       "2                   0.001973  ...           0.061133    0.021559   \n",
       "3                   0.000921  ...           0.056082    0.018504   \n",
       "4                   0.003389  ...           0.034491    0.025123   \n",
       "\n",
       "   sedoheptulose  suberate (C8-DC)  succinate  succinimide  threonate  \\\n",
       "0       0.040729          0.024735   0.347333     0.021981   0.155677   \n",
       "1       0.034188          0.042743   0.374643     0.033852   0.088292   \n",
       "2       0.060845          0.033103   0.286650     0.030653   0.116940   \n",
       "3       0.091777          0.035994   0.442962     0.022208   0.078139   \n",
       "4       0.034373          0.032385   0.286454     0.028730   0.195996   \n",
       "\n",
       "   tricarballylate     urate    xylose  \n",
       "0         0.241432  0.048367  0.149068  \n",
       "1         0.078611  0.044431  0.180184  \n",
       "2         0.197009  0.045180  0.168328  \n",
       "3         0.105422  0.032510  0.140046  \n",
       "4         0.328468  0.057677  0.072740  \n",
       "\n",
       "[5 rows x 824 columns]"
      ]
     },
     "execution_count": 15,
     "metadata": {},
     "output_type": "execute_result"
    }
   ],
   "source": [
    "final = transformedDict[platforms[0]]\n",
    "\n",
    "for platform in platforms[1:]:\n",
    "  final = pd.concat((final, transformedDict[platform].iloc[:, 1:]), axis=1)\n",
    "final.head()"
   ]
  },
  {
   "cell_type": "code",
   "execution_count": 16,
   "metadata": {
    "colab": {
     "base_uri": "https://localhost:8080/",
     "height": 265
    },
    "id": "kPIlSt_Dp853",
    "outputId": "b2036b19-dd02-44c0-f8f6-6a9ed5401033"
   },
   "outputs": [
    {
     "data": {
      "image/png": "[encoded data removed]",
      "text/plain": [
       "<Figure size 640x480 with 1 Axes>"
      ]
     },
     "metadata": {},
     "output_type": "display_data"
    }
   ],
   "source": [
    "import seaborn as sns\n",
    "import matplotlib.pyplot as plt\n",
    "fig = plt.figure()\n",
    "plt.hist(final.iloc[:, 1:],histtype='step', bins=10000, range=[0, 0.4])\n",
    "plt.show()\n"
   ]
  },
  {
   "cell_type": "code",
   "execution_count": 17,
   "metadata": {
    "colab": {
     "base_uri": "https://localhost:8080/",
     "height": 493
    },
    "id": "jEGBZIo-6f5R",
    "outputId": "a120119e-ebbc-4e29-aaf2-1713f903417e"
   },
   "outputs": [
    {
     "data": {
      "text/html": [
       "<div>\n",
       "<style scoped>\n",
       "    .dataframe tbody tr th:only-of-type {\n",
       "        vertical-align: middle;\n",
       "    }\n",
       "\n",
       "    .dataframe tbody tr th {\n",
       "        vertical-align: top;\n",
       "    }\n",
       "\n",
       "    .dataframe thead th {\n",
       "        text-align: right;\n",
       "    }\n",
       "</style>\n",
       "<table border=\"1\" class=\"dataframe\">\n",
       "  <thead>\n",
       "    <tr style=\"text-align: right;\">\n",
       "      <th></th>\n",
       "      <th>AfterProbiotic</th>\n",
       "      <th>(12 or 13)-methylmyristate (a15:0 or i15:0)</th>\n",
       "      <th>(14 or 15)-methylpalmitate (a17:0 or i17:0)</th>\n",
       "      <th>(16 or 17)-methylstearate (a19:0 or i19:0)</th>\n",
       "      <th>(3'-5')-adenylyladenosine*</th>\n",
       "      <th>(3'-5')-adenylylcytidine</th>\n",
       "      <th>(3'-5')-adenylyluridine</th>\n",
       "      <th>(3'-5')-cytidylylcytidine*</th>\n",
       "      <th>(3'-5')-cytidylylguanosine</th>\n",
       "      <th>(3'-5')-cytidylyluridine*</th>\n",
       "      <th>...</th>\n",
       "      <th>sedoheptulose</th>\n",
       "      <th>suberate (C8-DC)</th>\n",
       "      <th>succinate</th>\n",
       "      <th>succinimide</th>\n",
       "      <th>threonate</th>\n",
       "      <th>tricarballylate</th>\n",
       "      <th>urate</th>\n",
       "      <th>xylose</th>\n",
       "      <th>mouseID</th>\n",
       "      <th>isMale</th>\n",
       "    </tr>\n",
       "  </thead>\n",
       "  <tbody>\n",
       "    <tr>\n",
       "      <th>0</th>\n",
       "      <td>0</td>\n",
       "      <td>0.097699</td>\n",
       "      <td>0.031264</td>\n",
       "      <td>0.011751</td>\n",
       "      <td>0.002530</td>\n",
       "      <td>0.001595</td>\n",
       "      <td>0.002532</td>\n",
       "      <td>0.002700</td>\n",
       "      <td>0.001522</td>\n",
       "      <td>0.002641</td>\n",
       "      <td>...</td>\n",
       "      <td>0.040729</td>\n",
       "      <td>0.024735</td>\n",
       "      <td>0.347333</td>\n",
       "      <td>0.021981</td>\n",
       "      <td>0.155677</td>\n",
       "      <td>0.241432</td>\n",
       "      <td>0.048367</td>\n",
       "      <td>0.149068</td>\n",
       "      <td>1</td>\n",
       "      <td>1</td>\n",
       "    </tr>\n",
       "    <tr>\n",
       "      <th>1</th>\n",
       "      <td>1</td>\n",
       "      <td>0.158941</td>\n",
       "      <td>0.033450</td>\n",
       "      <td>0.010874</td>\n",
       "      <td>0.000659</td>\n",
       "      <td>0.000659</td>\n",
       "      <td>0.000659</td>\n",
       "      <td>0.000659</td>\n",
       "      <td>0.000659</td>\n",
       "      <td>0.001236</td>\n",
       "      <td>...</td>\n",
       "      <td>0.034188</td>\n",
       "      <td>0.042743</td>\n",
       "      <td>0.374643</td>\n",
       "      <td>0.033852</td>\n",
       "      <td>0.088292</td>\n",
       "      <td>0.078611</td>\n",
       "      <td>0.044431</td>\n",
       "      <td>0.180184</td>\n",
       "      <td>1</td>\n",
       "      <td>1</td>\n",
       "    </tr>\n",
       "    <tr>\n",
       "      <th>2</th>\n",
       "      <td>0</td>\n",
       "      <td>0.119596</td>\n",
       "      <td>0.034288</td>\n",
       "      <td>0.011585</td>\n",
       "      <td>0.001485</td>\n",
       "      <td>0.000785</td>\n",
       "      <td>0.001638</td>\n",
       "      <td>0.001818</td>\n",
       "      <td>0.000785</td>\n",
       "      <td>0.001973</td>\n",
       "      <td>...</td>\n",
       "      <td>0.060845</td>\n",
       "      <td>0.033103</td>\n",
       "      <td>0.286650</td>\n",
       "      <td>0.030653</td>\n",
       "      <td>0.116940</td>\n",
       "      <td>0.197009</td>\n",
       "      <td>0.045180</td>\n",
       "      <td>0.168328</td>\n",
       "      <td>2</td>\n",
       "      <td>1</td>\n",
       "    </tr>\n",
       "    <tr>\n",
       "      <th>3</th>\n",
       "      <td>1</td>\n",
       "      <td>0.130916</td>\n",
       "      <td>0.037041</td>\n",
       "      <td>0.015447</td>\n",
       "      <td>0.000921</td>\n",
       "      <td>0.000921</td>\n",
       "      <td>0.000921</td>\n",
       "      <td>0.000921</td>\n",
       "      <td>0.000921</td>\n",
       "      <td>0.000921</td>\n",
       "      <td>...</td>\n",
       "      <td>0.091777</td>\n",
       "      <td>0.035994</td>\n",
       "      <td>0.442962</td>\n",
       "      <td>0.022208</td>\n",
       "      <td>0.078139</td>\n",
       "      <td>0.105422</td>\n",
       "      <td>0.032510</td>\n",
       "      <td>0.140046</td>\n",
       "      <td>2</td>\n",
       "      <td>1</td>\n",
       "    </tr>\n",
       "    <tr>\n",
       "      <th>4</th>\n",
       "      <td>0</td>\n",
       "      <td>0.103788</td>\n",
       "      <td>0.037460</td>\n",
       "      <td>0.014543</td>\n",
       "      <td>0.002526</td>\n",
       "      <td>0.002436</td>\n",
       "      <td>0.002764</td>\n",
       "      <td>0.003566</td>\n",
       "      <td>0.000709</td>\n",
       "      <td>0.003389</td>\n",
       "      <td>...</td>\n",
       "      <td>0.034373</td>\n",
       "      <td>0.032385</td>\n",
       "      <td>0.286454</td>\n",
       "      <td>0.028730</td>\n",
       "      <td>0.195996</td>\n",
       "      <td>0.328468</td>\n",
       "      <td>0.057677</td>\n",
       "      <td>0.072740</td>\n",
       "      <td>3</td>\n",
       "      <td>1</td>\n",
       "    </tr>\n",
       "    <tr>\n",
       "      <th>5</th>\n",
       "      <td>1</td>\n",
       "      <td>0.154498</td>\n",
       "      <td>0.036943</td>\n",
       "      <td>0.014053</td>\n",
       "      <td>0.003345</td>\n",
       "      <td>0.002256</td>\n",
       "      <td>0.003578</td>\n",
       "      <td>0.003453</td>\n",
       "      <td>0.002385</td>\n",
       "      <td>0.003525</td>\n",
       "      <td>...</td>\n",
       "      <td>0.058926</td>\n",
       "      <td>0.044877</td>\n",
       "      <td>0.361670</td>\n",
       "      <td>0.031210</td>\n",
       "      <td>0.124713</td>\n",
       "      <td>0.139020</td>\n",
       "      <td>0.063091</td>\n",
       "      <td>0.093225</td>\n",
       "      <td>3</td>\n",
       "      <td>1</td>\n",
       "    </tr>\n",
       "    <tr>\n",
       "      <th>6</th>\n",
       "      <td>0</td>\n",
       "      <td>0.178249</td>\n",
       "      <td>0.040164</td>\n",
       "      <td>0.015899</td>\n",
       "      <td>0.003001</td>\n",
       "      <td>0.002235</td>\n",
       "      <td>0.003103</td>\n",
       "      <td>0.003046</td>\n",
       "      <td>0.000941</td>\n",
       "      <td>0.003117</td>\n",
       "      <td>...</td>\n",
       "      <td>0.021816</td>\n",
       "      <td>0.030599</td>\n",
       "      <td>0.344763</td>\n",
       "      <td>0.029454</td>\n",
       "      <td>0.153957</td>\n",
       "      <td>0.253468</td>\n",
       "      <td>0.063587</td>\n",
       "      <td>0.118900</td>\n",
       "      <td>4</td>\n",
       "      <td>0</td>\n",
       "    </tr>\n",
       "    <tr>\n",
       "      <th>7</th>\n",
       "      <td>1</td>\n",
       "      <td>0.111626</td>\n",
       "      <td>0.030752</td>\n",
       "      <td>0.011096</td>\n",
       "      <td>0.000832</td>\n",
       "      <td>0.000832</td>\n",
       "      <td>0.000832</td>\n",
       "      <td>0.000832</td>\n",
       "      <td>0.000832</td>\n",
       "      <td>0.000832</td>\n",
       "      <td>...</td>\n",
       "      <td>0.021584</td>\n",
       "      <td>0.033518</td>\n",
       "      <td>0.245637</td>\n",
       "      <td>0.020587</td>\n",
       "      <td>0.185380</td>\n",
       "      <td>0.159851</td>\n",
       "      <td>0.082961</td>\n",
       "      <td>0.101554</td>\n",
       "      <td>4</td>\n",
       "      <td>0</td>\n",
       "    </tr>\n",
       "    <tr>\n",
       "      <th>8</th>\n",
       "      <td>0</td>\n",
       "      <td>0.160207</td>\n",
       "      <td>0.038966</td>\n",
       "      <td>0.013056</td>\n",
       "      <td>0.002832</td>\n",
       "      <td>0.001893</td>\n",
       "      <td>0.003246</td>\n",
       "      <td>0.000934</td>\n",
       "      <td>0.000934</td>\n",
       "      <td>0.002383</td>\n",
       "      <td>...</td>\n",
       "      <td>0.026331</td>\n",
       "      <td>0.027682</td>\n",
       "      <td>0.240438</td>\n",
       "      <td>0.023459</td>\n",
       "      <td>0.121336</td>\n",
       "      <td>0.197046</td>\n",
       "      <td>0.052422</td>\n",
       "      <td>0.287363</td>\n",
       "      <td>5</td>\n",
       "      <td>0</td>\n",
       "    </tr>\n",
       "    <tr>\n",
       "      <th>9</th>\n",
       "      <td>1</td>\n",
       "      <td>0.129253</td>\n",
       "      <td>0.031197</td>\n",
       "      <td>0.011793</td>\n",
       "      <td>0.001061</td>\n",
       "      <td>0.001061</td>\n",
       "      <td>0.001061</td>\n",
       "      <td>0.003476</td>\n",
       "      <td>0.001061</td>\n",
       "      <td>0.003567</td>\n",
       "      <td>...</td>\n",
       "      <td>0.023904</td>\n",
       "      <td>0.030442</td>\n",
       "      <td>0.216346</td>\n",
       "      <td>0.024343</td>\n",
       "      <td>0.199169</td>\n",
       "      <td>0.174640</td>\n",
       "      <td>0.081636</td>\n",
       "      <td>0.055060</td>\n",
       "      <td>5</td>\n",
       "      <td>0</td>\n",
       "    </tr>\n",
       "  </tbody>\n",
       "</table>\n",
       "<p>10 rows × 826 columns</p>\n",
       "</div>"
      ],
      "text/plain": [
       "   AfterProbiotic  (12 or 13)-methylmyristate (a15:0 or i15:0)  \\\n",
       "0               0                                     0.097699   \n",
       "1               1                                     0.158941   \n",
       "2               0                                     0.119596   \n",
       "3               1                                     0.130916   \n",
       "4               0                                     0.103788   \n",
       "5               1                                     0.154498   \n",
       "6               0                                     0.178249   \n",
       "7               1                                     0.111626   \n",
       "8               0                                     0.160207   \n",
       "9               1                                     0.129253   \n",
       "\n",
       "   (14 or 15)-methylpalmitate (a17:0 or i17:0)  \\\n",
       "0                                     0.031264   \n",
       "1                                     0.033450   \n",
       "2                                     0.034288   \n",
       "3                                     0.037041   \n",
       "4                                     0.037460   \n",
       "5                                     0.036943   \n",
       "6                                     0.040164   \n",
       "7                                     0.030752   \n",
       "8                                     0.038966   \n",
       "9                                     0.031197   \n",
       "\n",
       "   (16 or 17)-methylstearate (a19:0 or i19:0)  (3'-5')-adenylyladenosine*  \\\n",
       "0                                    0.011751                    0.002530   \n",
       "1                                    0.010874                    0.000659   \n",
       "2                                    0.011585                    0.001485   \n",
       "3                                    0.015447                    0.000921   \n",
       "4                                    0.014543                    0.002526   \n",
       "5                                    0.014053                    0.003345   \n",
       "6                                    0.015899                    0.003001   \n",
       "7                                    0.011096                    0.000832   \n",
       "8                                    0.013056                    0.002832   \n",
       "9                                    0.011793                    0.001061   \n",
       "\n",
       "   (3'-5')-adenylylcytidine  (3'-5')-adenylyluridine  \\\n",
       "0                  0.001595                 0.002532   \n",
       "1                  0.000659                 0.000659   \n",
       "2                  0.000785                 0.001638   \n",
       "3                  0.000921                 0.000921   \n",
       "4                  0.002436                 0.002764   \n",
       "5                  0.002256                 0.003578   \n",
       "6                  0.002235                 0.003103   \n",
       "7                  0.000832                 0.000832   \n",
       "8                  0.001893                 0.003246   \n",
       "9                  0.001061                 0.001061   \n",
       "\n",
       "   (3'-5')-cytidylylcytidine*  (3'-5')-cytidylylguanosine  \\\n",
       "0                    0.002700                    0.001522   \n",
       "1                    0.000659                    0.000659   \n",
       "2                    0.001818                    0.000785   \n",
       "3                    0.000921                    0.000921   \n",
       "4                    0.003566                    0.000709   \n",
       "5                    0.003453                    0.002385   \n",
       "6                    0.003046                    0.000941   \n",
       "7                    0.000832                    0.000832   \n",
       "8                    0.000934                    0.000934   \n",
       "9                    0.003476                    0.001061   \n",
       "\n",
       "   (3'-5')-cytidylyluridine*  ...  sedoheptulose  suberate (C8-DC)  succinate  \\\n",
       "0                   0.002641  ...       0.040729          0.024735   0.347333   \n",
       "1                   0.001236  ...       0.034188          0.042743   0.374643   \n",
       "2                   0.001973  ...       0.060845          0.033103   0.286650   \n",
       "3                   0.000921  ...       0.091777          0.035994   0.442962   \n",
       "4                   0.003389  ...       0.034373          0.032385   0.286454   \n",
       "5                   0.003525  ...       0.058926          0.044877   0.361670   \n",
       "6                   0.003117  ...       0.021816          0.030599   0.344763   \n",
       "7                   0.000832  ...       0.021584          0.033518   0.245637   \n",
       "8                   0.002383  ...       0.026331          0.027682   0.240438   \n",
       "9                   0.003567  ...       0.023904          0.030442   0.216346   \n",
       "\n",
       "   succinimide  threonate  tricarballylate     urate    xylose  mouseID  \\\n",
       "0     0.021981   0.155677         0.241432  0.048367  0.149068        1   \n",
       "1     0.033852   0.088292         0.078611  0.044431  0.180184        1   \n",
       "2     0.030653   0.116940         0.197009  0.045180  0.168328        2   \n",
       "3     0.022208   0.078139         0.105422  0.032510  0.140046        2   \n",
       "4     0.028730   0.195996         0.328468  0.057677  0.072740        3   \n",
       "5     0.031210   0.124713         0.139020  0.063091  0.093225        3   \n",
       "6     0.029454   0.153957         0.253468  0.063587  0.118900        4   \n",
       "7     0.020587   0.185380         0.159851  0.082961  0.101554        4   \n",
       "8     0.023459   0.121336         0.197046  0.052422  0.287363        5   \n",
       "9     0.024343   0.199169         0.174640  0.081636  0.055060        5   \n",
       "\n",
       "   isMale  \n",
       "0       1  \n",
       "1       1  \n",
       "2       1  \n",
       "3       1  \n",
       "4       1  \n",
       "5       1  \n",
       "6       0  \n",
       "7       0  \n",
       "8       0  \n",
       "9       0  \n",
       "\n",
       "[10 rows x 826 columns]"
      ]
     },
     "execution_count": 17,
     "metadata": {},
     "output_type": "execute_result"
    }
   ],
   "source": [
    "final['mouseID'] = (np.arange(len(final)) // 2) + 1\n",
    "final['isMale'] =  [1, 1, 1, 1, 1, 1, 0, 0, 0, 0]\n",
    "final"
   ]
  },
  {
   "cell_type": "code",
   "execution_count": 18,
   "metadata": {},
   "outputs": [],
   "source": [
    "final.to_csv('output/data.csv', index=False)"
   ]
  },
  {
   "cell_type": "markdown",
   "metadata": {
    "id": "g1AwFMgkpkVB"
   },
   "source": [
    "## Linear Model Setup"
   ]
  },
  {
   "cell_type": "code",
   "execution_count": 29,
   "metadata": {},
   "outputs": [
    {
     "name": "stdout",
     "output_type": "stream",
     "text": [
      "/Users/daniel/Documents/School/2020-2021/Spring/Research/FecalMetabolomics/output\n"
     ]
    }
   ],
   "source": [
    "%cd output"
   ]
  },
  {
   "cell_type": "code",
   "execution_count": 30,
   "metadata": {
    "colab": {
     "base_uri": "https://localhost:8080/"
    },
    "id": "NYpK5jQQ7SJK",
    "outputId": "dd929473-62bc-462e-f3f7-3685d1ef0d1f"
   },
   "outputs": [],
   "source": [
    "! mkdir data"
   ]
  },
  {
   "cell_type": "code",
   "execution_count": 36,
   "metadata": {
    "id": "q58f4UVBpW0x"
   },
   "outputs": [],
   "source": [
    "# For each biochemical, create a csv file with just that biochemical\n",
    "\n",
    "for column in range(1, 824):\n",
    "  df = final.iloc[:, [0, column, 824, 825]].copy()\n",
    "  # change name of the biochem column to abundance\n",
    "  df['abundance'] = df[df.columns[1]]\n",
    "  df = df.drop(columns=[df.columns[1]])\n",
    "  df.to_csv(\"data/%d.txt\" % (column))"
   ]
  },
  {
   "cell_type": "code",
   "execution_count": 37,
   "metadata": {
    "id": "3BfBb-Qs7QOj",
    "scrolled": true
   },
   "outputs": [
    {
     "name": "stderr",
     "output_type": "stream",
     "text": [
      "R[write to console]: Error in value[[3L]](cond) : \n",
      "  unable to load shared object '/Users/daniel/opt/anaconda3/envs/data/lib/R/library/methods/libs/methods.so':\n",
      "  dlopen(/Users/daniel/opt/anaconda3/envs/data/lib/R/library/methods/libs/methods.so, 6): Library not loaded: @rpath/libreadline.6.2.dylib\n",
      "  Referenced from: /Users/daniel/opt/anaconda3/envs/data/lib/R/lib/libR.dylib\n",
      "  Reason: image not found\n",
      "\n"
     ]
    },
    {
     "ename": "RRuntimeError",
     "evalue": "Error in value[[3L]](cond) : \n  unable to load shared object '/Users/daniel/opt/anaconda3/envs/data/lib/R/library/methods/libs/methods.so':\n  dlopen(/Users/daniel/opt/anaconda3/envs/data/lib/R/library/methods/libs/methods.so, 6): Library not loaded: @rpath/libreadline.6.2.dylib\n  Referenced from: /Users/daniel/opt/anaconda3/envs/data/lib/R/lib/libR.dylib\n  Reason: image not found\n",
     "output_type": "error",
     "traceback": [
      "\u001b[0;31m---------------------------------------------------------------\u001b[0m",
      "\u001b[0;31mRRuntimeError\u001b[0m                 Traceback (most recent call last)",
      "\u001b[0;32m<ipython-input-37-fb23c6edefe4>\u001b[0m in \u001b[0;36m<module>\u001b[0;34m\u001b[0m\n\u001b[0;32m----> 1\u001b[0;31m \u001b[0mget_ipython\u001b[0m\u001b[0;34m(\u001b[0m\u001b[0;34m)\u001b[0m\u001b[0;34m.\u001b[0m\u001b[0mrun_line_magic\u001b[0m\u001b[0;34m(\u001b[0m\u001b[0;34m'load_ext'\u001b[0m\u001b[0;34m,\u001b[0m \u001b[0;34m'rpy2.ipython'\u001b[0m\u001b[0;34m)\u001b[0m\u001b[0;34m\u001b[0m\u001b[0;34m\u001b[0m\u001b[0m\n\u001b[0m",
      "\u001b[0;32m~/opt/anaconda3/envs/data/lib/python3.8/site-packages/IPython/core/interactiveshell.py\u001b[0m in \u001b[0;36mrun_line_magic\u001b[0;34m(self, magic_name, line, _stack_depth)\u001b[0m\n\u001b[1;32m   2325\u001b[0m                 \u001b[0mkwargs\u001b[0m\u001b[0;34m[\u001b[0m\u001b[0;34m'local_ns'\u001b[0m\u001b[0;34m]\u001b[0m \u001b[0;34m=\u001b[0m \u001b[0mself\u001b[0m\u001b[0;34m.\u001b[0m\u001b[0mget_local_scope\u001b[0m\u001b[0;34m(\u001b[0m\u001b[0mstack_depth\u001b[0m\u001b[0;34m)\u001b[0m\u001b[0;34m\u001b[0m\u001b[0;34m\u001b[0m\u001b[0m\n\u001b[1;32m   2326\u001b[0m             \u001b[0;32mwith\u001b[0m \u001b[0mself\u001b[0m\u001b[0;34m.\u001b[0m\u001b[0mbuiltin_trap\u001b[0m\u001b[0;34m:\u001b[0m\u001b[0;34m\u001b[0m\u001b[0;34m\u001b[0m\u001b[0m\n\u001b[0;32m-> 2327\u001b[0;31m                 \u001b[0mresult\u001b[0m \u001b[0;34m=\u001b[0m \u001b[0mfn\u001b[0m\u001b[0;34m(\u001b[0m\u001b[0;34m*\u001b[0m\u001b[0margs\u001b[0m\u001b[0;34m,\u001b[0m \u001b[0;34m**\u001b[0m\u001b[0mkwargs\u001b[0m\u001b[0;34m)\u001b[0m\u001b[0;34m\u001b[0m\u001b[0;34m\u001b[0m\u001b[0m\n\u001b[0m\u001b[1;32m   2328\u001b[0m             \u001b[0;32mreturn\u001b[0m \u001b[0mresult\u001b[0m\u001b[0;34m\u001b[0m\u001b[0;34m\u001b[0m\u001b[0m\n\u001b[1;32m   2329\u001b[0m \u001b[0;34m\u001b[0m\u001b[0m\n",
      "\u001b[0;32m<decorator-gen-57>\u001b[0m in \u001b[0;36mload_ext\u001b[0;34m(self, module_str)\u001b[0m\n",
      "\u001b[0;32m~/opt/anaconda3/envs/data/lib/python3.8/site-packages/IPython/core/magic.py\u001b[0m in \u001b[0;36m<lambda>\u001b[0;34m(f, *a, **k)\u001b[0m\n\u001b[1;32m    185\u001b[0m     \u001b[0;31m# but it's overkill for just that one bit of state.\u001b[0m\u001b[0;34m\u001b[0m\u001b[0;34m\u001b[0m\u001b[0;34m\u001b[0m\u001b[0m\n\u001b[1;32m    186\u001b[0m     \u001b[0;32mdef\u001b[0m \u001b[0mmagic_deco\u001b[0m\u001b[0;34m(\u001b[0m\u001b[0marg\u001b[0m\u001b[0;34m)\u001b[0m\u001b[0;34m:\u001b[0m\u001b[0;34m\u001b[0m\u001b[0;34m\u001b[0m\u001b[0m\n\u001b[0;32m--> 187\u001b[0;31m         \u001b[0mcall\u001b[0m \u001b[0;34m=\u001b[0m \u001b[0;32mlambda\u001b[0m \u001b[0mf\u001b[0m\u001b[0;34m,\u001b[0m \u001b[0;34m*\u001b[0m\u001b[0ma\u001b[0m\u001b[0;34m,\u001b[0m \u001b[0;34m**\u001b[0m\u001b[0mk\u001b[0m\u001b[0;34m:\u001b[0m \u001b[0mf\u001b[0m\u001b[0;34m(\u001b[0m\u001b[0;34m*\u001b[0m\u001b[0ma\u001b[0m\u001b[0;34m,\u001b[0m \u001b[0;34m**\u001b[0m\u001b[0mk\u001b[0m\u001b[0;34m)\u001b[0m\u001b[0;34m\u001b[0m\u001b[0;34m\u001b[0m\u001b[0m\n\u001b[0m\u001b[1;32m    188\u001b[0m \u001b[0;34m\u001b[0m\u001b[0m\n\u001b[1;32m    189\u001b[0m         \u001b[0;32mif\u001b[0m \u001b[0mcallable\u001b[0m\u001b[0;34m(\u001b[0m\u001b[0marg\u001b[0m\u001b[0;34m)\u001b[0m\u001b[0;34m:\u001b[0m\u001b[0;34m\u001b[0m\u001b[0;34m\u001b[0m\u001b[0m\n",
      "\u001b[0;32m~/opt/anaconda3/envs/data/lib/python3.8/site-packages/IPython/core/magics/extension.py\u001b[0m in \u001b[0;36mload_ext\u001b[0;34m(self, module_str)\u001b[0m\n\u001b[1;32m     31\u001b[0m         \u001b[0;32mif\u001b[0m \u001b[0;32mnot\u001b[0m \u001b[0mmodule_str\u001b[0m\u001b[0;34m:\u001b[0m\u001b[0;34m\u001b[0m\u001b[0;34m\u001b[0m\u001b[0m\n\u001b[1;32m     32\u001b[0m             \u001b[0;32mraise\u001b[0m \u001b[0mUsageError\u001b[0m\u001b[0;34m(\u001b[0m\u001b[0;34m'Missing module name.'\u001b[0m\u001b[0;34m)\u001b[0m\u001b[0;34m\u001b[0m\u001b[0;34m\u001b[0m\u001b[0m\n\u001b[0;32m---> 33\u001b[0;31m         \u001b[0mres\u001b[0m \u001b[0;34m=\u001b[0m \u001b[0mself\u001b[0m\u001b[0;34m.\u001b[0m\u001b[0mshell\u001b[0m\u001b[0;34m.\u001b[0m\u001b[0mextension_manager\u001b[0m\u001b[0;34m.\u001b[0m\u001b[0mload_extension\u001b[0m\u001b[0;34m(\u001b[0m\u001b[0mmodule_str\u001b[0m\u001b[0;34m)\u001b[0m\u001b[0;34m\u001b[0m\u001b[0;34m\u001b[0m\u001b[0m\n\u001b[0m\u001b[1;32m     34\u001b[0m \u001b[0;34m\u001b[0m\u001b[0m\n\u001b[1;32m     35\u001b[0m         \u001b[0;32mif\u001b[0m \u001b[0mres\u001b[0m \u001b[0;34m==\u001b[0m \u001b[0;34m'already loaded'\u001b[0m\u001b[0;34m:\u001b[0m\u001b[0;34m\u001b[0m\u001b[0;34m\u001b[0m\u001b[0m\n",
      "\u001b[0;32m~/opt/anaconda3/envs/data/lib/python3.8/site-packages/IPython/core/extensions.py\u001b[0m in \u001b[0;36mload_extension\u001b[0;34m(self, module_str)\u001b[0m\n\u001b[1;32m     78\u001b[0m             \u001b[0;32mif\u001b[0m \u001b[0mmodule_str\u001b[0m \u001b[0;32mnot\u001b[0m \u001b[0;32min\u001b[0m \u001b[0msys\u001b[0m\u001b[0;34m.\u001b[0m\u001b[0mmodules\u001b[0m\u001b[0;34m:\u001b[0m\u001b[0;34m\u001b[0m\u001b[0;34m\u001b[0m\u001b[0m\n\u001b[1;32m     79\u001b[0m                 \u001b[0;32mwith\u001b[0m \u001b[0mprepended_to_syspath\u001b[0m\u001b[0;34m(\u001b[0m\u001b[0mself\u001b[0m\u001b[0;34m.\u001b[0m\u001b[0mipython_extension_dir\u001b[0m\u001b[0;34m)\u001b[0m\u001b[0;34m:\u001b[0m\u001b[0;34m\u001b[0m\u001b[0;34m\u001b[0m\u001b[0m\n\u001b[0;32m---> 80\u001b[0;31m                     \u001b[0mmod\u001b[0m \u001b[0;34m=\u001b[0m \u001b[0mimport_module\u001b[0m\u001b[0;34m(\u001b[0m\u001b[0mmodule_str\u001b[0m\u001b[0;34m)\u001b[0m\u001b[0;34m\u001b[0m\u001b[0;34m\u001b[0m\u001b[0m\n\u001b[0m\u001b[1;32m     81\u001b[0m                     \u001b[0;32mif\u001b[0m \u001b[0mmod\u001b[0m\u001b[0;34m.\u001b[0m\u001b[0m__file__\u001b[0m\u001b[0;34m.\u001b[0m\u001b[0mstartswith\u001b[0m\u001b[0;34m(\u001b[0m\u001b[0mself\u001b[0m\u001b[0;34m.\u001b[0m\u001b[0mipython_extension_dir\u001b[0m\u001b[0;34m)\u001b[0m\u001b[0;34m:\u001b[0m\u001b[0;34m\u001b[0m\u001b[0;34m\u001b[0m\u001b[0m\n\u001b[1;32m     82\u001b[0m                         print((\"Loading extensions from {dir} is deprecated. \"\n",
      "\u001b[0;32m~/opt/anaconda3/envs/data/lib/python3.8/importlib/__init__.py\u001b[0m in \u001b[0;36mimport_module\u001b[0;34m(name, package)\u001b[0m\n\u001b[1;32m    125\u001b[0m                 \u001b[0;32mbreak\u001b[0m\u001b[0;34m\u001b[0m\u001b[0;34m\u001b[0m\u001b[0m\n\u001b[1;32m    126\u001b[0m             \u001b[0mlevel\u001b[0m \u001b[0;34m+=\u001b[0m \u001b[0;36m1\u001b[0m\u001b[0;34m\u001b[0m\u001b[0;34m\u001b[0m\u001b[0m\n\u001b[0;32m--> 127\u001b[0;31m     \u001b[0;32mreturn\u001b[0m \u001b[0m_bootstrap\u001b[0m\u001b[0;34m.\u001b[0m\u001b[0m_gcd_import\u001b[0m\u001b[0;34m(\u001b[0m\u001b[0mname\u001b[0m\u001b[0;34m[\u001b[0m\u001b[0mlevel\u001b[0m\u001b[0;34m:\u001b[0m\u001b[0;34m]\u001b[0m\u001b[0;34m,\u001b[0m \u001b[0mpackage\u001b[0m\u001b[0;34m,\u001b[0m \u001b[0mlevel\u001b[0m\u001b[0;34m)\u001b[0m\u001b[0;34m\u001b[0m\u001b[0;34m\u001b[0m\u001b[0m\n\u001b[0m\u001b[1;32m    128\u001b[0m \u001b[0;34m\u001b[0m\u001b[0m\n\u001b[1;32m    129\u001b[0m \u001b[0;34m\u001b[0m\u001b[0m\n",
      "\u001b[0;32m~/opt/anaconda3/envs/data/lib/python3.8/importlib/_bootstrap.py\u001b[0m in \u001b[0;36m_gcd_import\u001b[0;34m(name, package, level)\u001b[0m\n",
      "\u001b[0;32m~/opt/anaconda3/envs/data/lib/python3.8/importlib/_bootstrap.py\u001b[0m in \u001b[0;36m_find_and_load\u001b[0;34m(name, import_)\u001b[0m\n",
      "\u001b[0;32m~/opt/anaconda3/envs/data/lib/python3.8/importlib/_bootstrap.py\u001b[0m in \u001b[0;36m_find_and_load_unlocked\u001b[0;34m(name, import_)\u001b[0m\n",
      "\u001b[0;32m~/opt/anaconda3/envs/data/lib/python3.8/importlib/_bootstrap.py\u001b[0m in \u001b[0;36m_load_unlocked\u001b[0;34m(spec)\u001b[0m\n",
      "\u001b[0;32m~/opt/anaconda3/envs/data/lib/python3.8/importlib/_bootstrap_external.py\u001b[0m in \u001b[0;36mexec_module\u001b[0;34m(self, module)\u001b[0m\n",
      "\u001b[0;32m~/opt/anaconda3/envs/data/lib/python3.8/importlib/_bootstrap.py\u001b[0m in \u001b[0;36m_call_with_frames_removed\u001b[0;34m(f, *args, **kwds)\u001b[0m\n",
      "\u001b[0;32m~/opt/anaconda3/envs/data/lib/python3.8/site-packages/rpy2/ipython/__init__.py\u001b[0m in \u001b[0;36m<module>\u001b[0;34m\u001b[0m\n\u001b[0;32m----> 1\u001b[0;31m \u001b[0;32mfrom\u001b[0m \u001b[0;34m.\u001b[0m \u001b[0;32mimport\u001b[0m \u001b[0mrmagic\u001b[0m\u001b[0;34m\u001b[0m\u001b[0;34m\u001b[0m\u001b[0m\n\u001b[0m\u001b[1;32m      2\u001b[0m \u001b[0;34m\u001b[0m\u001b[0m\n\u001b[1;32m      3\u001b[0m \u001b[0mload_ipython_extension\u001b[0m \u001b[0;34m=\u001b[0m \u001b[0mrmagic\u001b[0m\u001b[0;34m.\u001b[0m\u001b[0mload_ipython_extension\u001b[0m\u001b[0;34m\u001b[0m\u001b[0;34m\u001b[0m\u001b[0m\n",
      "\u001b[0;32m~/opt/anaconda3/envs/data/lib/python3.8/site-packages/rpy2/ipython/rmagic.py\u001b[0m in \u001b[0;36m<module>\u001b[0;34m\u001b[0m\n\u001b[1;32m     55\u001b[0m \u001b[0;32mimport\u001b[0m \u001b[0mrpy2\u001b[0m\u001b[0;34m.\u001b[0m\u001b[0mrinterface\u001b[0m \u001b[0;32mas\u001b[0m \u001b[0mri\u001b[0m\u001b[0;34m\u001b[0m\u001b[0;34m\u001b[0m\u001b[0m\n\u001b[1;32m     56\u001b[0m \u001b[0;32mimport\u001b[0m \u001b[0mrpy2\u001b[0m\u001b[0;34m.\u001b[0m\u001b[0mrinterface_lib\u001b[0m\u001b[0;34m.\u001b[0m\u001b[0mcallbacks\u001b[0m\u001b[0;34m\u001b[0m\u001b[0;34m\u001b[0m\u001b[0m\n\u001b[0;32m---> 57\u001b[0;31m \u001b[0;32mimport\u001b[0m \u001b[0mrpy2\u001b[0m\u001b[0;34m.\u001b[0m\u001b[0mrobjects\u001b[0m \u001b[0;32mas\u001b[0m \u001b[0mro\u001b[0m\u001b[0;34m\u001b[0m\u001b[0;34m\u001b[0m\u001b[0m\n\u001b[0m\u001b[1;32m     58\u001b[0m \u001b[0;32mimport\u001b[0m \u001b[0mrpy2\u001b[0m\u001b[0;34m.\u001b[0m\u001b[0mrobjects\u001b[0m\u001b[0;34m.\u001b[0m\u001b[0mpackages\u001b[0m \u001b[0;32mas\u001b[0m \u001b[0mrpacks\u001b[0m\u001b[0;34m\u001b[0m\u001b[0;34m\u001b[0m\u001b[0m\n\u001b[1;32m     59\u001b[0m \u001b[0;32mfrom\u001b[0m \u001b[0mrpy2\u001b[0m\u001b[0;34m.\u001b[0m\u001b[0mrobjects\u001b[0m\u001b[0;34m.\u001b[0m\u001b[0mlib\u001b[0m \u001b[0;32mimport\u001b[0m \u001b[0mgrdevices\u001b[0m\u001b[0;34m\u001b[0m\u001b[0;34m\u001b[0m\u001b[0m\n",
      "\u001b[0;32m~/opt/anaconda3/envs/data/lib/python3.8/site-packages/rpy2/robjects/__init__.py\u001b[0m in \u001b[0;36m<module>\u001b[0;34m\u001b[0m\n\u001b[1;32m     17\u001b[0m \u001b[0;32mimport\u001b[0m \u001b[0mrpy2\u001b[0m\u001b[0;34m.\u001b[0m\u001b[0mrlike\u001b[0m\u001b[0;34m.\u001b[0m\u001b[0mcontainer\u001b[0m \u001b[0;32mas\u001b[0m \u001b[0mrlc\u001b[0m\u001b[0;34m\u001b[0m\u001b[0;34m\u001b[0m\u001b[0m\n\u001b[1;32m     18\u001b[0m \u001b[0;34m\u001b[0m\u001b[0m\n\u001b[0;32m---> 19\u001b[0;31m \u001b[0;32mfrom\u001b[0m \u001b[0mrpy2\u001b[0m\u001b[0;34m.\u001b[0m\u001b[0mrobjects\u001b[0m\u001b[0;34m.\u001b[0m\u001b[0mrobject\u001b[0m \u001b[0;32mimport\u001b[0m \u001b[0mRObjectMixin\u001b[0m\u001b[0;34m,\u001b[0m \u001b[0mRObject\u001b[0m\u001b[0;34m\u001b[0m\u001b[0;34m\u001b[0m\u001b[0m\n\u001b[0m\u001b[1;32m     20\u001b[0m \u001b[0;32mimport\u001b[0m \u001b[0mrpy2\u001b[0m\u001b[0;34m.\u001b[0m\u001b[0mrobjects\u001b[0m\u001b[0;34m.\u001b[0m\u001b[0mfunctions\u001b[0m\u001b[0;34m\u001b[0m\u001b[0;34m\u001b[0m\u001b[0m\n\u001b[1;32m     21\u001b[0m from rpy2.robjects.environments import (Environment,\n",
      "\u001b[0;32m~/opt/anaconda3/envs/data/lib/python3.8/site-packages/rpy2/robjects/robject.py\u001b[0m in \u001b[0;36m<module>\u001b[0;34m\u001b[0m\n\u001b[1;32m     56\u001b[0m \u001b[0;34m\u001b[0m\u001b[0m\n\u001b[1;32m     57\u001b[0m \u001b[0;34m\u001b[0m\u001b[0m\n\u001b[0;32m---> 58\u001b[0;31m \u001b[0;32mclass\u001b[0m \u001b[0mRObjectMixin\u001b[0m\u001b[0;34m(\u001b[0m\u001b[0mobject\u001b[0m\u001b[0;34m)\u001b[0m\u001b[0;34m:\u001b[0m\u001b[0;34m\u001b[0m\u001b[0;34m\u001b[0m\u001b[0m\n\u001b[0m\u001b[1;32m     59\u001b[0m     \u001b[0;34m\"\"\" Class to provide methods common to all RObject instances. \"\"\"\u001b[0m\u001b[0;34m\u001b[0m\u001b[0;34m\u001b[0m\u001b[0m\n\u001b[1;32m     60\u001b[0m \u001b[0;34m\u001b[0m\u001b[0m\n",
      "\u001b[0;32m~/opt/anaconda3/envs/data/lib/python3.8/site-packages/rpy2/robjects/robject.py\u001b[0m in \u001b[0;36mRObjectMixin\u001b[0;34m()\u001b[0m\n\u001b[1;32m     68\u001b[0m     \u001b[0m__readlines\u001b[0m \u001b[0;34m=\u001b[0m \u001b[0mrpy2\u001b[0m\u001b[0;34m.\u001b[0m\u001b[0mrinterface\u001b[0m\u001b[0;34m.\u001b[0m\u001b[0mbaseenv\u001b[0m\u001b[0;34m.\u001b[0m\u001b[0mfind\u001b[0m\u001b[0;34m(\u001b[0m\u001b[0;34m\"readLines\"\u001b[0m\u001b[0;34m)\u001b[0m\u001b[0;34m\u001b[0m\u001b[0;34m\u001b[0m\u001b[0m\n\u001b[1;32m     69\u001b[0m     \u001b[0m__unlink\u001b[0m \u001b[0;34m=\u001b[0m \u001b[0mrpy2\u001b[0m\u001b[0;34m.\u001b[0m\u001b[0mrinterface\u001b[0m\u001b[0;34m.\u001b[0m\u001b[0mbaseenv\u001b[0m\u001b[0;34m.\u001b[0m\u001b[0mfind\u001b[0m\u001b[0;34m(\u001b[0m\u001b[0;34m\"unlink\"\u001b[0m\u001b[0;34m)\u001b[0m\u001b[0;34m\u001b[0m\u001b[0;34m\u001b[0m\u001b[0m\n\u001b[0;32m---> 70\u001b[0;31m     \u001b[0m__show\u001b[0m \u001b[0;34m=\u001b[0m \u001b[0m_get_exported_value\u001b[0m\u001b[0;34m(\u001b[0m\u001b[0;34m'methods'\u001b[0m\u001b[0;34m,\u001b[0m \u001b[0;34m'show'\u001b[0m\u001b[0;34m)\u001b[0m\u001b[0;34m\u001b[0m\u001b[0;34m\u001b[0m\u001b[0m\n\u001b[0m\u001b[1;32m     71\u001b[0m \u001b[0;34m\u001b[0m\u001b[0m\n\u001b[1;32m     72\u001b[0m     \u001b[0m__slots\u001b[0m \u001b[0;34m=\u001b[0m \u001b[0;32mNone\u001b[0m\u001b[0;34m\u001b[0m\u001b[0;34m\u001b[0m\u001b[0m\n",
      "\u001b[0;32m~/opt/anaconda3/envs/data/lib/python3.8/site-packages/rpy2/rinterface_lib/conversion.py\u001b[0m in \u001b[0;36m_\u001b[0;34m(*args, **kwargs)\u001b[0m\n\u001b[1;32m     43\u001b[0m \u001b[0;32mdef\u001b[0m \u001b[0m_cdata_res_to_rinterface\u001b[0m\u001b[0;34m(\u001b[0m\u001b[0mfunction\u001b[0m\u001b[0;34m)\u001b[0m\u001b[0;34m:\u001b[0m\u001b[0;34m\u001b[0m\u001b[0;34m\u001b[0m\u001b[0m\n\u001b[1;32m     44\u001b[0m     \u001b[0;32mdef\u001b[0m \u001b[0m_\u001b[0m\u001b[0;34m(\u001b[0m\u001b[0;34m*\u001b[0m\u001b[0margs\u001b[0m\u001b[0;34m,\u001b[0m \u001b[0;34m**\u001b[0m\u001b[0mkwargs\u001b[0m\u001b[0;34m)\u001b[0m\u001b[0;34m:\u001b[0m\u001b[0;34m\u001b[0m\u001b[0;34m\u001b[0m\u001b[0m\n\u001b[0;32m---> 45\u001b[0;31m         \u001b[0mcdata\u001b[0m \u001b[0;34m=\u001b[0m \u001b[0mfunction\u001b[0m\u001b[0;34m(\u001b[0m\u001b[0;34m*\u001b[0m\u001b[0margs\u001b[0m\u001b[0;34m,\u001b[0m \u001b[0;34m**\u001b[0m\u001b[0mkwargs\u001b[0m\u001b[0;34m)\u001b[0m\u001b[0;34m\u001b[0m\u001b[0;34m\u001b[0m\u001b[0m\n\u001b[0m\u001b[1;32m     46\u001b[0m         \u001b[0;31m# TODO: test cdata is of the expected CType\u001b[0m\u001b[0;34m\u001b[0m\u001b[0;34m\u001b[0m\u001b[0;34m\u001b[0m\u001b[0m\n\u001b[1;32m     47\u001b[0m         \u001b[0;32mreturn\u001b[0m \u001b[0m_cdata_to_rinterface\u001b[0m\u001b[0;34m(\u001b[0m\u001b[0mcdata\u001b[0m\u001b[0;34m)\u001b[0m\u001b[0;34m\u001b[0m\u001b[0;34m\u001b[0m\u001b[0m\n",
      "\u001b[0;32m~/opt/anaconda3/envs/data/lib/python3.8/site-packages/rpy2/rinterface.py\u001b[0m in \u001b[0;36m__call__\u001b[0;34m(self, *args, **kwargs)\u001b[0m\n\u001b[1;32m    678\u001b[0m             )\n\u001b[1;32m    679\u001b[0m             \u001b[0;32mif\u001b[0m \u001b[0merror_occured\u001b[0m\u001b[0;34m[\u001b[0m\u001b[0;36m0\u001b[0m\u001b[0;34m]\u001b[0m\u001b[0;34m:\u001b[0m\u001b[0;34m\u001b[0m\u001b[0;34m\u001b[0m\u001b[0m\n\u001b[0;32m--> 680\u001b[0;31m                 \u001b[0;32mraise\u001b[0m \u001b[0membedded\u001b[0m\u001b[0;34m.\u001b[0m\u001b[0mRRuntimeError\u001b[0m\u001b[0;34m(\u001b[0m\u001b[0m_rinterface\u001b[0m\u001b[0;34m.\u001b[0m\u001b[0m_geterrmessage\u001b[0m\u001b[0;34m(\u001b[0m\u001b[0;34m)\u001b[0m\u001b[0;34m)\u001b[0m\u001b[0;34m\u001b[0m\u001b[0;34m\u001b[0m\u001b[0m\n\u001b[0m\u001b[1;32m    681\u001b[0m         \u001b[0;32mreturn\u001b[0m \u001b[0mres\u001b[0m\u001b[0;34m\u001b[0m\u001b[0;34m\u001b[0m\u001b[0m\n\u001b[1;32m    682\u001b[0m \u001b[0;34m\u001b[0m\u001b[0m\n",
      "\u001b[0;31mRRuntimeError\u001b[0m: Error in value[[3L]](cond) : \n  unable to load shared object '/Users/daniel/opt/anaconda3/envs/data/lib/R/library/methods/libs/methods.so':\n  dlopen(/Users/daniel/opt/anaconda3/envs/data/lib/R/library/methods/libs/methods.so, 6): Library not loaded: @rpath/libreadline.6.2.dylib\n  Referenced from: /Users/daniel/opt/anaconda3/envs/data/lib/R/lib/libR.dylib\n  Reason: image not found\n"
     ]
    }
   ],
   "source": [
    "%load_ext rpy2.ipython"
   ]
  },
  {
   "cell_type": "code",
   "execution_count": 26,
   "metadata": {
    "id": "HNWmrY2479YX"
   },
   "outputs": [],
   "source": [
    "import rpy2.ipython.html\n",
    "rpy2.ipython.html.init_printing()"
   ]
  },
  {
   "cell_type": "code",
   "execution_count": 27,
   "metadata": {
    "colab": {
     "base_uri": "https://localhost:8080/"
    },
    "id": "Qwn9FyaQ8KQj",
    "outputId": "498c3cbc-a91f-44f1-cbd7-70cca540549d"
   },
   "outputs": [
    {
     "name": "stdout",
     "output_type": "stream",
     "text": [
      "mkdir: cannot create directory ‘p_values’: File exists\n"
     ]
    }
   ],
   "source": [
    "! mkdir p_values"
   ]
  },
  {
   "cell_type": "markdown",
   "metadata": {
    "id": "dJgH2L5M_r3x"
   },
   "source": [
    "## Model 1: dependent variable is metabolite; independent variable is time-point.\n"
   ]
  },
  {
   "cell_type": "code",
   "execution_count": 28,
   "metadata": {
    "colab": {
     "base_uri": "https://localhost:8080/"
    },
    "id": "JLnT7nsz_kcy",
    "outputId": "2ce0408d-7e4b-4896-ceef-b645306bda4e"
   },
   "outputs": [
    {
     "name": "stdout",
     "output_type": "stream",
     "text": [
      "mkdir: cannot create directory ‘p_values/m1’: File exists\n"
     ]
    }
   ],
   "source": [
    "! mkdir p_values/m1"
   ]
  },
  {
   "cell_type": "code",
   "execution_count": 29,
   "metadata": {
    "id": "HX81uA2TAG0y"
   },
   "outputs": [],
   "source": [
    "%%R\n",
    "p_vals_m1 = data.frame(\n",
    "   p_val = c(1:823)\n",
    ")"
   ]
  },
  {
   "cell_type": "code",
   "execution_count": 30,
   "metadata": {
    "id": "NMBpyau8AL0Z"
   },
   "outputs": [],
   "source": [
    "%%R\n",
    "\n",
    "get_p_val_m1 = function(data) {\n",
    "    model = lm(abundance ~ AfterProbiotic, data=data, family=binomial)\n",
    "    coef = coef(summary(model))[,4]\n",
    "    p_val = coef[2]\n",
    "    return (p_val)\n",
    "}"
   ]
  },
  {
   "cell_type": "code",
   "execution_count": 31,
   "metadata": {
    "colab": {
     "base_uri": "https://localhost:8080/"
    },
    "id": "3Ri4KjDMAgfc",
    "outputId": "de2892ff-a9f5-4355-9410-378b8d9d23ae"
   },
   "outputs": [
    {
     "name": "stdout",
     "output_type": "stream",
     "text": [
      "AfterProbiotic \n",
      "     0.7842764 \n"
     ]
    }
   ],
   "source": [
    "%%R\n",
    "d = read.csv(file=paste(\"/content/data/\", 1, '.txt', sep=\"\"))\n",
    "get_p_val_m1(d)"
   ]
  },
  {
   "cell_type": "code",
   "execution_count": 32,
   "metadata": {
    "id": "wU7rz5o2AXjf"
   },
   "outputs": [],
   "source": [
    "%%R\n",
    "for (id in 1:823) {\n",
    "  data = read.csv(file= paste(\"/content/data/\", id, '.txt', sep=\"\"))\n",
    "  p_val = tryCatch(\n",
    "      get_p_val_m1(data),\n",
    "      error=function(e) {return (1)}\n",
    "  )\n",
    "  p_vals_m1[id, 1] = p_val\n",
    "}"
   ]
  },
  {
   "cell_type": "code",
   "execution_count": 33,
   "metadata": {
    "colab": {
     "base_uri": "https://localhost:8080/"
    },
    "id": "q40R9u_8Aa_6",
    "outputId": "f797181c-ec66-4d23-955c-72984db09e7e"
   },
   "outputs": [
    {
     "name": "stdout",
     "output_type": "stream",
     "text": [
      "       p_val\n",
      "1 0.78427639\n",
      "2 0.26153344\n",
      "3 0.57429065\n",
      "4 0.08475590\n",
      "5 0.15217360\n",
      "6 0.07744751\n"
     ]
    }
   ],
   "source": [
    "%%R\n",
    "head(p_vals_m1)"
   ]
  },
  {
   "cell_type": "code",
   "execution_count": 34,
   "metadata": {
    "id": "mzPH0XdtEuad"
   },
   "outputs": [],
   "source": [
    "%%R\n",
    "write.csv(p_vals_m1, \"p_values/m1/p_vals_time.csv\")"
   ]
  },
  {
   "cell_type": "markdown",
   "metadata": {
    "id": "od4YbCXG_v1U"
   },
   "source": [
    "## Model 2: dependent variable is metabolite; independent variables are time-point and mouse sex."
   ]
  },
  {
   "cell_type": "code",
   "execution_count": 35,
   "metadata": {
    "colab": {
     "base_uri": "https://localhost:8080/"
    },
    "id": "-7_gMR9QFM2K",
    "outputId": "9beb464d-9782-4a3a-b33b-abe6bdb9b5e6"
   },
   "outputs": [
    {
     "name": "stdout",
     "output_type": "stream",
     "text": [
      "mkdir: cannot create directory ‘p_values/m2’: File exists\n"
     ]
    }
   ],
   "source": [
    "! mkdir p_values/m2"
   ]
  },
  {
   "cell_type": "code",
   "execution_count": 36,
   "metadata": {
    "id": "HD_7K67g_yVP"
   },
   "outputs": [],
   "source": [
    "%%R\n",
    "\n",
    "p_vals_m2_time = data.frame(\n",
    "   p_val = c(1:823)\n",
    ")\n",
    "p_vals_m2_sex = data.frame(\n",
    "   p_val = c(1:823)\n",
    ")"
   ]
  },
  {
   "cell_type": "code",
   "execution_count": 37,
   "metadata": {
    "id": "osPXMlM2FdLJ"
   },
   "outputs": [],
   "source": [
    "%%R\n",
    "\n",
    "get_p_vals_m2 = function(data) {\n",
    "    model = lm(abundance ~ AfterProbiotic + isMale, data=data, family=binomial)\n",
    "    coef = coef(summary(model))[,4]\n",
    "    p_val_time = coef[2]\n",
    "    p_val_sex = coef[3]\n",
    "    return (list(p_val_time, p_val_sex))\n",
    "}"
   ]
  },
  {
   "cell_type": "code",
   "execution_count": 38,
   "metadata": {
    "colab": {
     "base_uri": "https://localhost:8080/"
    },
    "id": "yhiZL-cIFr_W",
    "outputId": "019e5468-0602-4178-dabb-4a4f36ac6fc7"
   },
   "outputs": [
    {
     "name": "stdout",
     "output_type": "stream",
     "text": [
      "[[1]]\n",
      "AfterProbiotic \n",
      "     0.7872136 \n",
      "\n",
      "[[2]]\n",
      "   isMale \n",
      "0.3866779 \n",
      "\n"
     ]
    }
   ],
   "source": [
    "%%R\n",
    "d = read.csv(file=paste(\"/content/data/\", 1, '.txt', sep=\"\"))\n",
    "plist = get_p_vals_m2(d)\n",
    "plist"
   ]
  },
  {
   "cell_type": "code",
   "execution_count": 39,
   "metadata": {
    "id": "_r3QJ_RfF8wq"
   },
   "outputs": [],
   "source": [
    "%%R\n",
    "for (id in 1:823) {\n",
    "  data = read.csv(file= paste(\"/content/data/\", id, '.txt', sep=\"\"))\n",
    "  p_val_list = tryCatch(\n",
    "      get_p_vals_m2(data),\n",
    "      error=function(e) {return (list(1, 1))}\n",
    "  )\n",
    "  p_vals_m2_time[id, 1] = p_val_list[1]\n",
    "  p_vals_m2_sex[id, 1] = p_val_list[2]\n",
    "}"
   ]
  },
  {
   "cell_type": "code",
   "execution_count": 40,
   "metadata": {
    "colab": {
     "base_uri": "https://localhost:8080/"
    },
    "id": "aCuW0Y5XGK_s",
    "outputId": "fadc19c9-099b-4a03-924e-5a3db95f3d31"
   },
   "outputs": [
    {
     "name": "stdout",
     "output_type": "stream",
     "text": [
      "       p_val\n",
      "1 0.78721358\n",
      "2 0.29547503\n",
      "3 0.60077369\n",
      "4 0.10835108\n",
      "5 0.18176135\n",
      "6 0.09995548\n"
     ]
    }
   ],
   "source": [
    "%%R\n",
    "head(p_vals_m2_time)"
   ]
  },
  {
   "cell_type": "code",
   "execution_count": 41,
   "metadata": {
    "colab": {
     "base_uri": "https://localhost:8080/"
    },
    "id": "6er6YE9jGOby",
    "outputId": "37f6f121-1073-4d30-f311-9e5ab22e76fe"
   },
   "outputs": [
    {
     "name": "stdout",
     "output_type": "stream",
     "text": [
      "      p_val\n",
      "1 0.3866779\n",
      "2 0.9349330\n",
      "3 0.9530354\n",
      "4 0.9745062\n",
      "5 0.8905023\n",
      "6 0.9485944\n"
     ]
    }
   ],
   "source": [
    "%%R\n",
    "\n",
    "head(p_vals_m2_sex)"
   ]
  },
  {
   "cell_type": "code",
   "execution_count": 42,
   "metadata": {
    "id": "kJ_yRNhFG7kw"
   },
   "outputs": [],
   "source": [
    "%%R\n",
    "\n",
    "write.csv(p_vals_m2_time, \"p_values/m2/p_vals_time.csv\")\n",
    "write.csv(p_vals_m2_sex, \"p_values/m2/p_vals_sex.csv\")"
   ]
  },
  {
   "cell_type": "markdown",
   "metadata": {
    "id": "UqVlI26H_y5e"
   },
   "source": [
    "## Model 3: dependent variable is metabolite; independent variables are time-point and mouse sex, and also control for mouseID as a random-effect (use 'lmer' function with (1|mouseID)."
   ]
  },
  {
   "cell_type": "code",
   "execution_count": 43,
   "metadata": {
    "colab": {
     "base_uri": "https://localhost:8080/"
    },
    "id": "MVzbR34W_0Jb",
    "outputId": "98e15fdf-ca0d-49b1-caeb-b12bad0d6559"
   },
   "outputs": [
    {
     "name": "stdout",
     "output_type": "stream",
     "text": [
      "mkdir: cannot create directory ‘p_values/m3’: File exists\n"
     ]
    }
   ],
   "source": [
    "! mkdir p_values/m3"
   ]
  },
  {
   "cell_type": "code",
   "execution_count": null,
   "metadata": {
    "id": "-OMu9dHw3OHK"
   },
   "outputs": [],
   "source": [
    "%%R\n",
    "\n",
    "install.packages(\"lmerTest\")"
   ]
  },
  {
   "cell_type": "code",
   "execution_count": 44,
   "metadata": {
    "id": "39svJHe8HIfF"
   },
   "outputs": [],
   "source": [
    "%%R\n",
    "\n",
    "p_vals_m3_time = data.frame(\n",
    "   p_val = c(1:823)\n",
    ")\n",
    "p_vals_m3_sex = data.frame(\n",
    "   p_val = c(1:823)\n",
    ")"
   ]
  },
  {
   "cell_type": "code",
   "execution_count": null,
   "metadata": {
    "id": "CYNRdzygHOum"
   },
   "outputs": [],
   "source": [
    "%%R\n",
    "\n",
    "library(lmerTest)\n",
    "get_p_vals_m3 = function(data) {\n",
    "    model = lmer(abundance ~ AfterProbiotic + isMale + (1|mouseID), data=data)\n",
    "    coef = coef(summary(model))[,5]\n",
    "    p_val_time = coef[2]\n",
    "    p_val_sex = coef[3]\n",
    "    return (list(p_val_time, p_val_sex))\n",
    "}"
   ]
  },
  {
   "cell_type": "code",
   "execution_count": 46,
   "metadata": {
    "colab": {
     "base_uri": "https://localhost:8080/"
    },
    "id": "NJ0WKRRaHXvB",
    "outputId": "8b387a9b-9171-4ea8-fb99-542d1a5a4e3a"
   },
   "outputs": [
    {
     "name": "stderr",
     "output_type": "stream",
     "text": [
      "R[write to console]: boundary (singular) fit: see ?isSingular\n",
      "\n"
     ]
    },
    {
     "name": "stdout",
     "output_type": "stream",
     "text": [
      "[[1]]\n",
      "AfterProbiotic \n",
      "     0.7872136 \n",
      "\n",
      "[[2]]\n",
      "   isMale \n",
      "0.3866779 \n",
      "\n"
     ]
    }
   ],
   "source": [
    "%%R\n",
    "d = read.csv(file=paste(\"/content/data/\", 1, '.txt', sep=\"\"))\n",
    "get_p_vals_m3(d)"
   ]
  },
  {
   "cell_type": "code",
   "execution_count": null,
   "metadata": {
    "id": "3D7LA4tUHbrM"
   },
   "outputs": [],
   "source": [
    "%%R\n",
    "for (id in 1:823) {\n",
    "  data = read.csv(file= paste(\"/content/data/\", id, '.txt', sep=\"\"))\n",
    "  p_val_list = tryCatch(\n",
    "      get_p_vals_m3(data),\n",
    "      error=function(e) {return (list(1, 1))}\n",
    "  )\n",
    "  p_vals_m3_time[id, 1] = p_val_list[1]\n",
    "  p_vals_m3_sex[id, 1] = p_val_list[2]\n",
    "}"
   ]
  },
  {
   "cell_type": "code",
   "execution_count": 48,
   "metadata": {
    "colab": {
     "base_uri": "https://localhost:8080/"
    },
    "id": "NAiC9HyAJOkc",
    "outputId": "49700b17-e46c-445c-eb9e-d0bebe559c4e"
   },
   "outputs": [
    {
     "name": "stdout",
     "output_type": "stream",
     "text": [
      "      p_val\n",
      "1 0.7872136\n",
      "2 0.2954750\n",
      "3 0.6007737\n",
      "4 0.1158122\n",
      "5 0.0801481\n",
      "6 0.1002768\n"
     ]
    }
   ],
   "source": [
    "%%R \n",
    "\n",
    "head(p_vals_m3_time)"
   ]
  },
  {
   "cell_type": "code",
   "execution_count": 49,
   "metadata": {
    "colab": {
     "base_uri": "https://localhost:8080/"
    },
    "id": "TMNWoAQkJpIJ",
    "outputId": "834ab5dc-a17d-4ea1-9d5a-3c9fa8e9cfc3"
   },
   "outputs": [
    {
     "name": "stdout",
     "output_type": "stream",
     "text": [
      "      p_val\n",
      "1 0.3866779\n",
      "2 0.9349330\n",
      "3 0.9530354\n",
      "4 0.9778500\n",
      "5 0.9218480\n",
      "6 0.9565760\n"
     ]
    }
   ],
   "source": [
    "%%R\n",
    "\n",
    "head(p_vals_m3_sex)"
   ]
  },
  {
   "cell_type": "code",
   "execution_count": 50,
   "metadata": {
    "id": "qXK-HNoDJk4t"
   },
   "outputs": [],
   "source": [
    "%%R\n",
    "\n",
    "write.csv(p_vals_m3_time, \"p_values/m3/p_vals_time.csv\")\n",
    "write.csv(p_vals_m3_sex, \"p_values/m3/p_vals_sex.csv\")"
   ]
  },
  {
   "cell_type": "markdown",
   "metadata": {
    "id": "IH_wHIiGKEOR"
   },
   "source": [
    "## Analysis"
   ]
  },
  {
   "cell_type": "code",
   "execution_count": 61,
   "metadata": {
    "id": "3gykx7LOqB_j"
   },
   "outputs": [],
   "source": [
    "biochemicals = list(final.columns[1:-2])"
   ]
  },
  {
   "cell_type": "code",
   "execution_count": 65,
   "metadata": {
    "id": "ABvYLMAL4S5O"
   },
   "outputs": [],
   "source": [
    "from statsmodels.stats.multitest import fdrcorrection\n",
    "\n",
    "def correct(df):\n",
    "  \"\"\"\n",
    "  Returns a dataframe with the pvals corrected for fdr\n",
    "  \"\"\"\n",
    "  num = df.iloc[:, 0].to_numpy()\n",
    "  corrected = fdrcorrection(num)[1]\n",
    "  newdf = df.copy()\n",
    "  newdf.iloc[:, 0] = corrected\n",
    "  return newdf"
   ]
  },
  {
   "cell_type": "code",
   "execution_count": 66,
   "metadata": {
    "id": "xhRnxaTcsFnl"
   },
   "outputs": [],
   "source": [
    "def addBiochemicals(df):\n",
    "  \"\"\" Uses global variable 'biochemicals' to replace row indicies with biochemical\n",
    "  names\"\"\"\n",
    "  copy = df.copy()\n",
    "  copy.index = biochemicals\n",
    "  return copy"
   ]
  },
  {
   "cell_type": "markdown",
   "metadata": {
    "id": "5xrOmaMrKI2g"
   },
   "source": [
    "Model 1"
   ]
  },
  {
   "cell_type": "code",
   "execution_count": 67,
   "metadata": {
    "id": "hQPlUeqcKIdX"
   },
   "outputs": [],
   "source": [
    "p_vals_m1_time = addBiochemicals(pd.read_csv('p_values/m1/p_vals_time.csv')).iloc[:, [1]]"
   ]
  },
  {
   "cell_type": "code",
   "execution_count": 68,
   "metadata": {
    "colab": {
     "base_uri": "https://localhost:8080/",
     "height": 204
    },
    "id": "tm2ATvO6KUw_",
    "outputId": "13e49de4-3a70-4866-ed9f-6fd4bab2601d"
   },
   "outputs": [
    {
     "data": {
      "text/html": [
       "<div>\n",
       "<style scoped>\n",
       "    .dataframe tbody tr th:only-of-type {\n",
       "        vertical-align: middle;\n",
       "    }\n",
       "\n",
       "    .dataframe tbody tr th {\n",
       "        vertical-align: top;\n",
       "    }\n",
       "\n",
       "    .dataframe thead th {\n",
       "        text-align: right;\n",
       "    }\n",
       "</style>\n",
       "<table border=\"1\" class=\"dataframe\">\n",
       "  <thead>\n",
       "    <tr style=\"text-align: right;\">\n",
       "      <th></th>\n",
       "      <th>p_val</th>\n",
       "    </tr>\n",
       "  </thead>\n",
       "  <tbody>\n",
       "    <tr>\n",
       "      <th>myristoleate (14:1n5)</th>\n",
       "      <td>0.000172</td>\n",
       "    </tr>\n",
       "    <tr>\n",
       "      <th>malate</th>\n",
       "      <td>0.000181</td>\n",
       "    </tr>\n",
       "    <tr>\n",
       "      <th>N-palmitoylglycine</th>\n",
       "      <td>0.000452</td>\n",
       "    </tr>\n",
       "    <tr>\n",
       "      <th>5-hydroxyhexanoate</th>\n",
       "      <td>0.000458</td>\n",
       "    </tr>\n",
       "    <tr>\n",
       "      <th>mannitol/sorbitol</th>\n",
       "      <td>0.000659</td>\n",
       "    </tr>\n",
       "  </tbody>\n",
       "</table>\n",
       "</div>"
      ],
      "text/plain": [
       "                          p_val\n",
       "myristoleate (14:1n5)  0.000172\n",
       "malate                 0.000181\n",
       "N-palmitoylglycine     0.000452\n",
       "5-hydroxyhexanoate     0.000458\n",
       "mannitol/sorbitol      0.000659"
      ]
     },
     "execution_count": 68,
     "metadata": {
      "tags": []
     },
     "output_type": "execute_result"
    }
   ],
   "source": [
    "p_vals_m1_time.nsmallest(5, 'p_val')"
   ]
  },
  {
   "cell_type": "code",
   "execution_count": 69,
   "metadata": {
    "colab": {
     "base_uri": "https://localhost:8080/",
     "height": 204
    },
    "id": "Rg6BtLfG5M07",
    "outputId": "7883a10a-a1e2-417e-f84f-be69ce7fb3f4"
   },
   "outputs": [
    {
     "data": {
      "text/html": [
       "<div>\n",
       "<style scoped>\n",
       "    .dataframe tbody tr th:only-of-type {\n",
       "        vertical-align: middle;\n",
       "    }\n",
       "\n",
       "    .dataframe tbody tr th {\n",
       "        vertical-align: top;\n",
       "    }\n",
       "\n",
       "    .dataframe thead th {\n",
       "        text-align: right;\n",
       "    }\n",
       "</style>\n",
       "<table border=\"1\" class=\"dataframe\">\n",
       "  <thead>\n",
       "    <tr style=\"text-align: right;\">\n",
       "      <th></th>\n",
       "      <th>p_val</th>\n",
       "    </tr>\n",
       "  </thead>\n",
       "  <tbody>\n",
       "    <tr>\n",
       "      <th>malate</th>\n",
       "      <td>0.074655</td>\n",
       "    </tr>\n",
       "    <tr>\n",
       "      <th>myristoleate (14:1n5)</th>\n",
       "      <td>0.074655</td>\n",
       "    </tr>\n",
       "    <tr>\n",
       "      <th>5-hydroxyhexanoate</th>\n",
       "      <td>0.094151</td>\n",
       "    </tr>\n",
       "    <tr>\n",
       "      <th>N-palmitoylglycine</th>\n",
       "      <td>0.094151</td>\n",
       "    </tr>\n",
       "    <tr>\n",
       "      <th>pheophytin A</th>\n",
       "      <td>0.098834</td>\n",
       "    </tr>\n",
       "  </tbody>\n",
       "</table>\n",
       "</div>"
      ],
      "text/plain": [
       "                          p_val\n",
       "malate                 0.074655\n",
       "myristoleate (14:1n5)  0.074655\n",
       "5-hydroxyhexanoate     0.094151\n",
       "N-palmitoylglycine     0.094151\n",
       "pheophytin A           0.098834"
      ]
     },
     "execution_count": 69,
     "metadata": {
      "tags": []
     },
     "output_type": "execute_result"
    }
   ],
   "source": [
    "correct(p_vals_m1_time).nsmallest(5, 'p_val')"
   ]
  },
  {
   "cell_type": "markdown",
   "metadata": {
    "id": "ezywF19kKjaS"
   },
   "source": [
    "Model 2"
   ]
  },
  {
   "cell_type": "code",
   "execution_count": 70,
   "metadata": {
    "id": "1XRXRE3CKaEb"
   },
   "outputs": [],
   "source": [
    "p_vals_m2_time = addBiochemicals(pd.read_csv('p_values/m2/p_vals_time.csv')).iloc[:, [1]]\n",
    "p_vals_m2_sex = addBiochemicals(pd.read_csv('p_values/m2/p_vals_sex.csv')).iloc[:, [1]]"
   ]
  },
  {
   "cell_type": "code",
   "execution_count": 71,
   "metadata": {
    "colab": {
     "base_uri": "https://localhost:8080/",
     "height": 204
    },
    "id": "I8OO0GUAKyLh",
    "outputId": "d7ce6961-9bd5-4ea1-c2a0-9dfb87442424"
   },
   "outputs": [
    {
     "data": {
      "text/html": [
       "<div>\n",
       "<style scoped>\n",
       "    .dataframe tbody tr th:only-of-type {\n",
       "        vertical-align: middle;\n",
       "    }\n",
       "\n",
       "    .dataframe tbody tr th {\n",
       "        vertical-align: top;\n",
       "    }\n",
       "\n",
       "    .dataframe thead th {\n",
       "        text-align: right;\n",
       "    }\n",
       "</style>\n",
       "<table border=\"1\" class=\"dataframe\">\n",
       "  <thead>\n",
       "    <tr style=\"text-align: right;\">\n",
       "      <th></th>\n",
       "      <th>p_val</th>\n",
       "    </tr>\n",
       "  </thead>\n",
       "  <tbody>\n",
       "    <tr>\n",
       "      <th>myristoleate (14:1n5)</th>\n",
       "      <td>0.000360</td>\n",
       "    </tr>\n",
       "    <tr>\n",
       "      <th>malate</th>\n",
       "      <td>0.000402</td>\n",
       "    </tr>\n",
       "    <tr>\n",
       "      <th>2-isopropylmalate</th>\n",
       "      <td>0.000553</td>\n",
       "    </tr>\n",
       "    <tr>\n",
       "      <th>palmitoleoyl ethanolamide*</th>\n",
       "      <td>0.000600</td>\n",
       "    </tr>\n",
       "    <tr>\n",
       "      <th>serotonin</th>\n",
       "      <td>0.000630</td>\n",
       "    </tr>\n",
       "  </tbody>\n",
       "</table>\n",
       "</div>"
      ],
      "text/plain": [
       "                               p_val\n",
       "myristoleate (14:1n5)       0.000360\n",
       "malate                      0.000402\n",
       "2-isopropylmalate           0.000553\n",
       "palmitoleoyl ethanolamide*  0.000600\n",
       "serotonin                   0.000630"
      ]
     },
     "execution_count": 71,
     "metadata": {
      "tags": []
     },
     "output_type": "execute_result"
    }
   ],
   "source": [
    "p_vals_m2_time.nsmallest(5, 'p_val')"
   ]
  },
  {
   "cell_type": "code",
   "execution_count": 72,
   "metadata": {
    "colab": {
     "base_uri": "https://localhost:8080/",
     "height": 204
    },
    "id": "QHdR_5Uh6nH1",
    "outputId": "f72da02d-eda6-420a-b0fb-e69c207ee93c"
   },
   "outputs": [
    {
     "data": {
      "text/html": [
       "<div>\n",
       "<style scoped>\n",
       "    .dataframe tbody tr th:only-of-type {\n",
       "        vertical-align: middle;\n",
       "    }\n",
       "\n",
       "    .dataframe tbody tr th {\n",
       "        vertical-align: top;\n",
       "    }\n",
       "\n",
       "    .dataframe thead th {\n",
       "        text-align: right;\n",
       "    }\n",
       "</style>\n",
       "<table border=\"1\" class=\"dataframe\">\n",
       "  <thead>\n",
       "    <tr style=\"text-align: right;\">\n",
       "      <th></th>\n",
       "      <th>p_val</th>\n",
       "    </tr>\n",
       "  </thead>\n",
       "  <tbody>\n",
       "    <tr>\n",
       "      <th>5-hydroxyhexanoate</th>\n",
       "      <td>0.088764</td>\n",
       "    </tr>\n",
       "    <tr>\n",
       "      <th>malate</th>\n",
       "      <td>0.088764</td>\n",
       "    </tr>\n",
       "    <tr>\n",
       "      <th>myristoleate (14:1n5)</th>\n",
       "      <td>0.088764</td>\n",
       "    </tr>\n",
       "    <tr>\n",
       "      <th>N-palmitoylglycine</th>\n",
       "      <td>0.088764</td>\n",
       "    </tr>\n",
       "    <tr>\n",
       "      <th>N-acetyl-3-methylhistidine*</th>\n",
       "      <td>0.088764</td>\n",
       "    </tr>\n",
       "  </tbody>\n",
       "</table>\n",
       "</div>"
      ],
      "text/plain": [
       "                                p_val\n",
       "5-hydroxyhexanoate           0.088764\n",
       "malate                       0.088764\n",
       "myristoleate (14:1n5)        0.088764\n",
       "N-palmitoylglycine           0.088764\n",
       "N-acetyl-3-methylhistidine*  0.088764"
      ]
     },
     "execution_count": 72,
     "metadata": {
      "tags": []
     },
     "output_type": "execute_result"
    }
   ],
   "source": [
    "p_vals_m2_time_corrected = correct(p_vals_m2_time)\n",
    "p_vals_m2_time_corrected.nsmallest(5, 'p_val')"
   ]
  },
  {
   "cell_type": "code",
   "execution_count": 73,
   "metadata": {
    "colab": {
     "base_uri": "https://localhost:8080/",
     "height": 204
    },
    "id": "wtjHtNj4K0bh",
    "outputId": "e1f0d75a-1940-4138-eb9f-1d429b4ddf8b"
   },
   "outputs": [
    {
     "data": {
      "text/html": [
       "<div>\n",
       "<style scoped>\n",
       "    .dataframe tbody tr th:only-of-type {\n",
       "        vertical-align: middle;\n",
       "    }\n",
       "\n",
       "    .dataframe tbody tr th {\n",
       "        vertical-align: top;\n",
       "    }\n",
       "\n",
       "    .dataframe thead th {\n",
       "        text-align: right;\n",
       "    }\n",
       "</style>\n",
       "<table border=\"1\" class=\"dataframe\">\n",
       "  <thead>\n",
       "    <tr style=\"text-align: right;\">\n",
       "      <th></th>\n",
       "      <th>p_val</th>\n",
       "    </tr>\n",
       "  </thead>\n",
       "  <tbody>\n",
       "    <tr>\n",
       "      <th>3-formylindole</th>\n",
       "      <td>0.000202</td>\n",
       "    </tr>\n",
       "    <tr>\n",
       "      <th>sphingomyelin (d18:1/24:1, d18:2/24:0)*</th>\n",
       "      <td>0.000236</td>\n",
       "    </tr>\n",
       "    <tr>\n",
       "      <th>N-acetylthreonine</th>\n",
       "      <td>0.000295</td>\n",
       "    </tr>\n",
       "    <tr>\n",
       "      <th>cystathionine</th>\n",
       "      <td>0.000448</td>\n",
       "    </tr>\n",
       "    <tr>\n",
       "      <th>N-acetylcitrulline</th>\n",
       "      <td>0.000475</td>\n",
       "    </tr>\n",
       "  </tbody>\n",
       "</table>\n",
       "</div>"
      ],
      "text/plain": [
       "                                            p_val\n",
       "3-formylindole                           0.000202\n",
       "sphingomyelin (d18:1/24:1, d18:2/24:0)*  0.000236\n",
       "N-acetylthreonine                        0.000295\n",
       "cystathionine                            0.000448\n",
       "N-acetylcitrulline                       0.000475"
      ]
     },
     "execution_count": 73,
     "metadata": {
      "tags": []
     },
     "output_type": "execute_result"
    }
   ],
   "source": [
    "p_vals_m2_sex.nsmallest(5, 'p_val')"
   ]
  },
  {
   "cell_type": "code",
   "execution_count": 74,
   "metadata": {
    "colab": {
     "base_uri": "https://localhost:8080/",
     "height": 204
    },
    "id": "v4yhp-t_6w3_",
    "outputId": "84f77313-cdc0-4970-dc7d-d8b207e1887b"
   },
   "outputs": [
    {
     "data": {
      "text/html": [
       "<div>\n",
       "<style scoped>\n",
       "    .dataframe tbody tr th:only-of-type {\n",
       "        vertical-align: middle;\n",
       "    }\n",
       "\n",
       "    .dataframe tbody tr th {\n",
       "        vertical-align: top;\n",
       "    }\n",
       "\n",
       "    .dataframe thead th {\n",
       "        text-align: right;\n",
       "    }\n",
       "</style>\n",
       "<table border=\"1\" class=\"dataframe\">\n",
       "  <thead>\n",
       "    <tr style=\"text-align: right;\">\n",
       "      <th></th>\n",
       "      <th>p_val</th>\n",
       "    </tr>\n",
       "  </thead>\n",
       "  <tbody>\n",
       "    <tr>\n",
       "      <th>3-formylindole</th>\n",
       "      <td>0.077028</td>\n",
       "    </tr>\n",
       "    <tr>\n",
       "      <th>heneicosapentaenoate (21:5n3)</th>\n",
       "      <td>0.077028</td>\n",
       "    </tr>\n",
       "    <tr>\n",
       "      <th>indolelactate</th>\n",
       "      <td>0.077028</td>\n",
       "    </tr>\n",
       "    <tr>\n",
       "      <th>N-acetylcitrulline</th>\n",
       "      <td>0.077028</td>\n",
       "    </tr>\n",
       "    <tr>\n",
       "      <th>N-acetylthreonine</th>\n",
       "      <td>0.077028</td>\n",
       "    </tr>\n",
       "  </tbody>\n",
       "</table>\n",
       "</div>"
      ],
      "text/plain": [
       "                                  p_val\n",
       "3-formylindole                 0.077028\n",
       "heneicosapentaenoate (21:5n3)  0.077028\n",
       "indolelactate                  0.077028\n",
       "N-acetylcitrulline             0.077028\n",
       "N-acetylthreonine              0.077028"
      ]
     },
     "execution_count": 74,
     "metadata": {
      "tags": []
     },
     "output_type": "execute_result"
    }
   ],
   "source": [
    "correct(p_vals_m2_sex).nsmallest(5, 'p_val')"
   ]
  },
  {
   "cell_type": "markdown",
   "metadata": {
    "id": "b30wGmJ2K3Wi"
   },
   "source": [
    "Model 3"
   ]
  },
  {
   "cell_type": "code",
   "execution_count": 75,
   "metadata": {
    "id": "HZOjTLwtK1_V"
   },
   "outputs": [],
   "source": [
    "p_vals_m3_time = addBiochemicals(pd.read_csv('p_values/m3/p_vals_time.csv')).iloc[:, [1]]\n",
    "p_vals_m3_sex = addBiochemicals(pd.read_csv('p_values/m3/p_vals_sex.csv')).iloc[:, [1]]"
   ]
  },
  {
   "cell_type": "code",
   "execution_count": 76,
   "metadata": {
    "colab": {
     "base_uri": "https://localhost:8080/",
     "height": 204
    },
    "id": "Z_mwvFd3K6xJ",
    "outputId": "05139bb8-2134-4a01-949c-4e29eee78844"
   },
   "outputs": [
    {
     "data": {
      "text/html": [
       "<div>\n",
       "<style scoped>\n",
       "    .dataframe tbody tr th:only-of-type {\n",
       "        vertical-align: middle;\n",
       "    }\n",
       "\n",
       "    .dataframe tbody tr th {\n",
       "        vertical-align: top;\n",
       "    }\n",
       "\n",
       "    .dataframe thead th {\n",
       "        text-align: right;\n",
       "    }\n",
       "</style>\n",
       "<table border=\"1\" class=\"dataframe\">\n",
       "  <thead>\n",
       "    <tr style=\"text-align: right;\">\n",
       "      <th></th>\n",
       "      <th>p_val</th>\n",
       "    </tr>\n",
       "  </thead>\n",
       "  <tbody>\n",
       "    <tr>\n",
       "      <th>5-methyl-2'-deoxycytidine</th>\n",
       "      <td>0.000025</td>\n",
       "    </tr>\n",
       "    <tr>\n",
       "      <th>myristoleate (14:1n5)</th>\n",
       "      <td>0.000360</td>\n",
       "    </tr>\n",
       "    <tr>\n",
       "      <th>palmitoleoyl ethanolamide*</th>\n",
       "      <td>0.000600</td>\n",
       "    </tr>\n",
       "    <tr>\n",
       "      <th>N-acetyl-3-methylhistidine*</th>\n",
       "      <td>0.000762</td>\n",
       "    </tr>\n",
       "    <tr>\n",
       "      <th>pheophytin A</th>\n",
       "      <td>0.000826</td>\n",
       "    </tr>\n",
       "  </tbody>\n",
       "</table>\n",
       "</div>"
      ],
      "text/plain": [
       "                                p_val\n",
       "5-methyl-2'-deoxycytidine    0.000025\n",
       "myristoleate (14:1n5)        0.000360\n",
       "palmitoleoyl ethanolamide*   0.000600\n",
       "N-acetyl-3-methylhistidine*  0.000762\n",
       "pheophytin A                 0.000826"
      ]
     },
     "execution_count": 76,
     "metadata": {
      "tags": []
     },
     "output_type": "execute_result"
    }
   ],
   "source": [
    "p_vals_m3_time.nsmallest(5, 'p_val')"
   ]
  },
  {
   "cell_type": "code",
   "execution_count": 77,
   "metadata": {
    "colab": {
     "base_uri": "https://localhost:8080/",
     "height": 204
    },
    "id": "1iMlIJpm64Kn",
    "outputId": "f9c064db-bb00-4e49-d52e-5d5140dbd534"
   },
   "outputs": [
    {
     "data": {
      "text/html": [
       "<div>\n",
       "<style scoped>\n",
       "    .dataframe tbody tr th:only-of-type {\n",
       "        vertical-align: middle;\n",
       "    }\n",
       "\n",
       "    .dataframe tbody tr th {\n",
       "        vertical-align: top;\n",
       "    }\n",
       "\n",
       "    .dataframe thead th {\n",
       "        text-align: right;\n",
       "    }\n",
       "</style>\n",
       "<table border=\"1\" class=\"dataframe\">\n",
       "  <thead>\n",
       "    <tr style=\"text-align: right;\">\n",
       "      <th></th>\n",
       "      <th>p_val</th>\n",
       "    </tr>\n",
       "  </thead>\n",
       "  <tbody>\n",
       "    <tr>\n",
       "      <th>5-methyl-2'-deoxycytidine</th>\n",
       "      <td>0.020287</td>\n",
       "    </tr>\n",
       "    <tr>\n",
       "      <th>glycocholate sulfate</th>\n",
       "      <td>0.124464</td>\n",
       "    </tr>\n",
       "    <tr>\n",
       "      <th>myristoleate (14:1n5)</th>\n",
       "      <td>0.124464</td>\n",
       "    </tr>\n",
       "    <tr>\n",
       "      <th>N-acetyl-3-methylhistidine*</th>\n",
       "      <td>0.124464</td>\n",
       "    </tr>\n",
       "    <tr>\n",
       "      <th>palmitoleoyl ethanolamide*</th>\n",
       "      <td>0.124464</td>\n",
       "    </tr>\n",
       "  </tbody>\n",
       "</table>\n",
       "</div>"
      ],
      "text/plain": [
       "                                p_val\n",
       "5-methyl-2'-deoxycytidine    0.020287\n",
       "glycocholate sulfate         0.124464\n",
       "myristoleate (14:1n5)        0.124464\n",
       "N-acetyl-3-methylhistidine*  0.124464\n",
       "palmitoleoyl ethanolamide*   0.124464"
      ]
     },
     "execution_count": 77,
     "metadata": {
      "tags": []
     },
     "output_type": "execute_result"
    }
   ],
   "source": [
    "p_vals_m3_time_corrected = correct(p_vals_m3_time)\n",
    "p_vals_m3_time_corrected.nsmallest(5, 'p_val')"
   ]
  },
  {
   "cell_type": "code",
   "execution_count": 78,
   "metadata": {
    "colab": {
     "base_uri": "https://localhost:8080/",
     "height": 204
    },
    "id": "wwT0TYT7K80c",
    "outputId": "38f0999c-bf68-498d-9ac9-467f814e2b31"
   },
   "outputs": [
    {
     "data": {
      "text/html": [
       "<div>\n",
       "<style scoped>\n",
       "    .dataframe tbody tr th:only-of-type {\n",
       "        vertical-align: middle;\n",
       "    }\n",
       "\n",
       "    .dataframe tbody tr th {\n",
       "        vertical-align: top;\n",
       "    }\n",
       "\n",
       "    .dataframe thead th {\n",
       "        text-align: right;\n",
       "    }\n",
       "</style>\n",
       "<table border=\"1\" class=\"dataframe\">\n",
       "  <thead>\n",
       "    <tr style=\"text-align: right;\">\n",
       "      <th></th>\n",
       "      <th>p_val</th>\n",
       "    </tr>\n",
       "  </thead>\n",
       "  <tbody>\n",
       "    <tr>\n",
       "      <th>3-formylindole</th>\n",
       "      <td>0.000202</td>\n",
       "    </tr>\n",
       "    <tr>\n",
       "      <th>N-acetylcitrulline</th>\n",
       "      <td>0.000475</td>\n",
       "    </tr>\n",
       "    <tr>\n",
       "      <th>cysteine</th>\n",
       "      <td>0.000863</td>\n",
       "    </tr>\n",
       "    <tr>\n",
       "      <th>indolelactate</th>\n",
       "      <td>0.000978</td>\n",
       "    </tr>\n",
       "    <tr>\n",
       "      <th>maltose</th>\n",
       "      <td>0.001153</td>\n",
       "    </tr>\n",
       "  </tbody>\n",
       "</table>\n",
       "</div>"
      ],
      "text/plain": [
       "                       p_val\n",
       "3-formylindole      0.000202\n",
       "N-acetylcitrulline  0.000475\n",
       "cysteine            0.000863\n",
       "indolelactate       0.000978\n",
       "maltose             0.001153"
      ]
     },
     "execution_count": 78,
     "metadata": {
      "tags": []
     },
     "output_type": "execute_result"
    }
   ],
   "source": [
    "p_vals_m3_sex.nsmallest(5, 'p_val')"
   ]
  },
  {
   "cell_type": "code",
   "execution_count": 79,
   "metadata": {
    "colab": {
     "base_uri": "https://localhost:8080/",
     "height": 204
    },
    "id": "3HiFHbJL69BZ",
    "outputId": "7b6d8508-e1e6-4377-aa79-61126c1e93b2"
   },
   "outputs": [
    {
     "data": {
      "text/html": [
       "<div>\n",
       "<style scoped>\n",
       "    .dataframe tbody tr th:only-of-type {\n",
       "        vertical-align: middle;\n",
       "    }\n",
       "\n",
       "    .dataframe tbody tr th {\n",
       "        vertical-align: top;\n",
       "    }\n",
       "\n",
       "    .dataframe thead th {\n",
       "        text-align: right;\n",
       "    }\n",
       "</style>\n",
       "<table border=\"1\" class=\"dataframe\">\n",
       "  <thead>\n",
       "    <tr style=\"text-align: right;\">\n",
       "      <th></th>\n",
       "      <th>p_val</th>\n",
       "    </tr>\n",
       "  </thead>\n",
       "  <tbody>\n",
       "    <tr>\n",
       "      <th>3-formylindole</th>\n",
       "      <td>0.166308</td>\n",
       "    </tr>\n",
       "    <tr>\n",
       "      <th>indolelactate</th>\n",
       "      <td>0.166308</td>\n",
       "    </tr>\n",
       "    <tr>\n",
       "      <th>N-acetylcitrulline</th>\n",
       "      <td>0.166308</td>\n",
       "    </tr>\n",
       "    <tr>\n",
       "      <th>cysteine</th>\n",
       "      <td>0.166308</td>\n",
       "    </tr>\n",
       "    <tr>\n",
       "      <th>N-acetyl-3-methylhistidine*</th>\n",
       "      <td>0.166308</td>\n",
       "    </tr>\n",
       "  </tbody>\n",
       "</table>\n",
       "</div>"
      ],
      "text/plain": [
       "                                p_val\n",
       "3-formylindole               0.166308\n",
       "indolelactate                0.166308\n",
       "N-acetylcitrulline           0.166308\n",
       "cysteine                     0.166308\n",
       "N-acetyl-3-methylhistidine*  0.166308"
      ]
     },
     "execution_count": 79,
     "metadata": {
      "tags": []
     },
     "output_type": "execute_result"
    }
   ],
   "source": [
    "correct(p_vals_m3_sex).nsmallest(5, 'p_val')"
   ]
  },
  {
   "cell_type": "markdown",
   "metadata": {
    "id": "cWSkj9wUUU_E"
   },
   "source": [
    "## Export model 2 and 3 pvals"
   ]
  },
  {
   "cell_type": "code",
   "execution_count": 80,
   "metadata": {
    "colab": {
     "base_uri": "https://localhost:8080/",
     "height": 204
    },
    "id": "QXCyiT2LTeLN",
    "outputId": "0e44518a-a070-40de-ad1b-4e614c93b46c"
   },
   "outputs": [
    {
     "data": {
      "text/html": [
       "<div>\n",
       "<style scoped>\n",
       "    .dataframe tbody tr th:only-of-type {\n",
       "        vertical-align: middle;\n",
       "    }\n",
       "\n",
       "    .dataframe tbody tr th {\n",
       "        vertical-align: top;\n",
       "    }\n",
       "\n",
       "    .dataframe thead th {\n",
       "        text-align: right;\n",
       "    }\n",
       "</style>\n",
       "<table border=\"1\" class=\"dataframe\">\n",
       "  <thead>\n",
       "    <tr style=\"text-align: right;\">\n",
       "      <th></th>\n",
       "      <th>p_val</th>\n",
       "    </tr>\n",
       "  </thead>\n",
       "  <tbody>\n",
       "    <tr>\n",
       "      <th>2-isopropylmalate</th>\n",
       "      <td>0.088764</td>\n",
       "    </tr>\n",
       "    <tr>\n",
       "      <th>pheophytin A</th>\n",
       "      <td>0.088764</td>\n",
       "    </tr>\n",
       "    <tr>\n",
       "      <th>palmitoleoyl ethanolamide*</th>\n",
       "      <td>0.088764</td>\n",
       "    </tr>\n",
       "    <tr>\n",
       "      <th>serotonin</th>\n",
       "      <td>0.088764</td>\n",
       "    </tr>\n",
       "    <tr>\n",
       "      <th>N-acetyl-3-methylhistidine*</th>\n",
       "      <td>0.088764</td>\n",
       "    </tr>\n",
       "  </tbody>\n",
       "</table>\n",
       "</div>"
      ],
      "text/plain": [
       "                                p_val\n",
       "2-isopropylmalate            0.088764\n",
       "pheophytin A                 0.088764\n",
       "palmitoleoyl ethanolamide*   0.088764\n",
       "serotonin                    0.088764\n",
       "N-acetyl-3-methylhistidine*  0.088764"
      ]
     },
     "execution_count": 80,
     "metadata": {
      "tags": []
     },
     "output_type": "execute_result"
    }
   ],
   "source": [
    "model2_pvals = p_vals_m2_time_corrected.loc[p_vals_m2_time_corrected['p_val'] < 0.2].sort_values(by=['p_val'])\n",
    "model2_pvals.head()"
   ]
  },
  {
   "cell_type": "code",
   "execution_count": 81,
   "metadata": {
    "colab": {
     "base_uri": "https://localhost:8080/",
     "height": 204
    },
    "id": "3YbhFl4-VDWx",
    "outputId": "e2b4073d-28fb-4a1c-9c52-e85a4bc53ccc"
   },
   "outputs": [
    {
     "data": {
      "text/html": [
       "<div>\n",
       "<style scoped>\n",
       "    .dataframe tbody tr th:only-of-type {\n",
       "        vertical-align: middle;\n",
       "    }\n",
       "\n",
       "    .dataframe tbody tr th {\n",
       "        vertical-align: top;\n",
       "    }\n",
       "\n",
       "    .dataframe thead th {\n",
       "        text-align: right;\n",
       "    }\n",
       "</style>\n",
       "<table border=\"1\" class=\"dataframe\">\n",
       "  <thead>\n",
       "    <tr style=\"text-align: right;\">\n",
       "      <th></th>\n",
       "      <th>p_val</th>\n",
       "    </tr>\n",
       "  </thead>\n",
       "  <tbody>\n",
       "    <tr>\n",
       "      <th>5-methyl-2'-deoxycytidine</th>\n",
       "      <td>0.020287</td>\n",
       "    </tr>\n",
       "    <tr>\n",
       "      <th>myristoleate (14:1n5)</th>\n",
       "      <td>0.124464</td>\n",
       "    </tr>\n",
       "    <tr>\n",
       "      <th>N-acetyl-3-methylhistidine*</th>\n",
       "      <td>0.124464</td>\n",
       "    </tr>\n",
       "    <tr>\n",
       "      <th>glycocholate sulfate</th>\n",
       "      <td>0.124464</td>\n",
       "    </tr>\n",
       "    <tr>\n",
       "      <th>pheophytin A</th>\n",
       "      <td>0.124464</td>\n",
       "    </tr>\n",
       "  </tbody>\n",
       "</table>\n",
       "</div>"
      ],
      "text/plain": [
       "                                p_val\n",
       "5-methyl-2'-deoxycytidine    0.020287\n",
       "myristoleate (14:1n5)        0.124464\n",
       "N-acetyl-3-methylhistidine*  0.124464\n",
       "glycocholate sulfate         0.124464\n",
       "pheophytin A                 0.124464"
      ]
     },
     "execution_count": 81,
     "metadata": {
      "tags": []
     },
     "output_type": "execute_result"
    }
   ],
   "source": [
    "model3_pvals = p_vals_m3_time_corrected.loc[p_vals_m3_time_corrected['p_val'] < 0.2].sort_values(by=['p_val'])\n",
    "model3_pvals.head()"
   ]
  },
  {
   "cell_type": "code",
   "execution_count": 82,
   "metadata": {
    "colab": {
     "base_uri": "https://localhost:8080/"
    },
    "id": "BQi2BfOkWp7T",
    "outputId": "101fee96-b82a-43f1-e3f2-9ec535e4332c"
   },
   "outputs": [
    {
     "data": {
      "text/plain": [
       "(107, 118)"
      ]
     },
     "execution_count": 82,
     "metadata": {
      "tags": []
     },
     "output_type": "execute_result"
    }
   ],
   "source": [
    "len(model2_pvals), len(model3_pvals)"
   ]
  },
  {
   "cell_type": "code",
   "execution_count": 83,
   "metadata": {
    "id": "Thf_6NLnVH4f"
   },
   "outputs": [],
   "source": [
    "model2_pvals.to_csv('model2_pvals.csv')\n",
    "model3_pvals.to_csv('model3_pvals.csv')"
   ]
  }
 ],
 "metadata": {
  "colab": {
   "collapsed_sections": [],
   "name": "FecalMetabolomics5.ipynb",
   "provenance": [],
   "toc_visible": true
  },
  "kernelspec": {
   "display_name": "Python 3",
   "language": "python",
   "name": "python3"
  },
  "language_info": {
   "codemirror_mode": {
    "name": "ipython",
    "version": 3
   },
   "file_extension": ".py",
   "mimetype": "text/x-python",
   "name": "python",
   "nbconvert_exporter": "python",
   "pygments_lexer": "ipython3",
   "version": "3.8.5"
  }
 },
 "nbformat": 4,
 "nbformat_minor": 1
}
